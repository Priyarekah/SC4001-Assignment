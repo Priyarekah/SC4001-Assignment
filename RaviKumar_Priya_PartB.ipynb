{
 "cells": [
  {
   "cell_type": "markdown",
   "metadata": {
    "id": "jnRX6LUnqBpw"
   },
   "source": [
    "CS4001/4042 Assignment 1\n",
    "---\n",
    "Part B, Q1 (15 marks)\n",
    "---\n",
    "\n",
    "Real world datasets often have a mix of numeric and categorical features – this dataset is one example. To build models on such data, categorical features have to be encoded or embedded.\n",
    "\n",
    "PyTorch Tabular is a library that makes it very convenient to build neural networks for tabular data. It is built on top of PyTorch Lightning, which abstracts away boilerplate model training code and makes it easy to integrate other tools, e.g. TensorBoard for experiment tracking.\n",
    "\n",
    "For questions B1 and B2, the following features should be used:   \n",
    "- **Numeric / Continuous** features: dist_to_nearest_stn, dist_to_dhoby, degree_centrality, eigenvector_centrality, remaining_lease_years, floor_area_sqm\n",
    "- **Categorical** features: month, town, flat_model_type, storey_range"
   ]
  },
  {
   "cell_type": "markdown",
   "metadata": {},
   "source": [
    "\n",
    "\n",
    "---\n",
    "\n"
   ]
  },
  {
   "cell_type": "code",
   "execution_count": 11,
   "metadata": {
    "id": "jA67PbIY3PnH"
   },
   "outputs": [
    {
     "name": "stdout",
     "output_type": "stream",
     "text": [
      "Requirement already satisfied: pytorch_tabular[extra] in /home/priya/.local/lib/python3.10/site-packages (1.1.1)\n",
      "Requirement already satisfied: torch>=1.11.0 in /home/priya/.local/lib/python3.10/site-packages (from pytorch_tabular[extra]) (2.4.1)\n",
      "Requirement already satisfied: numpy<2.0,>1.20.0 in /home/priya/.local/lib/python3.10/site-packages (from pytorch_tabular[extra]) (1.26.4)\n",
      "Requirement already satisfied: pandas>=1.1.5 in /home/priya/.local/lib/python3.10/site-packages (from pytorch_tabular[extra]) (1.5.3)\n",
      "Requirement already satisfied: scikit-learn>=1.3.0 in /home/priya/.local/lib/python3.10/site-packages (from pytorch_tabular[extra]) (1.5.2)\n",
      "Requirement already satisfied: pytorch-lightning<2.5.0,>=2.0.0 in /home/priya/.local/lib/python3.10/site-packages (from pytorch_tabular[extra]) (2.4.0)\n",
      "Requirement already satisfied: omegaconf>=2.3.0 in /home/priya/.local/lib/python3.10/site-packages (from pytorch_tabular[extra]) (2.3.0)\n",
      "Requirement already satisfied: torchmetrics<1.6.0,>=0.10.0 in /home/priya/.local/lib/python3.10/site-packages (from pytorch_tabular[extra]) (1.5.2)\n",
      "Requirement already satisfied: tensorboard!=2.5.0,>2.2.0 in /home/priya/.local/lib/python3.10/site-packages (from pytorch_tabular[extra]) (2.17.1)\n",
      "Requirement already satisfied: protobuf<5.29.0,>=3.20.0 in /home/priya/.local/lib/python3.10/site-packages (from pytorch_tabular[extra]) (3.20.3)\n",
      "Requirement already satisfied: pytorch-tabnet==4.1 in /home/priya/.local/lib/python3.10/site-packages (from pytorch_tabular[extra]) (4.1.0)\n",
      "Requirement already satisfied: PyYAML<6.1.0,>=5.4 in /usr/lib/python3/dist-packages (from pytorch_tabular[extra]) (5.4.1)\n",
      "Requirement already satisfied: matplotlib>3.1 in /home/priya/.local/lib/python3.10/site-packages (from pytorch_tabular[extra]) (3.10.0)\n",
      "Requirement already satisfied: ipywidgets in /home/priya/.local/lib/python3.10/site-packages (from pytorch_tabular[extra]) (8.1.5)\n",
      "Requirement already satisfied: einops<0.8.0,>=0.6.0 in /home/priya/.local/lib/python3.10/site-packages (from pytorch_tabular[extra]) (0.7.0)\n",
      "Requirement already satisfied: rich>=11.0.0 in /home/priya/.local/lib/python3.10/site-packages (from pytorch_tabular[extra]) (13.9.2)\n",
      "Requirement already satisfied: wandb<0.19.0,>=0.15.0 in /home/priya/.local/lib/python3.10/site-packages (from pytorch_tabular[extra]) (0.18.7)\n",
      "Requirement already satisfied: plotly<5.25.0,>=5.13.0 in /home/priya/.local/lib/python3.10/site-packages (from pytorch_tabular[extra]) (5.24.1)\n",
      "Requirement already satisfied: kaleido<0.3.0,>=0.2.0 in /home/priya/.local/lib/python3.10/site-packages (from pytorch_tabular[extra]) (0.2.1)\n",
      "Requirement already satisfied: captum<0.8.0,>=0.5.0 in /home/priya/.local/lib/python3.10/site-packages (from pytorch_tabular[extra]) (0.7.0)\n",
      "Requirement already satisfied: scipy>1.4 in /home/priya/.local/lib/python3.10/site-packages (from pytorch-tabnet==4.1->pytorch_tabular[extra]) (1.12.0)\n",
      "Requirement already satisfied: tqdm>=4.36 in /home/priya/.local/lib/python3.10/site-packages (from pytorch-tabnet==4.1->pytorch_tabular[extra]) (4.66.5)\n",
      "Requirement already satisfied: contourpy>=1.0.1 in /home/priya/.local/lib/python3.10/site-packages (from matplotlib>3.1->pytorch_tabular[extra]) (1.3.0)\n",
      "Requirement already satisfied: cycler>=0.10 in /home/priya/.local/lib/python3.10/site-packages (from matplotlib>3.1->pytorch_tabular[extra]) (0.12.1)\n",
      "Requirement already satisfied: fonttools>=4.22.0 in /home/priya/.local/lib/python3.10/site-packages (from matplotlib>3.1->pytorch_tabular[extra]) (4.54.1)\n",
      "Requirement already satisfied: kiwisolver>=1.3.1 in /home/priya/.local/lib/python3.10/site-packages (from matplotlib>3.1->pytorch_tabular[extra]) (1.4.7)\n",
      "Requirement already satisfied: packaging>=20.0 in /home/priya/.local/lib/python3.10/site-packages (from matplotlib>3.1->pytorch_tabular[extra]) (23.2)\n",
      "Requirement already satisfied: pillow>=8 in /home/priya/.local/lib/python3.10/site-packages (from matplotlib>3.1->pytorch_tabular[extra]) (9.5.0)\n",
      "Requirement already satisfied: pyparsing>=2.3.1 in /home/priya/.local/lib/python3.10/site-packages (from matplotlib>3.1->pytorch_tabular[extra]) (3.2.0)\n",
      "Requirement already satisfied: python-dateutil>=2.7 in /home/priya/.local/lib/python3.10/site-packages (from matplotlib>3.1->pytorch_tabular[extra]) (2.9.0.post0)\n",
      "Requirement already satisfied: antlr4-python3-runtime==4.9.* in /home/priya/.local/lib/python3.10/site-packages (from omegaconf>=2.3.0->pytorch_tabular[extra]) (4.9.3)\n",
      "Requirement already satisfied: pytz>=2020.1 in /home/priya/.local/lib/python3.10/site-packages (from pandas>=1.1.5->pytorch_tabular[extra]) (2024.2)\n",
      "Requirement already satisfied: tenacity>=6.2.0 in /home/priya/.local/lib/python3.10/site-packages (from plotly<5.25.0,>=5.13.0->pytorch_tabular[extra]) (9.0.0)\n",
      "Requirement already satisfied: fsspec>=2022.5.0 in /home/priya/.local/lib/python3.10/site-packages (from fsspec[http]>=2022.5.0->pytorch-lightning<2.5.0,>=2.0.0->pytorch_tabular[extra]) (2024.6.1)\n",
      "Requirement already satisfied: typing-extensions>=4.4.0 in /home/priya/.local/lib/python3.10/site-packages (from pytorch-lightning<2.5.0,>=2.0.0->pytorch_tabular[extra]) (4.12.2)\n",
      "Requirement already satisfied: lightning-utilities>=0.10.0 in /home/priya/.local/lib/python3.10/site-packages (from pytorch-lightning<2.5.0,>=2.0.0->pytorch_tabular[extra]) (0.14.0)\n",
      "Requirement already satisfied: markdown-it-py>=2.2.0 in /home/priya/.local/lib/python3.10/site-packages (from rich>=11.0.0->pytorch_tabular[extra]) (3.0.0)\n",
      "Requirement already satisfied: pygments<3.0.0,>=2.13.0 in /home/priya/.local/lib/python3.10/site-packages (from rich>=11.0.0->pytorch_tabular[extra]) (2.18.0)\n",
      "Requirement already satisfied: joblib>=1.2.0 in /home/priya/.local/lib/python3.10/site-packages (from scikit-learn>=1.3.0->pytorch_tabular[extra]) (1.4.2)\n",
      "Requirement already satisfied: threadpoolctl>=3.1.0 in /home/priya/.local/lib/python3.10/site-packages (from scikit-learn>=1.3.0->pytorch_tabular[extra]) (3.5.0)\n",
      "Requirement already satisfied: absl-py>=0.4 in /home/priya/.local/lib/python3.10/site-packages (from tensorboard!=2.5.0,>2.2.0->pytorch_tabular[extra]) (2.1.0)\n",
      "Requirement already satisfied: grpcio>=1.48.2 in /home/priya/.local/lib/python3.10/site-packages (from tensorboard!=2.5.0,>2.2.0->pytorch_tabular[extra]) (1.66.2)\n",
      "Requirement already satisfied: markdown>=2.6.8 in /home/priya/.local/lib/python3.10/site-packages (from tensorboard!=2.5.0,>2.2.0->pytorch_tabular[extra]) (3.7)\n",
      "Requirement already satisfied: setuptools>=41.0.0 in /usr/lib/python3/dist-packages (from tensorboard!=2.5.0,>2.2.0->pytorch_tabular[extra]) (59.6.0)\n",
      "Requirement already satisfied: six>1.9 in /usr/lib/python3/dist-packages (from tensorboard!=2.5.0,>2.2.0->pytorch_tabular[extra]) (1.16.0)\n",
      "Requirement already satisfied: tensorboard-data-server<0.8.0,>=0.7.0 in /home/priya/.local/lib/python3.10/site-packages (from tensorboard!=2.5.0,>2.2.0->pytorch_tabular[extra]) (0.7.2)\n",
      "Requirement already satisfied: werkzeug>=1.0.1 in /home/priya/.local/lib/python3.10/site-packages (from tensorboard!=2.5.0,>2.2.0->pytorch_tabular[extra]) (3.0.4)\n",
      "Requirement already satisfied: filelock in /home/priya/.local/lib/python3.10/site-packages (from torch>=1.11.0->pytorch_tabular[extra]) (3.17.0)\n",
      "Requirement already satisfied: sympy in /home/priya/.local/lib/python3.10/site-packages (from torch>=1.11.0->pytorch_tabular[extra]) (1.13.1)\n",
      "Requirement already satisfied: networkx in /home/priya/.local/lib/python3.10/site-packages (from torch>=1.11.0->pytorch_tabular[extra]) (3.4.1)\n",
      "Requirement already satisfied: jinja2 in /home/priya/.local/lib/python3.10/site-packages (from torch>=1.11.0->pytorch_tabular[extra]) (3.1.4)\n",
      "Requirement already satisfied: nvidia-cuda-nvrtc-cu12==12.1.105 in /home/priya/.local/lib/python3.10/site-packages (from torch>=1.11.0->pytorch_tabular[extra]) (12.1.105)\n",
      "Requirement already satisfied: nvidia-cuda-runtime-cu12==12.1.105 in /home/priya/.local/lib/python3.10/site-packages (from torch>=1.11.0->pytorch_tabular[extra]) (12.1.105)\n",
      "Requirement already satisfied: nvidia-cuda-cupti-cu12==12.1.105 in /home/priya/.local/lib/python3.10/site-packages (from torch>=1.11.0->pytorch_tabular[extra]) (12.1.105)\n",
      "Requirement already satisfied: nvidia-cudnn-cu12==9.1.0.70 in /home/priya/.local/lib/python3.10/site-packages (from torch>=1.11.0->pytorch_tabular[extra]) (9.1.0.70)\n",
      "Requirement already satisfied: nvidia-cublas-cu12==12.1.3.1 in /home/priya/.local/lib/python3.10/site-packages (from torch>=1.11.0->pytorch_tabular[extra]) (12.1.3.1)\n",
      "Requirement already satisfied: nvidia-cufft-cu12==11.0.2.54 in /home/priya/.local/lib/python3.10/site-packages (from torch>=1.11.0->pytorch_tabular[extra]) (11.0.2.54)\n",
      "Requirement already satisfied: nvidia-curand-cu12==10.3.2.106 in /home/priya/.local/lib/python3.10/site-packages (from torch>=1.11.0->pytorch_tabular[extra]) (10.3.2.106)\n",
      "Requirement already satisfied: nvidia-cusolver-cu12==11.4.5.107 in /home/priya/.local/lib/python3.10/site-packages (from torch>=1.11.0->pytorch_tabular[extra]) (11.4.5.107)\n",
      "Requirement already satisfied: nvidia-cusparse-cu12==12.1.0.106 in /home/priya/.local/lib/python3.10/site-packages (from torch>=1.11.0->pytorch_tabular[extra]) (12.1.0.106)\n",
      "Requirement already satisfied: nvidia-nccl-cu12==2.20.5 in /home/priya/.local/lib/python3.10/site-packages (from torch>=1.11.0->pytorch_tabular[extra]) (2.20.5)\n",
      "Requirement already satisfied: nvidia-nvtx-cu12==12.1.105 in /home/priya/.local/lib/python3.10/site-packages (from torch>=1.11.0->pytorch_tabular[extra]) (12.1.105)\n",
      "Requirement already satisfied: triton==3.0.0 in /home/priya/.local/lib/python3.10/site-packages (from torch>=1.11.0->pytorch_tabular[extra]) (3.0.0)\n",
      "Requirement already satisfied: nvidia-nvjitlink-cu12 in /home/priya/.local/lib/python3.10/site-packages (from nvidia-cusolver-cu12==11.4.5.107->torch>=1.11.0->pytorch_tabular[extra]) (12.4.127)\n",
      "Requirement already satisfied: click!=8.0.0,>=7.1 in /usr/lib/python3/dist-packages (from wandb<0.19.0,>=0.15.0->pytorch_tabular[extra]) (8.0.3)\n",
      "Requirement already satisfied: docker-pycreds>=0.4.0 in /home/priya/.local/lib/python3.10/site-packages (from wandb<0.19.0,>=0.15.0->pytorch_tabular[extra]) (0.4.0)\n",
      "Requirement already satisfied: gitpython!=3.1.29,>=1.0.0 in /home/priya/.local/lib/python3.10/site-packages (from wandb<0.19.0,>=0.15.0->pytorch_tabular[extra]) (3.1.43)\n",
      "Requirement already satisfied: platformdirs in /home/priya/.local/lib/python3.10/site-packages (from wandb<0.19.0,>=0.15.0->pytorch_tabular[extra]) (4.3.6)\n",
      "Requirement already satisfied: psutil>=5.0.0 in /usr/lib/python3/dist-packages (from wandb<0.19.0,>=0.15.0->pytorch_tabular[extra]) (5.9.0)\n",
      "Requirement already satisfied: requests<3,>=2.0.0 in /home/priya/.local/lib/python3.10/site-packages (from wandb<0.19.0,>=0.15.0->pytorch_tabular[extra]) (2.32.3)\n",
      "Requirement already satisfied: sentry-sdk>=2.0.0 in /home/priya/.local/lib/python3.10/site-packages (from wandb<0.19.0,>=0.15.0->pytorch_tabular[extra]) (2.22.0)\n",
      "Requirement already satisfied: setproctitle in /home/priya/.local/lib/python3.10/site-packages (from wandb<0.19.0,>=0.15.0->pytorch_tabular[extra]) (1.3.5)\n",
      "Requirement already satisfied: comm>=0.1.3 in /home/priya/.local/lib/python3.10/site-packages (from ipywidgets->pytorch_tabular[extra]) (0.2.2)\n",
      "Requirement already satisfied: ipython>=6.1.0 in /home/priya/.local/lib/python3.10/site-packages (from ipywidgets->pytorch_tabular[extra]) (8.27.0)\n",
      "Requirement already satisfied: traitlets>=4.3.1 in /home/priya/.local/lib/python3.10/site-packages (from ipywidgets->pytorch_tabular[extra]) (5.14.3)\n",
      "Requirement already satisfied: widgetsnbextension~=4.0.12 in /home/priya/.local/lib/python3.10/site-packages (from ipywidgets->pytorch_tabular[extra]) (4.0.13)\n",
      "Requirement already satisfied: jupyterlab-widgets~=3.0.12 in /home/priya/.local/lib/python3.10/site-packages (from ipywidgets->pytorch_tabular[extra]) (3.0.13)\n",
      "Requirement already satisfied: aiohttp!=4.0.0a0,!=4.0.0a1 in /home/priya/.local/lib/python3.10/site-packages (from fsspec[http]>=2022.5.0->pytorch-lightning<2.5.0,>=2.0.0->pytorch_tabular[extra]) (3.11.11)\n",
      "Requirement already satisfied: gitdb<5,>=4.0.1 in /home/priya/.local/lib/python3.10/site-packages (from gitpython!=3.1.29,>=1.0.0->wandb<0.19.0,>=0.15.0->pytorch_tabular[extra]) (4.0.11)\n",
      "Requirement already satisfied: decorator in /home/priya/.local/lib/python3.10/site-packages (from ipython>=6.1.0->ipywidgets->pytorch_tabular[extra]) (5.1.1)\n",
      "Requirement already satisfied: jedi>=0.16 in /home/priya/.local/lib/python3.10/site-packages (from ipython>=6.1.0->ipywidgets->pytorch_tabular[extra]) (0.19.1)\n",
      "Requirement already satisfied: matplotlib-inline in /home/priya/.local/lib/python3.10/site-packages (from ipython>=6.1.0->ipywidgets->pytorch_tabular[extra]) (0.1.7)\n",
      "Requirement already satisfied: prompt-toolkit<3.1.0,>=3.0.41 in /home/priya/.local/lib/python3.10/site-packages (from ipython>=6.1.0->ipywidgets->pytorch_tabular[extra]) (3.0.47)\n",
      "Requirement already satisfied: stack-data in /home/priya/.local/lib/python3.10/site-packages (from ipython>=6.1.0->ipywidgets->pytorch_tabular[extra]) (0.6.3)\n",
      "Requirement already satisfied: exceptiongroup in /home/priya/.local/lib/python3.10/site-packages (from ipython>=6.1.0->ipywidgets->pytorch_tabular[extra]) (1.2.2)\n",
      "Requirement already satisfied: pexpect>4.3 in /usr/lib/python3/dist-packages (from ipython>=6.1.0->ipywidgets->pytorch_tabular[extra]) (4.8.0)\n",
      "Requirement already satisfied: mdurl~=0.1 in /home/priya/.local/lib/python3.10/site-packages (from markdown-it-py>=2.2.0->rich>=11.0.0->pytorch_tabular[extra]) (0.1.2)\n",
      "Requirement already satisfied: charset-normalizer<4,>=2 in /home/priya/.local/lib/python3.10/site-packages (from requests<3,>=2.0.0->wandb<0.19.0,>=0.15.0->pytorch_tabular[extra]) (3.4.0)\n",
      "Requirement already satisfied: idna<4,>=2.5 in /home/priya/.local/lib/python3.10/site-packages (from requests<3,>=2.0.0->wandb<0.19.0,>=0.15.0->pytorch_tabular[extra]) (3.10)\n",
      "Requirement already satisfied: urllib3<3,>=1.21.1 in /home/priya/.local/lib/python3.10/site-packages (from requests<3,>=2.0.0->wandb<0.19.0,>=0.15.0->pytorch_tabular[extra]) (1.26.20)\n",
      "Requirement already satisfied: certifi>=2017.4.17 in /home/priya/.local/lib/python3.10/site-packages (from requests<3,>=2.0.0->wandb<0.19.0,>=0.15.0->pytorch_tabular[extra]) (2024.8.30)\n",
      "Requirement already satisfied: MarkupSafe>=2.1.1 in /home/priya/.local/lib/python3.10/site-packages (from werkzeug>=1.0.1->tensorboard!=2.5.0,>2.2.0->pytorch_tabular[extra]) (3.0.1)\n",
      "Requirement already satisfied: mpmath<1.4,>=1.1.0 in /home/priya/.local/lib/python3.10/site-packages (from sympy->torch>=1.11.0->pytorch_tabular[extra]) (1.3.0)\n",
      "Requirement already satisfied: aiohappyeyeballs>=2.3.0 in /home/priya/.local/lib/python3.10/site-packages (from aiohttp!=4.0.0a0,!=4.0.0a1->fsspec[http]>=2022.5.0->pytorch-lightning<2.5.0,>=2.0.0->pytorch_tabular[extra]) (2.4.3)\n",
      "Requirement already satisfied: aiosignal>=1.1.2 in /home/priya/.local/lib/python3.10/site-packages (from aiohttp!=4.0.0a0,!=4.0.0a1->fsspec[http]>=2022.5.0->pytorch-lightning<2.5.0,>=2.0.0->pytorch_tabular[extra]) (1.3.1)\n",
      "Requirement already satisfied: async-timeout<6.0,>=4.0 in /home/priya/.local/lib/python3.10/site-packages (from aiohttp!=4.0.0a0,!=4.0.0a1->fsspec[http]>=2022.5.0->pytorch-lightning<2.5.0,>=2.0.0->pytorch_tabular[extra]) (4.0.3)\n",
      "Requirement already satisfied: attrs>=17.3.0 in /home/priya/.local/lib/python3.10/site-packages (from aiohttp!=4.0.0a0,!=4.0.0a1->fsspec[http]>=2022.5.0->pytorch-lightning<2.5.0,>=2.0.0->pytorch_tabular[extra]) (24.2.0)\n",
      "Requirement already satisfied: frozenlist>=1.1.1 in /home/priya/.local/lib/python3.10/site-packages (from aiohttp!=4.0.0a0,!=4.0.0a1->fsspec[http]>=2022.5.0->pytorch-lightning<2.5.0,>=2.0.0->pytorch_tabular[extra]) (1.4.1)\n",
      "Requirement already satisfied: multidict<7.0,>=4.5 in /home/priya/.local/lib/python3.10/site-packages (from aiohttp!=4.0.0a0,!=4.0.0a1->fsspec[http]>=2022.5.0->pytorch-lightning<2.5.0,>=2.0.0->pytorch_tabular[extra]) (6.1.0)\n",
      "Requirement already satisfied: propcache>=0.2.0 in /home/priya/.local/lib/python3.10/site-packages (from aiohttp!=4.0.0a0,!=4.0.0a1->fsspec[http]>=2022.5.0->pytorch-lightning<2.5.0,>=2.0.0->pytorch_tabular[extra]) (0.2.0)\n",
      "Requirement already satisfied: yarl<2.0,>=1.17.0 in /home/priya/.local/lib/python3.10/site-packages (from aiohttp!=4.0.0a0,!=4.0.0a1->fsspec[http]>=2022.5.0->pytorch-lightning<2.5.0,>=2.0.0->pytorch_tabular[extra]) (1.18.3)\n",
      "Requirement already satisfied: smmap<6,>=3.0.1 in /home/priya/.local/lib/python3.10/site-packages (from gitdb<5,>=4.0.1->gitpython!=3.1.29,>=1.0.0->wandb<0.19.0,>=0.15.0->pytorch_tabular[extra]) (5.0.1)\n",
      "Requirement already satisfied: parso<0.9.0,>=0.8.3 in /home/priya/.local/lib/python3.10/site-packages (from jedi>=0.16->ipython>=6.1.0->ipywidgets->pytorch_tabular[extra]) (0.8.4)\n",
      "Requirement already satisfied: wcwidth in /home/priya/.local/lib/python3.10/site-packages (from prompt-toolkit<3.1.0,>=3.0.41->ipython>=6.1.0->ipywidgets->pytorch_tabular[extra]) (0.2.13)\n",
      "Requirement already satisfied: executing>=1.2.0 in /home/priya/.local/lib/python3.10/site-packages (from stack-data->ipython>=6.1.0->ipywidgets->pytorch_tabular[extra]) (2.1.0)\n",
      "Requirement already satisfied: asttokens>=2.1.0 in /home/priya/.local/lib/python3.10/site-packages (from stack-data->ipython>=6.1.0->ipywidgets->pytorch_tabular[extra]) (2.4.1)\n",
      "Requirement already satisfied: pure-eval in /home/priya/.local/lib/python3.10/site-packages (from stack-data->ipython>=6.1.0->ipywidgets->pytorch_tabular[extra]) (0.2.3)\n",
      "Note: you may need to restart the kernel to use updated packages.\n"
     ]
    }
   ],
   "source": [
    "pip install pytorch_tabular[extra] --user"
   ]
  },
  {
   "cell_type": "code",
   "execution_count": 12,
   "metadata": {
    "id": "Jr6P3U7w3NVl"
   },
   "outputs": [],
   "source": [
    "SEED = 42\n",
    "\n",
    "import os\n",
    "\n",
    "import random\n",
    "random.seed(SEED)\n",
    "\n",
    "import numpy as np\n",
    "np.random.seed(SEED)\n",
    "\n",
    "import pandas as pd\n",
    "\n",
    "from pytorch_tabular import TabularModel\n",
    "from pytorch_tabular.models import CategoryEmbeddingModelConfig\n",
    "from pytorch_tabular.config import (\n",
    "    DataConfig,\n",
    "    OptimizerConfig,\n",
    "    TrainerConfig,\n",
    ")"
   ]
  },
  {
   "cell_type": "markdown",
   "metadata": {
    "id": "zGyEWcVlqKTz"
   },
   "source": [
    "> Divide the dataset (‘hdb_price_prediction.csv’) into train and test sets by using entries from year 2020 and before as training data, and year 2021 as test data (validation set is not required).\n",
    "**Do not** use data from year 2022 and year 2023.\n",
    "\n"
   ]
  },
  {
   "cell_type": "code",
   "execution_count": 13,
   "metadata": {
    "id": "hoCPcOWupw5Y"
   },
   "outputs": [],
   "source": [
    "df = pd.read_csv('hdb_price_prediction.csv')\n",
    "#data cleaning with the requiremnts of the ques\n",
    "train_df = df[df[\"year\"] <= 2019]\n",
    "val_df = df[df[\"year\"] == 2020]\n",
    "test_df = df[df[\"year\"] == 2021]"
   ]
  },
  {
   "cell_type": "code",
   "execution_count": 14,
   "metadata": {},
   "outputs": [
    {
     "data": {
      "text/html": [
       "<div>\n",
       "<style scoped>\n",
       "    .dataframe tbody tr th:only-of-type {\n",
       "        vertical-align: middle;\n",
       "    }\n",
       "\n",
       "    .dataframe tbody tr th {\n",
       "        vertical-align: top;\n",
       "    }\n",
       "\n",
       "    .dataframe thead th {\n",
       "        text-align: right;\n",
       "    }\n",
       "</style>\n",
       "<table border=\"1\" class=\"dataframe\">\n",
       "  <thead>\n",
       "    <tr style=\"text-align: right;\">\n",
       "      <th></th>\n",
       "      <th>month</th>\n",
       "      <th>year</th>\n",
       "      <th>town</th>\n",
       "      <th>full_address</th>\n",
       "      <th>nearest_stn</th>\n",
       "      <th>dist_to_nearest_stn</th>\n",
       "      <th>dist_to_dhoby</th>\n",
       "      <th>degree_centrality</th>\n",
       "      <th>eigenvector_centrality</th>\n",
       "      <th>flat_model_type</th>\n",
       "      <th>remaining_lease_years</th>\n",
       "      <th>floor_area_sqm</th>\n",
       "      <th>storey_range</th>\n",
       "      <th>resale_price</th>\n",
       "    </tr>\n",
       "  </thead>\n",
       "  <tbody>\n",
       "    <tr>\n",
       "      <th>0</th>\n",
       "      <td>1</td>\n",
       "      <td>2017</td>\n",
       "      <td>ANG MO KIO</td>\n",
       "      <td>406 ANG MO KIO AVENUE 10</td>\n",
       "      <td>Ang Mo Kio</td>\n",
       "      <td>1.007264</td>\n",
       "      <td>7.006044</td>\n",
       "      <td>0.016807</td>\n",
       "      <td>0.006243</td>\n",
       "      <td>2 ROOM, Improved</td>\n",
       "      <td>61.333333</td>\n",
       "      <td>44.0</td>\n",
       "      <td>10 TO 12</td>\n",
       "      <td>232000.0</td>\n",
       "    </tr>\n",
       "    <tr>\n",
       "      <th>1</th>\n",
       "      <td>1</td>\n",
       "      <td>2017</td>\n",
       "      <td>ANG MO KIO</td>\n",
       "      <td>108 ANG MO KIO AVENUE 4</td>\n",
       "      <td>Ang Mo Kio</td>\n",
       "      <td>1.271389</td>\n",
       "      <td>7.983837</td>\n",
       "      <td>0.016807</td>\n",
       "      <td>0.006243</td>\n",
       "      <td>3 ROOM, New Generation</td>\n",
       "      <td>60.583333</td>\n",
       "      <td>67.0</td>\n",
       "      <td>01 TO 03</td>\n",
       "      <td>250000.0</td>\n",
       "    </tr>\n",
       "    <tr>\n",
       "      <th>2</th>\n",
       "      <td>1</td>\n",
       "      <td>2017</td>\n",
       "      <td>ANG MO KIO</td>\n",
       "      <td>602 ANG MO KIO AVENUE 5</td>\n",
       "      <td>Yio Chu Kang</td>\n",
       "      <td>1.069743</td>\n",
       "      <td>9.090700</td>\n",
       "      <td>0.016807</td>\n",
       "      <td>0.002459</td>\n",
       "      <td>3 ROOM, New Generation</td>\n",
       "      <td>62.416667</td>\n",
       "      <td>67.0</td>\n",
       "      <td>01 TO 03</td>\n",
       "      <td>262000.0</td>\n",
       "    </tr>\n",
       "    <tr>\n",
       "      <th>3</th>\n",
       "      <td>1</td>\n",
       "      <td>2017</td>\n",
       "      <td>ANG MO KIO</td>\n",
       "      <td>465 ANG MO KIO AVENUE 10</td>\n",
       "      <td>Ang Mo Kio</td>\n",
       "      <td>0.946890</td>\n",
       "      <td>7.519889</td>\n",
       "      <td>0.016807</td>\n",
       "      <td>0.006243</td>\n",
       "      <td>3 ROOM, New Generation</td>\n",
       "      <td>62.083333</td>\n",
       "      <td>68.0</td>\n",
       "      <td>04 TO 06</td>\n",
       "      <td>265000.0</td>\n",
       "    </tr>\n",
       "    <tr>\n",
       "      <th>4</th>\n",
       "      <td>1</td>\n",
       "      <td>2017</td>\n",
       "      <td>ANG MO KIO</td>\n",
       "      <td>601 ANG MO KIO AVENUE 5</td>\n",
       "      <td>Yio Chu Kang</td>\n",
       "      <td>1.092551</td>\n",
       "      <td>9.130489</td>\n",
       "      <td>0.016807</td>\n",
       "      <td>0.002459</td>\n",
       "      <td>3 ROOM, New Generation</td>\n",
       "      <td>62.416667</td>\n",
       "      <td>67.0</td>\n",
       "      <td>01 TO 03</td>\n",
       "      <td>265000.0</td>\n",
       "    </tr>\n",
       "    <tr>\n",
       "      <th>...</th>\n",
       "      <td>...</td>\n",
       "      <td>...</td>\n",
       "      <td>...</td>\n",
       "      <td>...</td>\n",
       "      <td>...</td>\n",
       "      <td>...</td>\n",
       "      <td>...</td>\n",
       "      <td>...</td>\n",
       "      <td>...</td>\n",
       "      <td>...</td>\n",
       "      <td>...</td>\n",
       "      <td>...</td>\n",
       "      <td>...</td>\n",
       "      <td>...</td>\n",
       "    </tr>\n",
       "    <tr>\n",
       "      <th>64052</th>\n",
       "      <td>12</td>\n",
       "      <td>2019</td>\n",
       "      <td>YISHUN</td>\n",
       "      <td>326 YISHUN RING ROAD</td>\n",
       "      <td>Yishun</td>\n",
       "      <td>0.823163</td>\n",
       "      <td>14.421823</td>\n",
       "      <td>0.016807</td>\n",
       "      <td>0.000382</td>\n",
       "      <td>EXECUTIVE, Apartment</td>\n",
       "      <td>67.583333</td>\n",
       "      <td>142.0</td>\n",
       "      <td>04 TO 06</td>\n",
       "      <td>580000.0</td>\n",
       "    </tr>\n",
       "    <tr>\n",
       "      <th>64053</th>\n",
       "      <td>12</td>\n",
       "      <td>2019</td>\n",
       "      <td>YISHUN</td>\n",
       "      <td>326 YISHUN RING ROAD</td>\n",
       "      <td>Yishun</td>\n",
       "      <td>0.823163</td>\n",
       "      <td>14.421823</td>\n",
       "      <td>0.016807</td>\n",
       "      <td>0.000382</td>\n",
       "      <td>EXECUTIVE, Maisonette</td>\n",
       "      <td>67.583333</td>\n",
       "      <td>146.0</td>\n",
       "      <td>07 TO 09</td>\n",
       "      <td>565000.0</td>\n",
       "    </tr>\n",
       "    <tr>\n",
       "      <th>64054</th>\n",
       "      <td>12</td>\n",
       "      <td>2019</td>\n",
       "      <td>YISHUN</td>\n",
       "      <td>608 YISHUN STREET 61</td>\n",
       "      <td>Khatib</td>\n",
       "      <td>0.445869</td>\n",
       "      <td>13.498243</td>\n",
       "      <td>0.016807</td>\n",
       "      <td>0.000968</td>\n",
       "      <td>EXECUTIVE, Apartment</td>\n",
       "      <td>71.500000</td>\n",
       "      <td>164.0</td>\n",
       "      <td>01 TO 03</td>\n",
       "      <td>633000.0</td>\n",
       "    </tr>\n",
       "    <tr>\n",
       "      <th>64055</th>\n",
       "      <td>12</td>\n",
       "      <td>2019</td>\n",
       "      <td>YISHUN</td>\n",
       "      <td>604 YISHUN STREET 61</td>\n",
       "      <td>Khatib</td>\n",
       "      <td>0.552769</td>\n",
       "      <td>13.598257</td>\n",
       "      <td>0.016807</td>\n",
       "      <td>0.000968</td>\n",
       "      <td>EXECUTIVE, Apartment</td>\n",
       "      <td>71.500000</td>\n",
       "      <td>164.0</td>\n",
       "      <td>10 TO 12</td>\n",
       "      <td>788888.0</td>\n",
       "    </tr>\n",
       "    <tr>\n",
       "      <th>64056</th>\n",
       "      <td>12</td>\n",
       "      <td>2019</td>\n",
       "      <td>YISHUN</td>\n",
       "      <td>877 YISHUN STREET 81</td>\n",
       "      <td>Khatib</td>\n",
       "      <td>0.475885</td>\n",
       "      <td>12.738721</td>\n",
       "      <td>0.016807</td>\n",
       "      <td>0.000968</td>\n",
       "      <td>EXECUTIVE, Maisonette</td>\n",
       "      <td>67.083333</td>\n",
       "      <td>145.0</td>\n",
       "      <td>07 TO 09</td>\n",
       "      <td>618000.0</td>\n",
       "    </tr>\n",
       "  </tbody>\n",
       "</table>\n",
       "<p>64057 rows × 14 columns</p>\n",
       "</div>"
      ],
      "text/plain": [
       "       month  year        town              full_address   nearest_stn  \\\n",
       "0          1  2017  ANG MO KIO  406 ANG MO KIO AVENUE 10    Ang Mo Kio   \n",
       "1          1  2017  ANG MO KIO   108 ANG MO KIO AVENUE 4    Ang Mo Kio   \n",
       "2          1  2017  ANG MO KIO   602 ANG MO KIO AVENUE 5  Yio Chu Kang   \n",
       "3          1  2017  ANG MO KIO  465 ANG MO KIO AVENUE 10    Ang Mo Kio   \n",
       "4          1  2017  ANG MO KIO   601 ANG MO KIO AVENUE 5  Yio Chu Kang   \n",
       "...      ...   ...         ...                       ...           ...   \n",
       "64052     12  2019      YISHUN      326 YISHUN RING ROAD        Yishun   \n",
       "64053     12  2019      YISHUN      326 YISHUN RING ROAD        Yishun   \n",
       "64054     12  2019      YISHUN      608 YISHUN STREET 61        Khatib   \n",
       "64055     12  2019      YISHUN      604 YISHUN STREET 61        Khatib   \n",
       "64056     12  2019      YISHUN      877 YISHUN STREET 81        Khatib   \n",
       "\n",
       "       dist_to_nearest_stn  dist_to_dhoby  degree_centrality  \\\n",
       "0                 1.007264       7.006044           0.016807   \n",
       "1                 1.271389       7.983837           0.016807   \n",
       "2                 1.069743       9.090700           0.016807   \n",
       "3                 0.946890       7.519889           0.016807   \n",
       "4                 1.092551       9.130489           0.016807   \n",
       "...                    ...            ...                ...   \n",
       "64052             0.823163      14.421823           0.016807   \n",
       "64053             0.823163      14.421823           0.016807   \n",
       "64054             0.445869      13.498243           0.016807   \n",
       "64055             0.552769      13.598257           0.016807   \n",
       "64056             0.475885      12.738721           0.016807   \n",
       "\n",
       "       eigenvector_centrality         flat_model_type  remaining_lease_years  \\\n",
       "0                    0.006243        2 ROOM, Improved              61.333333   \n",
       "1                    0.006243  3 ROOM, New Generation              60.583333   \n",
       "2                    0.002459  3 ROOM, New Generation              62.416667   \n",
       "3                    0.006243  3 ROOM, New Generation              62.083333   \n",
       "4                    0.002459  3 ROOM, New Generation              62.416667   \n",
       "...                       ...                     ...                    ...   \n",
       "64052                0.000382    EXECUTIVE, Apartment              67.583333   \n",
       "64053                0.000382   EXECUTIVE, Maisonette              67.583333   \n",
       "64054                0.000968    EXECUTIVE, Apartment              71.500000   \n",
       "64055                0.000968    EXECUTIVE, Apartment              71.500000   \n",
       "64056                0.000968   EXECUTIVE, Maisonette              67.083333   \n",
       "\n",
       "       floor_area_sqm storey_range  resale_price  \n",
       "0                44.0     10 TO 12      232000.0  \n",
       "1                67.0     01 TO 03      250000.0  \n",
       "2                67.0     01 TO 03      262000.0  \n",
       "3                68.0     04 TO 06      265000.0  \n",
       "4                67.0     01 TO 03      265000.0  \n",
       "...               ...          ...           ...  \n",
       "64052           142.0     04 TO 06      580000.0  \n",
       "64053           146.0     07 TO 09      565000.0  \n",
       "64054           164.0     01 TO 03      633000.0  \n",
       "64055           164.0     10 TO 12      788888.0  \n",
       "64056           145.0     07 TO 09      618000.0  \n",
       "\n",
       "[64057 rows x 14 columns]"
      ]
     },
     "execution_count": 14,
     "metadata": {},
     "output_type": "execute_result"
    }
   ],
   "source": [
    "train_df"
   ]
  },
  {
   "cell_type": "code",
   "execution_count": 15,
   "metadata": {},
   "outputs": [
    {
     "data": {
      "text/html": [
       "<div>\n",
       "<style scoped>\n",
       "    .dataframe tbody tr th:only-of-type {\n",
       "        vertical-align: middle;\n",
       "    }\n",
       "\n",
       "    .dataframe tbody tr th {\n",
       "        vertical-align: top;\n",
       "    }\n",
       "\n",
       "    .dataframe thead th {\n",
       "        text-align: right;\n",
       "    }\n",
       "</style>\n",
       "<table border=\"1\" class=\"dataframe\">\n",
       "  <thead>\n",
       "    <tr style=\"text-align: right;\">\n",
       "      <th></th>\n",
       "      <th>month</th>\n",
       "      <th>year</th>\n",
       "      <th>town</th>\n",
       "      <th>full_address</th>\n",
       "      <th>nearest_stn</th>\n",
       "      <th>dist_to_nearest_stn</th>\n",
       "      <th>dist_to_dhoby</th>\n",
       "      <th>degree_centrality</th>\n",
       "      <th>eigenvector_centrality</th>\n",
       "      <th>flat_model_type</th>\n",
       "      <th>remaining_lease_years</th>\n",
       "      <th>floor_area_sqm</th>\n",
       "      <th>storey_range</th>\n",
       "      <th>resale_price</th>\n",
       "    </tr>\n",
       "  </thead>\n",
       "  <tbody>\n",
       "    <tr>\n",
       "      <th>64057</th>\n",
       "      <td>1</td>\n",
       "      <td>2020</td>\n",
       "      <td>ANG MO KIO</td>\n",
       "      <td>208 ANG MO KIO AVENUE 1</td>\n",
       "      <td>Ang Mo Kio</td>\n",
       "      <td>0.917344</td>\n",
       "      <td>7.336493</td>\n",
       "      <td>0.016807</td>\n",
       "      <td>0.006243</td>\n",
       "      <td>3 ROOM, New Generation</td>\n",
       "      <td>55.583333</td>\n",
       "      <td>73.0</td>\n",
       "      <td>04 TO 06</td>\n",
       "      <td>265000.0</td>\n",
       "    </tr>\n",
       "    <tr>\n",
       "      <th>64058</th>\n",
       "      <td>1</td>\n",
       "      <td>2020</td>\n",
       "      <td>ANG MO KIO</td>\n",
       "      <td>307C ANG MO KIO AVENUE 1</td>\n",
       "      <td>Ang Mo Kio</td>\n",
       "      <td>0.696776</td>\n",
       "      <td>7.341622</td>\n",
       "      <td>0.016807</td>\n",
       "      <td>0.006243</td>\n",
       "      <td>3 ROOM, Model A</td>\n",
       "      <td>91.666667</td>\n",
       "      <td>70.0</td>\n",
       "      <td>19 TO 21</td>\n",
       "      <td>470000.0</td>\n",
       "    </tr>\n",
       "    <tr>\n",
       "      <th>64059</th>\n",
       "      <td>1</td>\n",
       "      <td>2020</td>\n",
       "      <td>ANG MO KIO</td>\n",
       "      <td>319 ANG MO KIO AVENUE 1</td>\n",
       "      <td>Ang Mo Kio</td>\n",
       "      <td>0.597608</td>\n",
       "      <td>7.292217</td>\n",
       "      <td>0.016807</td>\n",
       "      <td>0.006243</td>\n",
       "      <td>3 ROOM, New Generation</td>\n",
       "      <td>56.333333</td>\n",
       "      <td>73.0</td>\n",
       "      <td>01 TO 03</td>\n",
       "      <td>230000.0</td>\n",
       "    </tr>\n",
       "    <tr>\n",
       "      <th>64060</th>\n",
       "      <td>1</td>\n",
       "      <td>2020</td>\n",
       "      <td>ANG MO KIO</td>\n",
       "      <td>216 ANG MO KIO AVENUE 1</td>\n",
       "      <td>Ang Mo Kio</td>\n",
       "      <td>0.994153</td>\n",
       "      <td>7.427003</td>\n",
       "      <td>0.016807</td>\n",
       "      <td>0.006243</td>\n",
       "      <td>3 ROOM, New Generation</td>\n",
       "      <td>55.250000</td>\n",
       "      <td>73.0</td>\n",
       "      <td>04 TO 06</td>\n",
       "      <td>280000.0</td>\n",
       "    </tr>\n",
       "    <tr>\n",
       "      <th>64061</th>\n",
       "      <td>1</td>\n",
       "      <td>2020</td>\n",
       "      <td>ANG MO KIO</td>\n",
       "      <td>556 ANG MO KIO AVENUE 10</td>\n",
       "      <td>Ang Mo Kio</td>\n",
       "      <td>0.921541</td>\n",
       "      <td>8.163605</td>\n",
       "      <td>0.016807</td>\n",
       "      <td>0.006243</td>\n",
       "      <td>3 ROOM, New Generation</td>\n",
       "      <td>59.083333</td>\n",
       "      <td>68.0</td>\n",
       "      <td>07 TO 09</td>\n",
       "      <td>220000.0</td>\n",
       "    </tr>\n",
       "    <tr>\n",
       "      <th>...</th>\n",
       "      <td>...</td>\n",
       "      <td>...</td>\n",
       "      <td>...</td>\n",
       "      <td>...</td>\n",
       "      <td>...</td>\n",
       "      <td>...</td>\n",
       "      <td>...</td>\n",
       "      <td>...</td>\n",
       "      <td>...</td>\n",
       "      <td>...</td>\n",
       "      <td>...</td>\n",
       "      <td>...</td>\n",
       "      <td>...</td>\n",
       "      <td>...</td>\n",
       "    </tr>\n",
       "    <tr>\n",
       "      <th>87365</th>\n",
       "      <td>12</td>\n",
       "      <td>2020</td>\n",
       "      <td>YISHUN</td>\n",
       "      <td>352 YISHUN RING ROAD</td>\n",
       "      <td>Yishun</td>\n",
       "      <td>1.153544</td>\n",
       "      <td>14.075870</td>\n",
       "      <td>0.016807</td>\n",
       "      <td>0.000382</td>\n",
       "      <td>EXECUTIVE, Maisonette</td>\n",
       "      <td>66.666667</td>\n",
       "      <td>146.0</td>\n",
       "      <td>04 TO 06</td>\n",
       "      <td>560000.0</td>\n",
       "    </tr>\n",
       "    <tr>\n",
       "      <th>87366</th>\n",
       "      <td>12</td>\n",
       "      <td>2020</td>\n",
       "      <td>YISHUN</td>\n",
       "      <td>356 YISHUN RING ROAD</td>\n",
       "      <td>Yishun</td>\n",
       "      <td>1.254784</td>\n",
       "      <td>13.948192</td>\n",
       "      <td>0.016807</td>\n",
       "      <td>0.000382</td>\n",
       "      <td>EXECUTIVE, Apartment</td>\n",
       "      <td>66.750000</td>\n",
       "      <td>145.0</td>\n",
       "      <td>01 TO 03</td>\n",
       "      <td>540000.0</td>\n",
       "    </tr>\n",
       "    <tr>\n",
       "      <th>87367</th>\n",
       "      <td>12</td>\n",
       "      <td>2020</td>\n",
       "      <td>YISHUN</td>\n",
       "      <td>611 YISHUN STREET 61</td>\n",
       "      <td>Khatib</td>\n",
       "      <td>0.466763</td>\n",
       "      <td>13.426086</td>\n",
       "      <td>0.016807</td>\n",
       "      <td>0.000968</td>\n",
       "      <td>EXECUTIVE, Apartment</td>\n",
       "      <td>66.000000</td>\n",
       "      <td>142.0</td>\n",
       "      <td>13 TO 15</td>\n",
       "      <td>638000.0</td>\n",
       "    </tr>\n",
       "    <tr>\n",
       "      <th>87368</th>\n",
       "      <td>12</td>\n",
       "      <td>2020</td>\n",
       "      <td>YISHUN</td>\n",
       "      <td>834 YISHUN STREET 81</td>\n",
       "      <td>Khatib</td>\n",
       "      <td>0.281375</td>\n",
       "      <td>12.884815</td>\n",
       "      <td>0.016807</td>\n",
       "      <td>0.000968</td>\n",
       "      <td>EXECUTIVE, Maisonette</td>\n",
       "      <td>66.166667</td>\n",
       "      <td>146.0</td>\n",
       "      <td>10 TO 12</td>\n",
       "      <td>683500.0</td>\n",
       "    </tr>\n",
       "    <tr>\n",
       "      <th>87369</th>\n",
       "      <td>12</td>\n",
       "      <td>2020</td>\n",
       "      <td>YISHUN</td>\n",
       "      <td>824 YISHUN STREET 81</td>\n",
       "      <td>Khatib</td>\n",
       "      <td>0.408137</td>\n",
       "      <td>12.745325</td>\n",
       "      <td>0.016807</td>\n",
       "      <td>0.000968</td>\n",
       "      <td>EXECUTIVE, Apartment</td>\n",
       "      <td>65.916667</td>\n",
       "      <td>142.0</td>\n",
       "      <td>07 TO 09</td>\n",
       "      <td>670000.0</td>\n",
       "    </tr>\n",
       "  </tbody>\n",
       "</table>\n",
       "<p>23313 rows × 14 columns</p>\n",
       "</div>"
      ],
      "text/plain": [
       "       month  year        town              full_address nearest_stn  \\\n",
       "64057      1  2020  ANG MO KIO   208 ANG MO KIO AVENUE 1  Ang Mo Kio   \n",
       "64058      1  2020  ANG MO KIO  307C ANG MO KIO AVENUE 1  Ang Mo Kio   \n",
       "64059      1  2020  ANG MO KIO   319 ANG MO KIO AVENUE 1  Ang Mo Kio   \n",
       "64060      1  2020  ANG MO KIO   216 ANG MO KIO AVENUE 1  Ang Mo Kio   \n",
       "64061      1  2020  ANG MO KIO  556 ANG MO KIO AVENUE 10  Ang Mo Kio   \n",
       "...      ...   ...         ...                       ...         ...   \n",
       "87365     12  2020      YISHUN      352 YISHUN RING ROAD      Yishun   \n",
       "87366     12  2020      YISHUN      356 YISHUN RING ROAD      Yishun   \n",
       "87367     12  2020      YISHUN      611 YISHUN STREET 61      Khatib   \n",
       "87368     12  2020      YISHUN      834 YISHUN STREET 81      Khatib   \n",
       "87369     12  2020      YISHUN      824 YISHUN STREET 81      Khatib   \n",
       "\n",
       "       dist_to_nearest_stn  dist_to_dhoby  degree_centrality  \\\n",
       "64057             0.917344       7.336493           0.016807   \n",
       "64058             0.696776       7.341622           0.016807   \n",
       "64059             0.597608       7.292217           0.016807   \n",
       "64060             0.994153       7.427003           0.016807   \n",
       "64061             0.921541       8.163605           0.016807   \n",
       "...                    ...            ...                ...   \n",
       "87365             1.153544      14.075870           0.016807   \n",
       "87366             1.254784      13.948192           0.016807   \n",
       "87367             0.466763      13.426086           0.016807   \n",
       "87368             0.281375      12.884815           0.016807   \n",
       "87369             0.408137      12.745325           0.016807   \n",
       "\n",
       "       eigenvector_centrality         flat_model_type  remaining_lease_years  \\\n",
       "64057                0.006243  3 ROOM, New Generation              55.583333   \n",
       "64058                0.006243         3 ROOM, Model A              91.666667   \n",
       "64059                0.006243  3 ROOM, New Generation              56.333333   \n",
       "64060                0.006243  3 ROOM, New Generation              55.250000   \n",
       "64061                0.006243  3 ROOM, New Generation              59.083333   \n",
       "...                       ...                     ...                    ...   \n",
       "87365                0.000382   EXECUTIVE, Maisonette              66.666667   \n",
       "87366                0.000382    EXECUTIVE, Apartment              66.750000   \n",
       "87367                0.000968    EXECUTIVE, Apartment              66.000000   \n",
       "87368                0.000968   EXECUTIVE, Maisonette              66.166667   \n",
       "87369                0.000968    EXECUTIVE, Apartment              65.916667   \n",
       "\n",
       "       floor_area_sqm storey_range  resale_price  \n",
       "64057            73.0     04 TO 06      265000.0  \n",
       "64058            70.0     19 TO 21      470000.0  \n",
       "64059            73.0     01 TO 03      230000.0  \n",
       "64060            73.0     04 TO 06      280000.0  \n",
       "64061            68.0     07 TO 09      220000.0  \n",
       "...               ...          ...           ...  \n",
       "87365           146.0     04 TO 06      560000.0  \n",
       "87366           145.0     01 TO 03      540000.0  \n",
       "87367           142.0     13 TO 15      638000.0  \n",
       "87368           146.0     10 TO 12      683500.0  \n",
       "87369           142.0     07 TO 09      670000.0  \n",
       "\n",
       "[23313 rows x 14 columns]"
      ]
     },
     "execution_count": 15,
     "metadata": {},
     "output_type": "execute_result"
    }
   ],
   "source": [
    "val_df"
   ]
  },
  {
   "cell_type": "code",
   "execution_count": 16,
   "metadata": {},
   "outputs": [
    {
     "data": {
      "text/html": [
       "<div>\n",
       "<style scoped>\n",
       "    .dataframe tbody tr th:only-of-type {\n",
       "        vertical-align: middle;\n",
       "    }\n",
       "\n",
       "    .dataframe tbody tr th {\n",
       "        vertical-align: top;\n",
       "    }\n",
       "\n",
       "    .dataframe thead th {\n",
       "        text-align: right;\n",
       "    }\n",
       "</style>\n",
       "<table border=\"1\" class=\"dataframe\">\n",
       "  <thead>\n",
       "    <tr style=\"text-align: right;\">\n",
       "      <th></th>\n",
       "      <th>month</th>\n",
       "      <th>year</th>\n",
       "      <th>town</th>\n",
       "      <th>full_address</th>\n",
       "      <th>nearest_stn</th>\n",
       "      <th>dist_to_nearest_stn</th>\n",
       "      <th>dist_to_dhoby</th>\n",
       "      <th>degree_centrality</th>\n",
       "      <th>eigenvector_centrality</th>\n",
       "      <th>flat_model_type</th>\n",
       "      <th>remaining_lease_years</th>\n",
       "      <th>floor_area_sqm</th>\n",
       "      <th>storey_range</th>\n",
       "      <th>resale_price</th>\n",
       "    </tr>\n",
       "  </thead>\n",
       "  <tbody>\n",
       "    <tr>\n",
       "      <th>87370</th>\n",
       "      <td>1</td>\n",
       "      <td>2021</td>\n",
       "      <td>ANG MO KIO</td>\n",
       "      <td>170 ANG MO KIO AVENUE 4</td>\n",
       "      <td>Yio Chu Kang</td>\n",
       "      <td>1.276775</td>\n",
       "      <td>8.339960</td>\n",
       "      <td>0.016807</td>\n",
       "      <td>0.002459</td>\n",
       "      <td>2 ROOM, Improved</td>\n",
       "      <td>64.083333</td>\n",
       "      <td>45.0</td>\n",
       "      <td>01 TO 03</td>\n",
       "      <td>211000.0</td>\n",
       "    </tr>\n",
       "    <tr>\n",
       "      <th>87371</th>\n",
       "      <td>1</td>\n",
       "      <td>2021</td>\n",
       "      <td>ANG MO KIO</td>\n",
       "      <td>170 ANG MO KIO AVENUE 4</td>\n",
       "      <td>Yio Chu Kang</td>\n",
       "      <td>1.276775</td>\n",
       "      <td>8.339960</td>\n",
       "      <td>0.016807</td>\n",
       "      <td>0.002459</td>\n",
       "      <td>2 ROOM, Improved</td>\n",
       "      <td>64.083333</td>\n",
       "      <td>45.0</td>\n",
       "      <td>07 TO 09</td>\n",
       "      <td>225000.0</td>\n",
       "    </tr>\n",
       "    <tr>\n",
       "      <th>87372</th>\n",
       "      <td>1</td>\n",
       "      <td>2021</td>\n",
       "      <td>ANG MO KIO</td>\n",
       "      <td>331 ANG MO KIO AVENUE 1</td>\n",
       "      <td>Ang Mo Kio</td>\n",
       "      <td>0.884872</td>\n",
       "      <td>6.981730</td>\n",
       "      <td>0.016807</td>\n",
       "      <td>0.006243</td>\n",
       "      <td>3 ROOM, New Generation</td>\n",
       "      <td>59.000000</td>\n",
       "      <td>68.0</td>\n",
       "      <td>04 TO 06</td>\n",
       "      <td>260000.0</td>\n",
       "    </tr>\n",
       "    <tr>\n",
       "      <th>87373</th>\n",
       "      <td>1</td>\n",
       "      <td>2021</td>\n",
       "      <td>ANG MO KIO</td>\n",
       "      <td>534 ANG MO KIO AVENUE 10</td>\n",
       "      <td>Ang Mo Kio</td>\n",
       "      <td>0.677246</td>\n",
       "      <td>8.333056</td>\n",
       "      <td>0.016807</td>\n",
       "      <td>0.006243</td>\n",
       "      <td>3 ROOM, New Generation</td>\n",
       "      <td>58.166667</td>\n",
       "      <td>68.0</td>\n",
       "      <td>04 TO 06</td>\n",
       "      <td>265000.0</td>\n",
       "    </tr>\n",
       "    <tr>\n",
       "      <th>87374</th>\n",
       "      <td>1</td>\n",
       "      <td>2021</td>\n",
       "      <td>ANG MO KIO</td>\n",
       "      <td>561 ANG MO KIO AVENUE 10</td>\n",
       "      <td>Ang Mo Kio</td>\n",
       "      <td>0.922047</td>\n",
       "      <td>8.009223</td>\n",
       "      <td>0.016807</td>\n",
       "      <td>0.006243</td>\n",
       "      <td>3 ROOM, New Generation</td>\n",
       "      <td>58.083333</td>\n",
       "      <td>68.0</td>\n",
       "      <td>01 TO 03</td>\n",
       "      <td>265000.0</td>\n",
       "    </tr>\n",
       "    <tr>\n",
       "      <th>...</th>\n",
       "      <td>...</td>\n",
       "      <td>...</td>\n",
       "      <td>...</td>\n",
       "      <td>...</td>\n",
       "      <td>...</td>\n",
       "      <td>...</td>\n",
       "      <td>...</td>\n",
       "      <td>...</td>\n",
       "      <td>...</td>\n",
       "      <td>...</td>\n",
       "      <td>...</td>\n",
       "      <td>...</td>\n",
       "      <td>...</td>\n",
       "      <td>...</td>\n",
       "    </tr>\n",
       "    <tr>\n",
       "      <th>116422</th>\n",
       "      <td>12</td>\n",
       "      <td>2021</td>\n",
       "      <td>YISHUN</td>\n",
       "      <td>502B YISHUN STREET 51</td>\n",
       "      <td>Khatib</td>\n",
       "      <td>0.954699</td>\n",
       "      <td>13.018048</td>\n",
       "      <td>0.016807</td>\n",
       "      <td>0.000968</td>\n",
       "      <td>5 ROOM, Improved</td>\n",
       "      <td>95.083333</td>\n",
       "      <td>112.0</td>\n",
       "      <td>13 TO 15</td>\n",
       "      <td>720000.0</td>\n",
       "    </tr>\n",
       "    <tr>\n",
       "      <th>116423</th>\n",
       "      <td>12</td>\n",
       "      <td>2021</td>\n",
       "      <td>YISHUN</td>\n",
       "      <td>877 YISHUN STREET 81</td>\n",
       "      <td>Khatib</td>\n",
       "      <td>0.475885</td>\n",
       "      <td>12.738721</td>\n",
       "      <td>0.016807</td>\n",
       "      <td>0.000968</td>\n",
       "      <td>EXECUTIVE, Apartment</td>\n",
       "      <td>65.083333</td>\n",
       "      <td>142.0</td>\n",
       "      <td>01 TO 03</td>\n",
       "      <td>738000.0</td>\n",
       "    </tr>\n",
       "    <tr>\n",
       "      <th>116424</th>\n",
       "      <td>12</td>\n",
       "      <td>2021</td>\n",
       "      <td>YISHUN</td>\n",
       "      <td>824 YISHUN STREET 81</td>\n",
       "      <td>Khatib</td>\n",
       "      <td>0.408137</td>\n",
       "      <td>12.745325</td>\n",
       "      <td>0.016807</td>\n",
       "      <td>0.000968</td>\n",
       "      <td>EXECUTIVE, Maisonette</td>\n",
       "      <td>65.000000</td>\n",
       "      <td>146.0</td>\n",
       "      <td>04 TO 06</td>\n",
       "      <td>755000.0</td>\n",
       "    </tr>\n",
       "    <tr>\n",
       "      <th>116425</th>\n",
       "      <td>12</td>\n",
       "      <td>2021</td>\n",
       "      <td>YISHUN</td>\n",
       "      <td>348A YISHUN AVENUE 11</td>\n",
       "      <td>Yishun</td>\n",
       "      <td>0.733238</td>\n",
       "      <td>14.183095</td>\n",
       "      <td>0.016807</td>\n",
       "      <td>0.000382</td>\n",
       "      <td>5 ROOM, DBSS</td>\n",
       "      <td>90.916667</td>\n",
       "      <td>112.0</td>\n",
       "      <td>10 TO 12</td>\n",
       "      <td>848000.0</td>\n",
       "    </tr>\n",
       "    <tr>\n",
       "      <th>116426</th>\n",
       "      <td>12</td>\n",
       "      <td>2021</td>\n",
       "      <td>YISHUN</td>\n",
       "      <td>633 YISHUN STREET 61</td>\n",
       "      <td>Khatib</td>\n",
       "      <td>0.774113</td>\n",
       "      <td>13.229106</td>\n",
       "      <td>0.016807</td>\n",
       "      <td>0.000968</td>\n",
       "      <td>MULTI-GENERATION, Multi Generation</td>\n",
       "      <td>65.083333</td>\n",
       "      <td>171.0</td>\n",
       "      <td>07 TO 09</td>\n",
       "      <td>865000.0</td>\n",
       "    </tr>\n",
       "  </tbody>\n",
       "</table>\n",
       "<p>29057 rows × 14 columns</p>\n",
       "</div>"
      ],
      "text/plain": [
       "        month  year        town              full_address   nearest_stn  \\\n",
       "87370       1  2021  ANG MO KIO   170 ANG MO KIO AVENUE 4  Yio Chu Kang   \n",
       "87371       1  2021  ANG MO KIO   170 ANG MO KIO AVENUE 4  Yio Chu Kang   \n",
       "87372       1  2021  ANG MO KIO   331 ANG MO KIO AVENUE 1    Ang Mo Kio   \n",
       "87373       1  2021  ANG MO KIO  534 ANG MO KIO AVENUE 10    Ang Mo Kio   \n",
       "87374       1  2021  ANG MO KIO  561 ANG MO KIO AVENUE 10    Ang Mo Kio   \n",
       "...       ...   ...         ...                       ...           ...   \n",
       "116422     12  2021      YISHUN     502B YISHUN STREET 51        Khatib   \n",
       "116423     12  2021      YISHUN      877 YISHUN STREET 81        Khatib   \n",
       "116424     12  2021      YISHUN      824 YISHUN STREET 81        Khatib   \n",
       "116425     12  2021      YISHUN     348A YISHUN AVENUE 11        Yishun   \n",
       "116426     12  2021      YISHUN      633 YISHUN STREET 61        Khatib   \n",
       "\n",
       "        dist_to_nearest_stn  dist_to_dhoby  degree_centrality  \\\n",
       "87370              1.276775       8.339960           0.016807   \n",
       "87371              1.276775       8.339960           0.016807   \n",
       "87372              0.884872       6.981730           0.016807   \n",
       "87373              0.677246       8.333056           0.016807   \n",
       "87374              0.922047       8.009223           0.016807   \n",
       "...                     ...            ...                ...   \n",
       "116422             0.954699      13.018048           0.016807   \n",
       "116423             0.475885      12.738721           0.016807   \n",
       "116424             0.408137      12.745325           0.016807   \n",
       "116425             0.733238      14.183095           0.016807   \n",
       "116426             0.774113      13.229106           0.016807   \n",
       "\n",
       "        eigenvector_centrality                     flat_model_type  \\\n",
       "87370                 0.002459                    2 ROOM, Improved   \n",
       "87371                 0.002459                    2 ROOM, Improved   \n",
       "87372                 0.006243              3 ROOM, New Generation   \n",
       "87373                 0.006243              3 ROOM, New Generation   \n",
       "87374                 0.006243              3 ROOM, New Generation   \n",
       "...                        ...                                 ...   \n",
       "116422                0.000968                    5 ROOM, Improved   \n",
       "116423                0.000968                EXECUTIVE, Apartment   \n",
       "116424                0.000968               EXECUTIVE, Maisonette   \n",
       "116425                0.000382                        5 ROOM, DBSS   \n",
       "116426                0.000968  MULTI-GENERATION, Multi Generation   \n",
       "\n",
       "        remaining_lease_years  floor_area_sqm storey_range  resale_price  \n",
       "87370               64.083333            45.0     01 TO 03      211000.0  \n",
       "87371               64.083333            45.0     07 TO 09      225000.0  \n",
       "87372               59.000000            68.0     04 TO 06      260000.0  \n",
       "87373               58.166667            68.0     04 TO 06      265000.0  \n",
       "87374               58.083333            68.0     01 TO 03      265000.0  \n",
       "...                       ...             ...          ...           ...  \n",
       "116422              95.083333           112.0     13 TO 15      720000.0  \n",
       "116423              65.083333           142.0     01 TO 03      738000.0  \n",
       "116424              65.000000           146.0     04 TO 06      755000.0  \n",
       "116425              90.916667           112.0     10 TO 12      848000.0  \n",
       "116426              65.083333           171.0     07 TO 09      865000.0  \n",
       "\n",
       "[29057 rows x 14 columns]"
      ]
     },
     "execution_count": 16,
     "metadata": {},
     "output_type": "execute_result"
    }
   ],
   "source": [
    "test_df"
   ]
  },
  {
   "cell_type": "markdown",
   "metadata": {
    "id": "sebMgSuzqPe7"
   },
   "source": [
    "> Refer to the documentation of **PyTorch Tabular** and perform the following tasks: https://pytorch-tabular.readthedocs.io/en/latest/#usage\n",
    "- Use **[DataConfig](https://pytorch-tabular.readthedocs.io/en/latest/data/)** to define the target variable, as well as the names of the continuous and categorical variables.\n",
    "- Use **[TrainerConfig](https://pytorch-tabular.readthedocs.io/en/latest/training/)** to automatically tune the learning rate. Set batch_size to be 1024 and set max_epoch as 50.\n",
    "- Use **[CategoryEmbeddingModelConfig](https://pytorch-tabular.readthedocs.io/en/latest/models/#category-embedding-model)** to create a feedforward neural network with 1 hidden layer containing 50 neurons.\n",
    "- Use **[OptimizerConfig](https://pytorch-tabular.readthedocs.io/en/latest/optimizer/)** to choose Adam optimiser. There is no need to set the learning rate (since it will be tuned automatically) nor scheduler.\n",
    "- Use **[TabularModel](https://pytorch-tabular.readthedocs.io/en/latest/tabular_model/)** to initialise the model and put all the configs together."
   ]
  },
  {
   "cell_type": "code",
   "execution_count": 17,
   "metadata": {
    "id": "ZZWAYdNhqPzh"
   },
   "outputs": [
    {
     "data": {
      "text/html": [
       "<pre style=\"white-space:pre;overflow-x:auto;line-height:normal;font-family:Menlo,'DejaVu Sans Mono',consolas,'Courier New',monospace\"><span style=\"color: #008080; text-decoration-color: #008080; font-weight: bold\">2025</span>-<span style=\"color: #008080; text-decoration-color: #008080; font-weight: bold\">03</span>-<span style=\"color: #008080; text-decoration-color: #008080; font-weight: bold\">13</span> <span style=\"color: #00ff00; text-decoration-color: #00ff00; font-weight: bold\">13:38:49</span>,<span style=\"color: #008080; text-decoration-color: #008080; font-weight: bold\">174</span> - <span style=\"font-weight: bold\">{</span>pytorch_tabular.tabular_model:<span style=\"color: #008080; text-decoration-color: #008080; font-weight: bold\">146</span><span style=\"font-weight: bold\">}</span> - INFO - Experiment Tracking is turned off           \n",
       "</pre>\n"
      ],
      "text/plain": [
       "\u001b[1;36m2025\u001b[0m-\u001b[1;36m03\u001b[0m-\u001b[1;36m13\u001b[0m \u001b[1;92m13:38:49\u001b[0m,\u001b[1;36m174\u001b[0m - \u001b[1m{\u001b[0mpytorch_tabular.tabular_model:\u001b[1;36m146\u001b[0m\u001b[1m}\u001b[0m - INFO - Experiment Tracking is turned off           \n"
      ]
     },
     "metadata": {},
     "output_type": "display_data"
    },
    {
     "name": "stderr",
     "output_type": "stream",
     "text": [
      "Seed set to 42\n"
     ]
    },
    {
     "data": {
      "text/html": [
       "<pre style=\"white-space:pre;overflow-x:auto;line-height:normal;font-family:Menlo,'DejaVu Sans Mono',consolas,'Courier New',monospace\"><span style=\"color: #008080; text-decoration-color: #008080; font-weight: bold\">2025</span>-<span style=\"color: #008080; text-decoration-color: #008080; font-weight: bold\">03</span>-<span style=\"color: #008080; text-decoration-color: #008080; font-weight: bold\">13</span> <span style=\"color: #00ff00; text-decoration-color: #00ff00; font-weight: bold\">13:38:49</span>,<span style=\"color: #008080; text-decoration-color: #008080; font-weight: bold\">237</span> - <span style=\"font-weight: bold\">{</span>pytorch_tabular.tabular_model:<span style=\"color: #008080; text-decoration-color: #008080; font-weight: bold\">548</span><span style=\"font-weight: bold\">}</span> - INFO - Preparing the DataLoaders                   \n",
       "</pre>\n"
      ],
      "text/plain": [
       "\u001b[1;36m2025\u001b[0m-\u001b[1;36m03\u001b[0m-\u001b[1;36m13\u001b[0m \u001b[1;92m13:38:49\u001b[0m,\u001b[1;36m237\u001b[0m - \u001b[1m{\u001b[0mpytorch_tabular.tabular_model:\u001b[1;36m548\u001b[0m\u001b[1m}\u001b[0m - INFO - Preparing the DataLoaders                   \n"
      ]
     },
     "metadata": {},
     "output_type": "display_data"
    },
    {
     "data": {
      "text/html": [
       "<pre style=\"white-space:pre;overflow-x:auto;line-height:normal;font-family:Menlo,'DejaVu Sans Mono',consolas,'Courier New',monospace\"><span style=\"color: #008080; text-decoration-color: #008080; font-weight: bold\">2025</span>-<span style=\"color: #008080; text-decoration-color: #008080; font-weight: bold\">03</span>-<span style=\"color: #008080; text-decoration-color: #008080; font-weight: bold\">13</span> <span style=\"color: #00ff00; text-decoration-color: #00ff00; font-weight: bold\">13:38:49</span>,<span style=\"color: #008080; text-decoration-color: #008080; font-weight: bold\">322</span> - <span style=\"font-weight: bold\">{</span>pytorch_tabular.tabular_datamodul<span style=\"color: #00ff00; text-decoration-color: #00ff00; font-weight: bold\">e:522</span><span style=\"font-weight: bold\">}</span> - INFO - Setting up the datamodule for          \n",
       "regression task                                                                                                    \n",
       "</pre>\n"
      ],
      "text/plain": [
       "\u001b[1;36m2025\u001b[0m-\u001b[1;36m03\u001b[0m-\u001b[1;36m13\u001b[0m \u001b[1;92m13:38:49\u001b[0m,\u001b[1;36m322\u001b[0m - \u001b[1m{\u001b[0mpytorch_tabular.tabular_datamodul\u001b[1;92me:522\u001b[0m\u001b[1m}\u001b[0m - INFO - Setting up the datamodule for          \n",
       "regression task                                                                                                    \n"
      ]
     },
     "metadata": {},
     "output_type": "display_data"
    },
    {
     "data": {
      "text/html": [
       "<pre style=\"white-space:pre;overflow-x:auto;line-height:normal;font-family:Menlo,'DejaVu Sans Mono',consolas,'Courier New',monospace\"><span style=\"color: #008080; text-decoration-color: #008080; font-weight: bold\">2025</span>-<span style=\"color: #008080; text-decoration-color: #008080; font-weight: bold\">03</span>-<span style=\"color: #008080; text-decoration-color: #008080; font-weight: bold\">13</span> <span style=\"color: #00ff00; text-decoration-color: #00ff00; font-weight: bold\">13:38:49</span>,<span style=\"color: #008080; text-decoration-color: #008080; font-weight: bold\">694</span> - <span style=\"font-weight: bold\">{</span>pytorch_tabular.tabular_model:<span style=\"color: #008080; text-decoration-color: #008080; font-weight: bold\">599</span><span style=\"font-weight: bold\">}</span> - INFO - Preparing the Model: CategoryEmbeddingModel \n",
       "</pre>\n"
      ],
      "text/plain": [
       "\u001b[1;36m2025\u001b[0m-\u001b[1;36m03\u001b[0m-\u001b[1;36m13\u001b[0m \u001b[1;92m13:38:49\u001b[0m,\u001b[1;36m694\u001b[0m - \u001b[1m{\u001b[0mpytorch_tabular.tabular_model:\u001b[1;36m599\u001b[0m\u001b[1m}\u001b[0m - INFO - Preparing the Model: CategoryEmbeddingModel \n"
      ]
     },
     "metadata": {},
     "output_type": "display_data"
    },
    {
     "data": {
      "text/html": [
       "<pre style=\"white-space:pre;overflow-x:auto;line-height:normal;font-family:Menlo,'DejaVu Sans Mono',consolas,'Courier New',monospace\"><span style=\"color: #008080; text-decoration-color: #008080; font-weight: bold\">2025</span>-<span style=\"color: #008080; text-decoration-color: #008080; font-weight: bold\">03</span>-<span style=\"color: #008080; text-decoration-color: #008080; font-weight: bold\">13</span> <span style=\"color: #00ff00; text-decoration-color: #00ff00; font-weight: bold\">13:38:49</span>,<span style=\"color: #008080; text-decoration-color: #008080; font-weight: bold\">773</span> - <span style=\"font-weight: bold\">{</span>pytorch_tabular.tabular_model:<span style=\"color: #008080; text-decoration-color: #008080; font-weight: bold\">342</span><span style=\"font-weight: bold\">}</span> - INFO - Preparing the Trainer                       \n",
       "</pre>\n"
      ],
      "text/plain": [
       "\u001b[1;36m2025\u001b[0m-\u001b[1;36m03\u001b[0m-\u001b[1;36m13\u001b[0m \u001b[1;92m13:38:49\u001b[0m,\u001b[1;36m773\u001b[0m - \u001b[1m{\u001b[0mpytorch_tabular.tabular_model:\u001b[1;36m342\u001b[0m\u001b[1m}\u001b[0m - INFO - Preparing the Trainer                       \n"
      ]
     },
     "metadata": {},
     "output_type": "display_data"
    },
    {
     "name": "stderr",
     "output_type": "stream",
     "text": [
      "/home/priya/.local/lib/python3.10/site-packages/torch/cuda/__init__.py:654: UserWarning: Can't initialize NVML\n",
      "  warnings.warn(\"Can't initialize NVML\")\n",
      "GPU available: False, used: False\n",
      "TPU available: False, using: 0 TPU cores\n",
      "HPU available: False, using: 0 HPUs\n"
     ]
    },
    {
     "data": {
      "text/html": [
       "<pre style=\"white-space:pre;overflow-x:auto;line-height:normal;font-family:Menlo,'DejaVu Sans Mono',consolas,'Courier New',monospace\"><span style=\"color: #008080; text-decoration-color: #008080; font-weight: bold\">2025</span>-<span style=\"color: #008080; text-decoration-color: #008080; font-weight: bold\">03</span>-<span style=\"color: #008080; text-decoration-color: #008080; font-weight: bold\">13</span> <span style=\"color: #00ff00; text-decoration-color: #00ff00; font-weight: bold\">13:38:49</span>,<span style=\"color: #008080; text-decoration-color: #008080; font-weight: bold\">823</span> - <span style=\"font-weight: bold\">{</span>pytorch_tabular.tabular_model:<span style=\"color: #008080; text-decoration-color: #008080; font-weight: bold\">656</span><span style=\"font-weight: bold\">}</span> - INFO - Auto LR Find Started                        \n",
       "</pre>\n"
      ],
      "text/plain": [
       "\u001b[1;36m2025\u001b[0m-\u001b[1;36m03\u001b[0m-\u001b[1;36m13\u001b[0m \u001b[1;92m13:38:49\u001b[0m,\u001b[1;36m823\u001b[0m - \u001b[1m{\u001b[0mpytorch_tabular.tabular_model:\u001b[1;36m656\u001b[0m\u001b[1m}\u001b[0m - INFO - Auto LR Find Started                        \n"
      ]
     },
     "metadata": {},
     "output_type": "display_data"
    },
    {
     "name": "stderr",
     "output_type": "stream",
     "text": [
      "2025-03-13 13:38:50.654597: I tensorflow/core/util/port.cc:153] oneDNN custom operations are on. You may see slightly different numerical results due to floating-point round-off errors from different computation orders. To turn them off, set the environment variable `TF_ENABLE_ONEDNN_OPTS=0`.\n",
      "2025-03-13 13:38:50.870159: E external/local_xla/xla/stream_executor/cuda/cuda_fft.cc:485] Unable to register cuFFT factory: Attempting to register factory for plugin cuFFT when one has already been registered\n",
      "2025-03-13 13:38:50.973147: E external/local_xla/xla/stream_executor/cuda/cuda_dnn.cc:8454] Unable to register cuDNN factory: Attempting to register factory for plugin cuDNN when one has already been registered\n",
      "2025-03-13 13:38:51.000340: E external/local_xla/xla/stream_executor/cuda/cuda_blas.cc:1452] Unable to register cuBLAS factory: Attempting to register factory for plugin cuBLAS when one has already been registered\n",
      "2025-03-13 13:38:51.161978: I tensorflow/core/platform/cpu_feature_guard.cc:210] This TensorFlow binary is optimized to use available CPU instructions in performance-critical operations.\n",
      "To enable the following instructions: AVX2 AVX_VNNI FMA, in other operations, rebuild TensorFlow with the appropriate compiler flags.\n",
      "2025-03-13 13:38:53.432599: W tensorflow/compiler/tf2tensorrt/utils/py_utils.cc:38] TF-TRT Warning: Could not find TensorRT\n",
      "/home/priya/.local/lib/python3.10/site-packages/pytorch_lightning/callbacks/model_checkpoint.py:654: Checkpoint directory /home/priya/4001 Assignment/saved_models exists and is not empty.\n",
      "/home/priya/.local/lib/python3.10/site-packages/pytorch_lightning/trainer/connectors/data_connector.py:424: The 'train_dataloader' does not have many workers which may be a bottleneck. Consider increasing the value of the `num_workers` argument` to `num_workers=15` in the `DataLoader` to improve performance.\n",
      "/home/priya/.local/lib/python3.10/site-packages/pytorch_lightning/trainer/connectors/data_connector.py:424: The 'val_dataloader' does not have many workers which may be a bottleneck. Consider increasing the value of the `num_workers` argument` to `num_workers=15` in the `DataLoader` to improve performance.\n"
     ]
    },
    {
     "data": {
      "application/vnd.jupyter.widget-view+json": {
       "model_id": "e38a00969f5246479fdaf1e99fe1a874",
       "version_major": 2,
       "version_minor": 0
      },
      "text/plain": [
       "Finding best initial lr:   0%|          | 0/100 [00:00<?, ?it/s]"
      ]
     },
     "metadata": {},
     "output_type": "display_data"
    },
    {
     "name": "stderr",
     "output_type": "stream",
     "text": [
      "`Trainer.fit` stopped: `max_steps=100` reached.\n",
      "Learning rate set to 0.5754399373371567\n",
      "Restoring states from the checkpoint path at /home/priya/4001 Assignment/.lr_find_0a7b2075-727b-4890-8f74-d568cc09a535.ckpt\n",
      "Restored all states from the checkpoint at /home/priya/4001 Assignment/.lr_find_0a7b2075-727b-4890-8f74-d568cc09a535.ckpt\n"
     ]
    },
    {
     "data": {
      "text/html": [
       "<pre style=\"white-space:pre;overflow-x:auto;line-height:normal;font-family:Menlo,'DejaVu Sans Mono',consolas,'Courier New',monospace\"><span style=\"color: #008080; text-decoration-color: #008080; font-weight: bold\">2025</span>-<span style=\"color: #008080; text-decoration-color: #008080; font-weight: bold\">03</span>-<span style=\"color: #008080; text-decoration-color: #008080; font-weight: bold\">13</span> <span style=\"color: #00ff00; text-decoration-color: #00ff00; font-weight: bold\">13:39:10</span>,<span style=\"color: #008080; text-decoration-color: #008080; font-weight: bold\">204</span> - <span style=\"font-weight: bold\">{</span>pytorch_tabular.tabular_model:<span style=\"color: #008080; text-decoration-color: #008080; font-weight: bold\">669</span><span style=\"font-weight: bold\">}</span> - INFO - Suggested LR: <span style=\"color: #008080; text-decoration-color: #008080; font-weight: bold\">0.5754399373371567</span>. For plot  \n",
       "and detailed analysis, use `find_learning_rate` method.                                                            \n",
       "</pre>\n"
      ],
      "text/plain": [
       "\u001b[1;36m2025\u001b[0m-\u001b[1;36m03\u001b[0m-\u001b[1;36m13\u001b[0m \u001b[1;92m13:39:10\u001b[0m,\u001b[1;36m204\u001b[0m - \u001b[1m{\u001b[0mpytorch_tabular.tabular_model:\u001b[1;36m669\u001b[0m\u001b[1m}\u001b[0m - INFO - Suggested LR: \u001b[1;36m0.5754399373371567\u001b[0m. For plot  \n",
       "and detailed analysis, use `find_learning_rate` method.                                                            \n"
      ]
     },
     "metadata": {},
     "output_type": "display_data"
    },
    {
     "data": {
      "text/html": [
       "<pre style=\"white-space:pre;overflow-x:auto;line-height:normal;font-family:Menlo,'DejaVu Sans Mono',consolas,'Courier New',monospace\"><span style=\"color: #008080; text-decoration-color: #008080; font-weight: bold\">2025</span>-<span style=\"color: #008080; text-decoration-color: #008080; font-weight: bold\">03</span>-<span style=\"color: #008080; text-decoration-color: #008080; font-weight: bold\">13</span> <span style=\"color: #00ff00; text-decoration-color: #00ff00; font-weight: bold\">13:39:10</span>,<span style=\"color: #008080; text-decoration-color: #008080; font-weight: bold\">214</span> - <span style=\"font-weight: bold\">{</span>pytorch_tabular.tabular_model:<span style=\"color: #008080; text-decoration-color: #008080; font-weight: bold\">678</span><span style=\"font-weight: bold\">}</span> - INFO - Training Started                            \n",
       "</pre>\n"
      ],
      "text/plain": [
       "\u001b[1;36m2025\u001b[0m-\u001b[1;36m03\u001b[0m-\u001b[1;36m13\u001b[0m \u001b[1;92m13:39:10\u001b[0m,\u001b[1;36m214\u001b[0m - \u001b[1m{\u001b[0mpytorch_tabular.tabular_model:\u001b[1;36m678\u001b[0m\u001b[1m}\u001b[0m - INFO - Training Started                            \n"
      ]
     },
     "metadata": {},
     "output_type": "display_data"
    },
    {
     "data": {
      "text/html": [
       "<pre style=\"white-space:pre;overflow-x:auto;line-height:normal;font-family:Menlo,'DejaVu Sans Mono',consolas,'Courier New',monospace\">┏━━━┳━━━━━━━━━━━━━━━━━━┳━━━━━━━━━━━━━━━━━━━━━━━━━━━┳━━━━━━━━┳━━━━━━━┓\n",
       "┃<span style=\"color: #800080; text-decoration-color: #800080; font-weight: bold\">   </span>┃<span style=\"color: #800080; text-decoration-color: #800080; font-weight: bold\"> Name             </span>┃<span style=\"color: #800080; text-decoration-color: #800080; font-weight: bold\"> Type                      </span>┃<span style=\"color: #800080; text-decoration-color: #800080; font-weight: bold\"> Params </span>┃<span style=\"color: #800080; text-decoration-color: #800080; font-weight: bold\"> Mode  </span>┃\n",
       "┡━━━╇━━━━━━━━━━━━━━━━━━╇━━━━━━━━━━━━━━━━━━━━━━━━━━━╇━━━━━━━━╇━━━━━━━┩\n",
       "│<span style=\"color: #7f7f7f; text-decoration-color: #7f7f7f\"> 0 </span>│ _backbone        │ CategoryEmbeddingBackbone │  2.9 K │ train │\n",
       "│<span style=\"color: #7f7f7f; text-decoration-color: #7f7f7f\"> 1 </span>│ _embedding_layer │ Embedding1dLayer          │  1.5 K │ train │\n",
       "│<span style=\"color: #7f7f7f; text-decoration-color: #7f7f7f\"> 2 </span>│ head             │ LinearHead                │     51 │ train │\n",
       "│<span style=\"color: #7f7f7f; text-decoration-color: #7f7f7f\"> 3 </span>│ loss             │ MSELoss                   │      0 │ train │\n",
       "└───┴──────────────────┴───────────────────────────┴────────┴───────┘\n",
       "</pre>\n"
      ],
      "text/plain": [
       "┏━━━┳━━━━━━━━━━━━━━━━━━┳━━━━━━━━━━━━━━━━━━━━━━━━━━━┳━━━━━━━━┳━━━━━━━┓\n",
       "┃\u001b[1;35m \u001b[0m\u001b[1;35m \u001b[0m\u001b[1;35m \u001b[0m┃\u001b[1;35m \u001b[0m\u001b[1;35mName            \u001b[0m\u001b[1;35m \u001b[0m┃\u001b[1;35m \u001b[0m\u001b[1;35mType                     \u001b[0m\u001b[1;35m \u001b[0m┃\u001b[1;35m \u001b[0m\u001b[1;35mParams\u001b[0m\u001b[1;35m \u001b[0m┃\u001b[1;35m \u001b[0m\u001b[1;35mMode \u001b[0m\u001b[1;35m \u001b[0m┃\n",
       "┡━━━╇━━━━━━━━━━━━━━━━━━╇━━━━━━━━━━━━━━━━━━━━━━━━━━━╇━━━━━━━━╇━━━━━━━┩\n",
       "│\u001b[2m \u001b[0m\u001b[2m0\u001b[0m\u001b[2m \u001b[0m│ _backbone        │ CategoryEmbeddingBackbone │  2.9 K │ train │\n",
       "│\u001b[2m \u001b[0m\u001b[2m1\u001b[0m\u001b[2m \u001b[0m│ _embedding_layer │ Embedding1dLayer          │  1.5 K │ train │\n",
       "│\u001b[2m \u001b[0m\u001b[2m2\u001b[0m\u001b[2m \u001b[0m│ head             │ LinearHead                │     51 │ train │\n",
       "│\u001b[2m \u001b[0m\u001b[2m3\u001b[0m\u001b[2m \u001b[0m│ loss             │ MSELoss                   │      0 │ train │\n",
       "└───┴──────────────────┴───────────────────────────┴────────┴───────┘\n"
      ]
     },
     "metadata": {},
     "output_type": "display_data"
    },
    {
     "data": {
      "text/html": [
       "<pre style=\"white-space:pre;overflow-x:auto;line-height:normal;font-family:Menlo,'DejaVu Sans Mono',consolas,'Courier New',monospace\"><span style=\"font-weight: bold\">Trainable params</span>: 4.5 K                                                                                            \n",
       "<span style=\"font-weight: bold\">Non-trainable params</span>: 0                                                                                            \n",
       "<span style=\"font-weight: bold\">Total params</span>: 4.5 K                                                                                                \n",
       "<span style=\"font-weight: bold\">Total estimated model params size (MB)</span>: 0                                                                          \n",
       "<span style=\"font-weight: bold\">Modules in train mode</span>: 16                                                                                          \n",
       "<span style=\"font-weight: bold\">Modules in eval mode</span>: 0                                                                                            \n",
       "</pre>\n"
      ],
      "text/plain": [
       "\u001b[1mTrainable params\u001b[0m: 4.5 K                                                                                            \n",
       "\u001b[1mNon-trainable params\u001b[0m: 0                                                                                            \n",
       "\u001b[1mTotal params\u001b[0m: 4.5 K                                                                                                \n",
       "\u001b[1mTotal estimated model params size (MB)\u001b[0m: 0                                                                          \n",
       "\u001b[1mModules in train mode\u001b[0m: 16                                                                                          \n",
       "\u001b[1mModules in eval mode\u001b[0m: 0                                                                                            \n"
      ]
     },
     "metadata": {},
     "output_type": "display_data"
    },
    {
     "data": {
      "application/vnd.jupyter.widget-view+json": {
       "model_id": "5bbbefe9fde04e35bba045caf4545b3b",
       "version_major": 2,
       "version_minor": 0
      },
      "text/plain": [
       "Output()"
      ]
     },
     "metadata": {},
     "output_type": "display_data"
    },
    {
     "data": {
      "text/html": [
       "<pre style=\"white-space:pre;overflow-x:auto;line-height:normal;font-family:Menlo,'DejaVu Sans Mono',consolas,'Courier New',monospace\"></pre>\n"
      ],
      "text/plain": []
     },
     "metadata": {},
     "output_type": "display_data"
    },
    {
     "data": {
      "text/html": [
       "<pre style=\"white-space:pre;overflow-x:auto;line-height:normal;font-family:Menlo,'DejaVu Sans Mono',consolas,'Courier New',monospace\"><span style=\"color: #008080; text-decoration-color: #008080; font-weight: bold\">2025</span>-<span style=\"color: #008080; text-decoration-color: #008080; font-weight: bold\">03</span>-<span style=\"color: #008080; text-decoration-color: #008080; font-weight: bold\">13</span> <span style=\"color: #00ff00; text-decoration-color: #00ff00; font-weight: bold\">13:40:05</span>,<span style=\"color: #008080; text-decoration-color: #008080; font-weight: bold\">624</span> - <span style=\"font-weight: bold\">{</span>pytorch_tabular.tabular_model:<span style=\"color: #008080; text-decoration-color: #008080; font-weight: bold\">689</span><span style=\"font-weight: bold\">}</span> - INFO - Training the model completed                \n",
       "</pre>\n"
      ],
      "text/plain": [
       "\u001b[1;36m2025\u001b[0m-\u001b[1;36m03\u001b[0m-\u001b[1;36m13\u001b[0m \u001b[1;92m13:40:05\u001b[0m,\u001b[1;36m624\u001b[0m - \u001b[1m{\u001b[0mpytorch_tabular.tabular_model:\u001b[1;36m689\u001b[0m\u001b[1m}\u001b[0m - INFO - Training the model completed                \n"
      ]
     },
     "metadata": {},
     "output_type": "display_data"
    },
    {
     "data": {
      "text/html": [
       "<pre style=\"white-space:pre;overflow-x:auto;line-height:normal;font-family:Menlo,'DejaVu Sans Mono',consolas,'Courier New',monospace\"><span style=\"color: #008080; text-decoration-color: #008080; font-weight: bold\">2025</span>-<span style=\"color: #008080; text-decoration-color: #008080; font-weight: bold\">03</span>-<span style=\"color: #008080; text-decoration-color: #008080; font-weight: bold\">13</span> <span style=\"color: #00ff00; text-decoration-color: #00ff00; font-weight: bold\">13:40:05</span>,<span style=\"color: #008080; text-decoration-color: #008080; font-weight: bold\">630</span> - <span style=\"font-weight: bold\">{</span>pytorch_tabular.tabular_model:<span style=\"color: #008080; text-decoration-color: #008080; font-weight: bold\">1529</span><span style=\"font-weight: bold\">}</span> - INFO - Loading the best model                     \n",
       "</pre>\n"
      ],
      "text/plain": [
       "\u001b[1;36m2025\u001b[0m-\u001b[1;36m03\u001b[0m-\u001b[1;36m13\u001b[0m \u001b[1;92m13:40:05\u001b[0m,\u001b[1;36m630\u001b[0m - \u001b[1m{\u001b[0mpytorch_tabular.tabular_model:\u001b[1;36m1529\u001b[0m\u001b[1m}\u001b[0m - INFO - Loading the best model                     \n"
      ]
     },
     "metadata": {},
     "output_type": "display_data"
    },
    {
     "name": "stderr",
     "output_type": "stream",
     "text": [
      "/home/priya/.local/lib/python3.10/site-packages/pytorch_tabular/utils/python_utils.py:85: FutureWarning: You are using `torch.load` with `weights_only=False` (the current default value), which uses the default pickle module implicitly. It is possible to construct malicious pickle data which will execute arbitrary code during unpickling (See https://github.com/pytorch/pytorch/blob/main/SECURITY.md#untrusted-models for more details). In a future release, the default value for `weights_only` will be flipped to `True`. This limits the functions that could be executed during unpickling. Arbitrary objects will no longer be allowed to be loaded via this mode unless they are explicitly allowlisted by the user via `torch.serialization.add_safe_globals`. We recommend you start setting `weights_only=True` for any use case where you don't have full control of the loaded file. Please open an issue on GitHub for any issues related to this experimental feature.\n",
      "  return torch.load(f, map_location=map_location)\n"
     ]
    },
    {
     "data": {
      "text/plain": [
       "<pytorch_lightning.trainer.trainer.Trainer at 0x721212a44c40>"
      ]
     },
     "execution_count": 17,
     "metadata": {},
     "output_type": "execute_result"
    }
   ],
   "source": [
    "# Define the configuration for data preprocessing\n",
    "data_config = DataConfig(\n",
    "    target=[\"resale_price\"],\n",
    "    continuous_cols=[\"dist_to_nearest_stn\", \"dist_to_dhoby\", \"degree_centrality\", \n",
    "                     \"eigenvector_centrality\", \"remaining_lease_years\", \"floor_area_sqm\"],\n",
    "    categorical_cols=[\"month\", \"town\", \"flat_model_type\", \"storey_range\"]\n",
    ")\n",
    "\n",
    "# Configure the training settings\n",
    "trainer_config = TrainerConfig(\n",
    "    auto_lr_find=True,  # Automatically find the optimal learning rate\n",
    "    batch_size=1024,    # Set batch size\n",
    "    max_epochs=50       # Set maximum number of epochs\n",
    ")\n",
    "\n",
    "# Configure the model architecture settings\n",
    "model_config = CategoryEmbeddingModelConfig(\n",
    "    task=\"regression\",  # Define the task type\n",
    "    layers=50           # Specify the number of layers\n",
    ")\n",
    "\n",
    "# Define optimizer configuration settings\n",
    "optimizer_config = OptimizerConfig(\n",
    "    optimizer=\"Adam\"    # Set optimizer to Adam\n",
    ")\n",
    "\n",
    "# Initialize and configure the TabularModel with the defined configurations\n",
    "tabular_model = TabularModel(\n",
    "    data_config=data_config,\n",
    "    model_config=model_config,\n",
    "    optimizer_config=optimizer_config,\n",
    "    trainer_config=trainer_config\n",
    ")\n",
    "\n",
    "# Fit the model using training and validation data\n",
    "tabular_model.fit(train=train_df, validation=val_df)\n",
    "# YOUR CODE HERE"
   ]
  },
  {
   "cell_type": "markdown",
   "metadata": {
    "id": "-2UXPKq0qWQG"
   },
   "source": [
    "> Report the test RMSE error and the test R2 value that you obtained.\n",
    "\n"
   ]
  },
  {
   "cell_type": "code",
   "execution_count": 18,
   "metadata": {
    "id": "zmE9Bc7Nqadi"
   },
   "outputs": [
    {
     "data": {
      "text/html": [
       "<div>\n",
       "<style scoped>\n",
       "    .dataframe tbody tr th:only-of-type {\n",
       "        vertical-align: middle;\n",
       "    }\n",
       "\n",
       "    .dataframe tbody tr th {\n",
       "        vertical-align: top;\n",
       "    }\n",
       "\n",
       "    .dataframe thead th {\n",
       "        text-align: right;\n",
       "    }\n",
       "</style>\n",
       "<table border=\"1\" class=\"dataframe\">\n",
       "  <thead>\n",
       "    <tr style=\"text-align: right;\">\n",
       "      <th></th>\n",
       "      <th>resale_price_prediction</th>\n",
       "      <th>resale_price</th>\n",
       "    </tr>\n",
       "  </thead>\n",
       "  <tbody>\n",
       "    <tr>\n",
       "      <th>87370</th>\n",
       "      <td>136601.46875</td>\n",
       "      <td>211000.0</td>\n",
       "    </tr>\n",
       "    <tr>\n",
       "      <th>87371</th>\n",
       "      <td>166652.90625</td>\n",
       "      <td>225000.0</td>\n",
       "    </tr>\n",
       "    <tr>\n",
       "      <th>87372</th>\n",
       "      <td>299092.68750</td>\n",
       "      <td>260000.0</td>\n",
       "    </tr>\n",
       "    <tr>\n",
       "      <th>87373</th>\n",
       "      <td>294914.81250</td>\n",
       "      <td>265000.0</td>\n",
       "    </tr>\n",
       "    <tr>\n",
       "      <th>87374</th>\n",
       "      <td>266336.78125</td>\n",
       "      <td>265000.0</td>\n",
       "    </tr>\n",
       "    <tr>\n",
       "      <th>...</th>\n",
       "      <td>...</td>\n",
       "      <td>...</td>\n",
       "    </tr>\n",
       "    <tr>\n",
       "      <th>116422</th>\n",
       "      <td>574844.00000</td>\n",
       "      <td>720000.0</td>\n",
       "    </tr>\n",
       "    <tr>\n",
       "      <th>116423</th>\n",
       "      <td>574533.62500</td>\n",
       "      <td>738000.0</td>\n",
       "    </tr>\n",
       "    <tr>\n",
       "      <th>116424</th>\n",
       "      <td>636705.56250</td>\n",
       "      <td>755000.0</td>\n",
       "    </tr>\n",
       "    <tr>\n",
       "      <th>116425</th>\n",
       "      <td>691219.81250</td>\n",
       "      <td>848000.0</td>\n",
       "    </tr>\n",
       "    <tr>\n",
       "      <th>116426</th>\n",
       "      <td>779560.43750</td>\n",
       "      <td>865000.0</td>\n",
       "    </tr>\n",
       "  </tbody>\n",
       "</table>\n",
       "<p>29057 rows × 2 columns</p>\n",
       "</div>"
      ],
      "text/plain": [
       "        resale_price_prediction  resale_price\n",
       "87370              136601.46875      211000.0\n",
       "87371              166652.90625      225000.0\n",
       "87372              299092.68750      260000.0\n",
       "87373              294914.81250      265000.0\n",
       "87374              266336.78125      265000.0\n",
       "...                         ...           ...\n",
       "116422             574844.00000      720000.0\n",
       "116423             574533.62500      738000.0\n",
       "116424             636705.56250      755000.0\n",
       "116425             691219.81250      848000.0\n",
       "116426             779560.43750      865000.0\n",
       "\n",
       "[29057 rows x 2 columns]"
      ]
     },
     "execution_count": 18,
     "metadata": {},
     "output_type": "execute_result"
    }
   ],
   "source": [
    "from sklearn.metrics import mean_squared_error, r2_score\n",
    "\n",
    "pred_df = tabular_model.predict(test=test_df)\n",
    "\n",
    "pred_df[\"resale_price\"] = test_df[\"resale_price\"].values # Append the testing set retail price (ground truths)\n",
    "\n",
    "pred_df\n"
   ]
  },
  {
   "cell_type": "code",
   "execution_count": 19,
   "metadata": {},
   "outputs": [
    {
     "name": "stdout",
     "output_type": "stream",
     "text": [
      "RMSE:  80411.27061996955\n",
      "R-squared:  0.7555578492468408\n"
     ]
    }
   ],
   "source": [
    "y = pred_df[\"resale_price\"]\n",
    "pred = pred_df[\"resale_price_prediction\"]\n",
    "\n",
    "rmse = np.sqrt(mean_squared_error(y, pred))\n",
    "print(\"RMSE: \", rmse)\n",
    "\n",
    "r_squared = r2_score(y, pred)\n",
    "print(\"R-squared: \", r_squared)\n",
    "\n"
   ]
  },
  {
   "cell_type": "markdown",
   "metadata": {
    "id": "NEJhRU18qX22"
   },
   "source": [
    "> Print out the corresponding rows in the dataframe for the top 25 test samples with the largest errors. \n",
    "\n"
   ]
  },
  {
   "cell_type": "code",
   "execution_count": 20,
   "metadata": {
    "id": "5ma5K9vKqZEq"
   },
   "outputs": [
    {
     "data": {
      "text/html": [
       "<div>\n",
       "<style scoped>\n",
       "    .dataframe tbody tr th:only-of-type {\n",
       "        vertical-align: middle;\n",
       "    }\n",
       "\n",
       "    .dataframe tbody tr th {\n",
       "        vertical-align: top;\n",
       "    }\n",
       "\n",
       "    .dataframe thead th {\n",
       "        text-align: right;\n",
       "    }\n",
       "</style>\n",
       "<table border=\"1\" class=\"dataframe\">\n",
       "  <thead>\n",
       "    <tr style=\"text-align: right;\">\n",
       "      <th></th>\n",
       "      <th>resale_price_prediction</th>\n",
       "      <th>resale_price</th>\n",
       "      <th>Absolute_loss</th>\n",
       "    </tr>\n",
       "  </thead>\n",
       "  <tbody>\n",
       "    <tr>\n",
       "      <th>92405</th>\n",
       "      <td>360914.6875</td>\n",
       "      <td>780000.0</td>\n",
       "      <td>419085.3125</td>\n",
       "    </tr>\n",
       "    <tr>\n",
       "      <th>105372</th>\n",
       "      <td>561211.7500</td>\n",
       "      <td>975000.0</td>\n",
       "      <td>413788.2500</td>\n",
       "    </tr>\n",
       "    <tr>\n",
       "      <th>106192</th>\n",
       "      <td>560444.9375</td>\n",
       "      <td>968000.0</td>\n",
       "      <td>407555.0625</td>\n",
       "    </tr>\n",
       "    <tr>\n",
       "      <th>105869</th>\n",
       "      <td>535871.5000</td>\n",
       "      <td>930000.0</td>\n",
       "      <td>394128.5000</td>\n",
       "    </tr>\n",
       "    <tr>\n",
       "      <th>106057</th>\n",
       "      <td>574577.0625</td>\n",
       "      <td>958000.0</td>\n",
       "      <td>383422.9375</td>\n",
       "    </tr>\n",
       "    <tr>\n",
       "      <th>105695</th>\n",
       "      <td>549269.4375</td>\n",
       "      <td>930000.0</td>\n",
       "      <td>380730.5625</td>\n",
       "    </tr>\n",
       "    <tr>\n",
       "      <th>105696</th>\n",
       "      <td>583298.4375</td>\n",
       "      <td>950000.0</td>\n",
       "      <td>366701.5625</td>\n",
       "    </tr>\n",
       "    <tr>\n",
       "      <th>92442</th>\n",
       "      <td>799522.0000</td>\n",
       "      <td>1165000.0</td>\n",
       "      <td>365478.0000</td>\n",
       "    </tr>\n",
       "    <tr>\n",
       "      <th>105702</th>\n",
       "      <td>869783.5000</td>\n",
       "      <td>1235000.0</td>\n",
       "      <td>365216.5000</td>\n",
       "    </tr>\n",
       "    <tr>\n",
       "      <th>105699</th>\n",
       "      <td>670265.9375</td>\n",
       "      <td>1032888.0</td>\n",
       "      <td>362622.0625</td>\n",
       "    </tr>\n",
       "    <tr>\n",
       "      <th>105468</th>\n",
       "      <td>558144.5000</td>\n",
       "      <td>920000.0</td>\n",
       "      <td>361855.5000</td>\n",
       "    </tr>\n",
       "    <tr>\n",
       "      <th>92340</th>\n",
       "      <td>891536.8125</td>\n",
       "      <td>1245000.0</td>\n",
       "      <td>353463.1875</td>\n",
       "    </tr>\n",
       "    <tr>\n",
       "      <th>90957</th>\n",
       "      <td>618831.4375</td>\n",
       "      <td>968000.0</td>\n",
       "      <td>349168.5625</td>\n",
       "    </tr>\n",
       "    <tr>\n",
       "      <th>88081</th>\n",
       "      <td>752132.8125</td>\n",
       "      <td>1100000.0</td>\n",
       "      <td>347867.1875</td>\n",
       "    </tr>\n",
       "    <tr>\n",
       "      <th>106190</th>\n",
       "      <td>596071.1250</td>\n",
       "      <td>938888.0</td>\n",
       "      <td>342816.8750</td>\n",
       "    </tr>\n",
       "    <tr>\n",
       "      <th>105961</th>\n",
       "      <td>559080.9375</td>\n",
       "      <td>900000.0</td>\n",
       "      <td>340919.0625</td>\n",
       "    </tr>\n",
       "    <tr>\n",
       "      <th>92226</th>\n",
       "      <td>881814.3750</td>\n",
       "      <td>1220000.0</td>\n",
       "      <td>338185.6250</td>\n",
       "    </tr>\n",
       "    <tr>\n",
       "      <th>112128</th>\n",
       "      <td>666968.3750</td>\n",
       "      <td>998000.0</td>\n",
       "      <td>331031.6250</td>\n",
       "    </tr>\n",
       "    <tr>\n",
       "      <th>114389</th>\n",
       "      <td>650036.5625</td>\n",
       "      <td>980000.0</td>\n",
       "      <td>329963.4375</td>\n",
       "    </tr>\n",
       "    <tr>\n",
       "      <th>105966</th>\n",
       "      <td>638866.5625</td>\n",
       "      <td>968800.0</td>\n",
       "      <td>329933.4375</td>\n",
       "    </tr>\n",
       "    <tr>\n",
       "      <th>106191</th>\n",
       "      <td>620261.1250</td>\n",
       "      <td>950000.0</td>\n",
       "      <td>329738.8750</td>\n",
       "    </tr>\n",
       "    <tr>\n",
       "      <th>92504</th>\n",
       "      <td>365288.8750</td>\n",
       "      <td>695000.0</td>\n",
       "      <td>329711.1250</td>\n",
       "    </tr>\n",
       "    <tr>\n",
       "      <th>105526</th>\n",
       "      <td>598382.1250</td>\n",
       "      <td>928000.0</td>\n",
       "      <td>329617.8750</td>\n",
       "    </tr>\n",
       "    <tr>\n",
       "      <th>105523</th>\n",
       "      <td>550246.9375</td>\n",
       "      <td>878000.0</td>\n",
       "      <td>327753.0625</td>\n",
       "    </tr>\n",
       "    <tr>\n",
       "      <th>105792</th>\n",
       "      <td>660857.6875</td>\n",
       "      <td>988000.0</td>\n",
       "      <td>327142.3125</td>\n",
       "    </tr>\n",
       "  </tbody>\n",
       "</table>\n",
       "</div>"
      ],
      "text/plain": [
       "        resale_price_prediction  resale_price  Absolute_loss\n",
       "92405               360914.6875      780000.0    419085.3125\n",
       "105372              561211.7500      975000.0    413788.2500\n",
       "106192              560444.9375      968000.0    407555.0625\n",
       "105869              535871.5000      930000.0    394128.5000\n",
       "106057              574577.0625      958000.0    383422.9375\n",
       "105695              549269.4375      930000.0    380730.5625\n",
       "105696              583298.4375      950000.0    366701.5625\n",
       "92442               799522.0000     1165000.0    365478.0000\n",
       "105702              869783.5000     1235000.0    365216.5000\n",
       "105699              670265.9375     1032888.0    362622.0625\n",
       "105468              558144.5000      920000.0    361855.5000\n",
       "92340               891536.8125     1245000.0    353463.1875\n",
       "90957               618831.4375      968000.0    349168.5625\n",
       "88081               752132.8125     1100000.0    347867.1875\n",
       "106190              596071.1250      938888.0    342816.8750\n",
       "105961              559080.9375      900000.0    340919.0625\n",
       "92226               881814.3750     1220000.0    338185.6250\n",
       "112128              666968.3750      998000.0    331031.6250\n",
       "114389              650036.5625      980000.0    329963.4375\n",
       "105966              638866.5625      968800.0    329933.4375\n",
       "106191              620261.1250      950000.0    329738.8750\n",
       "92504               365288.8750      695000.0    329711.1250\n",
       "105526              598382.1250      928000.0    329617.8750\n",
       "105523              550246.9375      878000.0    327753.0625\n",
       "105792              660857.6875      988000.0    327142.3125"
      ]
     },
     "execution_count": 20,
     "metadata": {},
     "output_type": "execute_result"
    }
   ],
   "source": [
    "pred_df[\"Absolute_loss\"] = abs(y-pred)\n",
    "sorted_df = pred_df.sort_values(\"Absolute_loss\", ascending=False)\n",
    "\n",
    "\n",
    "top = sorted_df[0:25]\n",
    "top"
   ]
  },
  {
   "cell_type": "code",
   "execution_count": 21,
   "metadata": {},
   "outputs": [
    {
     "name": "stdout",
     "output_type": "stream",
     "text": [
      "Mean Resale Price:  511417.39377189666\n",
      "Mean Prediction:  455211.62\n",
      "Median Resale Price:  483000.0\n",
      "Median Prediction:  441981.44\n"
     ]
    }
   ],
   "source": [
    "# Calculate the mean of the resale price and predicted price\n",
    "mean_resale_price = pred_df[\"resale_price\"].mean()\n",
    "mean_prediction = pred_df[\"resale_price_prediction\"].mean()\n",
    "\n",
    "# Calculate the median of the resale price and predicted price\n",
    "median_resale_price = pred_df[\"resale_price\"].median()\n",
    "median_prediction = pred_df[\"resale_price_prediction\"].median()\n",
    "\n",
    "# Print the results\n",
    "print(\"Mean Resale Price: \", mean_resale_price)\n",
    "print(\"Mean Prediction: \", mean_prediction)\n",
    "print(\"Median Resale Price: \", median_resale_price)\n",
    "print(\"Median Prediction: \", median_prediction)\n"
   ]
  },
  {
   "cell_type": "code",
   "execution_count": 22,
   "metadata": {},
   "outputs": [
    {
     "data": {
      "image/png": "[encoded data removed]",
      "text/plain": [
       "<Figure size 1200x500 with 1 Axes>"
      ]
     },
     "metadata": {},
     "output_type": "display_data"
    }
   ],
   "source": [
    "import matplotlib.pyplot as plt\n",
    "\n",
    "# Create the figure and axis with custom appearance\n",
    "fig, ax1 = plt.subplots(1, 1, figsize=(12, 5))\n",
    "\n",
    "# Customize histogram appearance\n",
    "ax1.hist(top[\"resale_price\"], bins=25, alpha=0.7, edgecolor='black', color='skyblue')\n",
    "\n",
    "# Set labels and title with increased font sizes\n",
    "ax1.set_xlabel('Resale Price', fontsize=14, fontweight='bold')\n",
    "ax1.set_ylabel('Frequency', fontsize=14, fontweight='bold')\n",
    "ax1.set_title('Top 25 Resale Prices', fontsize=16, fontweight='bold')\n",
    "\n",
    "# Add gridlines for better readability\n",
    "ax1.grid(True, linestyle='--', alpha=0.5)\n",
    "\n",
    "# Adjust layout to make sure labels are not cut off\n",
    "plt.tight_layout()\n",
    "\n",
    "# Show the plot\n",
    "plt.show()\n"
   ]
  },
  {
   "cell_type": "code",
   "execution_count": 23,
   "metadata": {},
   "outputs": [
    {
     "data": {
      "image/png": "[encoded data removed]",
      "text/plain": [
       "<Figure size 1200x500 with 1 Axes>"
      ]
     },
     "metadata": {},
     "output_type": "display_data"
    }
   ],
   "source": [
    "import matplotlib.pyplot as plt\n",
    "\n",
    "# Create the figure and axis\n",
    "fig, ax = plt.subplots(figsize=(12, 5))\n",
    "\n",
    "# Plot both histograms on the same axis for comparison\n",
    "ax.hist(pred_df[\"resale_price\"], bins=25, alpha=0.5, edgecolor='black', color='skyblue', label='Resale Price')\n",
    "ax.hist(pred_df[\"resale_price_prediction\"], bins=25, alpha=0.5, edgecolor='black', color='salmon', label='Resale Price Prediction')\n",
    "\n",
    "# Set labels and title with larger font sizes\n",
    "ax.set_xlabel('Resale Price', fontsize=14, fontweight='bold')\n",
    "ax.set_ylabel('Frequency', fontsize=14, fontweight='bold')\n",
    "ax.set_title('Comparison of Resale Price and Predicted Resale Price', fontsize=16, fontweight='bold')\n",
    "\n",
    "# Add a legend to distinguish between the two histograms\n",
    "ax.legend(fontsize=12)\n",
    "\n",
    "# Add gridlines with a subtle dashed style\n",
    "ax.grid(True, linestyle='--', alpha=0.5)\n",
    "\n",
    "# Adjust layout to ensure all elements are fully visible\n",
    "plt.tight_layout()\n",
    "\n",
    "# Display the plot\n",
    "plt.show()\n"
   ]
  },
  {
   "cell_type": "code",
   "execution_count": 24,
   "metadata": {},
   "outputs": [
    {
     "data": {
      "text/plain": [
       "'Trends:\\n\\nWorst predictions are dominated by \"4 ROOM, Premium Apartment Loft\" (13 out of 25 cases), even though this flat model type is not in the top 5 in the test data.\\n16 out of 25 worst predictions are in Queenstown, and Queenstown is not in the top 5 towns.\\nWays to reduce errors:\\n\\nPremium, unique properties are not predicted well, possibly due to flat model type being relatively rare. More training data on premium properties can help the model learn better. Inclusion of more specific flat features can provide more grounds for comparison between premium and common flat types, so model can justify and predict prices better for premium flats.\\nLocation-specific pricing in Queenstown is not well captured, hence the model needs more training data from Queenstown.'"
      ]
     },
     "execution_count": 24,
     "metadata": {},
     "output_type": "execute_result"
    }
   ],
   "source": [
    "'''Trends:\n",
    "\n",
    "Worst predictions are dominated by \"4 ROOM, Premium Apartment Loft\" (13 out of 25 cases), even though this flat model type is not in the top 5 in the test data.\n",
    "16 out of 25 worst predictions are in Queenstown, and Queenstown is not in the top 5 towns.\n",
    "Ways to reduce errors:\n",
    "\n",
    "Premium, unique properties are not predicted well, possibly due to flat model type being relatively rare. More training data on premium properties can help the model learn better. Inclusion of more specific flat features can provide more grounds for comparison between premium and common flat types, so model can justify and predict prices better for premium flats.\n",
    "Location-specific pricing in Queenstown is not well captured, hence the model needs more training data from Queenstown.'''"
   ]
  },
  {
   "cell_type": "markdown",
   "metadata": {},
   "source": [
    "### Analysis of Resale Price and Predicted Resale Price Distributions\n",
    "\n",
    "#### 1. Distribution Characteristics\n",
    "- **Resale Price Distribution:**\n",
    "  - The resale prices are right-skewed, indicating that a significant portion of the data points are concentrated in the lower price range, with fewer high-value resale prices.\n",
    "- **Predicted Resale Price Distribution:**\n",
    "  - The predicted resale prices follow a relatively uniform distribution, suggesting that the model is not capturing the extreme values in the higher resale price ranges (right tail).\n",
    "\n",
    "#### 2. Model Performance for High Resale Prices\n",
    "- The comparison shows that the model struggles with generalization in predicting high resale prices.\n",
    "- The top 25 samples with the largest errors are above the mean and median of the resale prices, indicating that these high-value predictions are less accurate.\n",
    "\n",
    "#### 3. Implications of Right-Skewed Data\n",
    "- The right skewness in the resale price data suggests that the model might be overfitted to the more frequently occurring lower resale prices.\n",
    "- This overfitting results in underperformance for high resale prices due to insufficient representation during training.\n",
    "\n",
    "#### 4. Potential Improvements\n",
    "- **Rebalancing the Training Data:**\n",
    "  - Up-sampling high resale price data points or down-sampling low resale prices could improve the model's ability to generalize for high resale prices.\n",
    "  - Utilizing Synthetic Minority Over-sampling Technique (SMOTE) to enhance the representation of high resale prices may also aid in better predictions for those values.\n",
    "- **Log Transformation of Target Variable:**\n",
    "  - Applying a log transformation can help in normalizing the target variable, potentially leading to a distribution closer to normal, which may assist the model in capturing both low and high resale prices effectively.\n"
   ]
  },
  {
   "cell_type": "markdown",
   "metadata": {},
   "source": [
    "Part B, Q2 (10 marks)\n",
    "---\n",
    "In Question B1, we used the Category Embedding model. This creates a feedforward neural network in which the categorical features get learnable embeddings. In this question, we will make use of a library called Pytorch-WideDeep. This library makes it easy to work with multimodal deep-learning problems combining images, text, and tables. We will just be utilizing the deeptabular component of this library through the TabMlp network."
   ]
  },
  {
   "cell_type": "code",
   "execution_count": 1,
   "metadata": {},
   "outputs": [
    {
     "name": "stdout",
     "output_type": "stream",
     "text": [
      "Requirement already satisfied: pytorch-widedeep in /home/priya/.local/lib/python3.10/site-packages (1.6.5)\n",
      "Requirement already satisfied: pandas>=1.3.5 in /home/priya/.local/lib/python3.10/site-packages (from pytorch-widedeep) (1.5.3)\n",
      "Requirement already satisfied: numpy<2.0.0,>=1.21.6 in /home/priya/.local/lib/python3.10/site-packages (from pytorch-widedeep) (1.26.4)\n",
      "Requirement already satisfied: scipy<=1.12.0,>=1.7.3 in /home/priya/.local/lib/python3.10/site-packages (from pytorch-widedeep) (1.12.0)\n",
      "Requirement already satisfied: scikit-learn>=1.0.2 in /home/priya/.local/lib/python3.10/site-packages (from pytorch-widedeep) (1.5.2)\n",
      "Requirement already satisfied: gensim in /home/priya/.local/lib/python3.10/site-packages (from pytorch-widedeep) (4.3.3)\n",
      "Requirement already satisfied: spacy in /home/priya/.local/lib/python3.10/site-packages (from pytorch-widedeep) (3.8.4)\n",
      "Requirement already satisfied: opencv-contrib-python>=4.9.0.80 in /home/priya/.local/lib/python3.10/site-packages (from pytorch-widedeep) (4.11.0.86)\n",
      "Requirement already satisfied: tqdm in /home/priya/.local/lib/python3.10/site-packages (from pytorch-widedeep) (4.66.5)\n",
      "Requirement already satisfied: torch>=2.0.0 in /home/priya/.local/lib/python3.10/site-packages (from pytorch-widedeep) (2.4.1)\n",
      "Requirement already satisfied: torchvision>=0.15.0 in /home/priya/.local/lib/python3.10/site-packages (from pytorch-widedeep) (0.19.1+cpu)\n",
      "Requirement already satisfied: einops in /home/priya/.local/lib/python3.10/site-packages (from pytorch-widedeep) (0.7.0)\n",
      "Requirement already satisfied: wrapt in /home/priya/.local/lib/python3.10/site-packages (from pytorch-widedeep) (1.16.0)\n",
      "Requirement already satisfied: torchmetrics>=1.3.1 in /home/priya/.local/lib/python3.10/site-packages (from pytorch-widedeep) (1.5.2)\n",
      "Requirement already satisfied: pyarrow>=15.0.0 in /home/priya/.local/lib/python3.10/site-packages (from pytorch-widedeep) (17.0.0)\n",
      "Requirement already satisfied: fastparquet>=2024.2.0 in /home/priya/.local/lib/python3.10/site-packages (from pytorch-widedeep) (2024.11.0)\n",
      "Requirement already satisfied: transformers>=4.37.0 in /home/priya/.local/lib/python3.10/site-packages (from pytorch-widedeep) (4.49.0)\n",
      "Requirement already satisfied: sentence-transformers>=2.3.0 in /home/priya/.local/lib/python3.10/site-packages (from pytorch-widedeep) (3.4.1)\n",
      "Requirement already satisfied: sentencepiece>=0.2.0 in /home/priya/.local/lib/python3.10/site-packages (from pytorch-widedeep) (0.2.0)\n",
      "Requirement already satisfied: cramjam>=2.3 in /home/priya/.local/lib/python3.10/site-packages (from fastparquet>=2024.2.0->pytorch-widedeep) (2.9.1)\n",
      "Requirement already satisfied: fsspec in /home/priya/.local/lib/python3.10/site-packages (from fastparquet>=2024.2.0->pytorch-widedeep) (2024.6.1)\n",
      "Requirement already satisfied: packaging in /home/priya/.local/lib/python3.10/site-packages (from fastparquet>=2024.2.0->pytorch-widedeep) (23.2)\n",
      "Requirement already satisfied: python-dateutil>=2.8.1 in /home/priya/.local/lib/python3.10/site-packages (from pandas>=1.3.5->pytorch-widedeep) (2.9.0.post0)\n",
      "Requirement already satisfied: pytz>=2020.1 in /home/priya/.local/lib/python3.10/site-packages (from pandas>=1.3.5->pytorch-widedeep) (2024.2)\n",
      "Requirement already satisfied: joblib>=1.2.0 in /home/priya/.local/lib/python3.10/site-packages (from scikit-learn>=1.0.2->pytorch-widedeep) (1.4.2)\n",
      "Requirement already satisfied: threadpoolctl>=3.1.0 in /home/priya/.local/lib/python3.10/site-packages (from scikit-learn>=1.0.2->pytorch-widedeep) (3.5.0)\n",
      "Requirement already satisfied: huggingface-hub>=0.20.0 in /home/priya/.local/lib/python3.10/site-packages (from sentence-transformers>=2.3.0->pytorch-widedeep) (0.29.3)\n",
      "Requirement already satisfied: Pillow in /home/priya/.local/lib/python3.10/site-packages (from sentence-transformers>=2.3.0->pytorch-widedeep) (9.5.0)\n",
      "Requirement already satisfied: filelock in /home/priya/.local/lib/python3.10/site-packages (from torch>=2.0.0->pytorch-widedeep) (3.17.0)\n",
      "Requirement already satisfied: typing-extensions>=4.8.0 in /home/priya/.local/lib/python3.10/site-packages (from torch>=2.0.0->pytorch-widedeep) (4.12.2)\n",
      "Requirement already satisfied: sympy in /home/priya/.local/lib/python3.10/site-packages (from torch>=2.0.0->pytorch-widedeep) (1.13.1)\n",
      "Requirement already satisfied: networkx in /home/priya/.local/lib/python3.10/site-packages (from torch>=2.0.0->pytorch-widedeep) (3.4.1)\n",
      "Requirement already satisfied: jinja2 in /home/priya/.local/lib/python3.10/site-packages (from torch>=2.0.0->pytorch-widedeep) (3.1.4)\n",
      "Requirement already satisfied: nvidia-cuda-nvrtc-cu12==12.1.105 in /home/priya/.local/lib/python3.10/site-packages (from torch>=2.0.0->pytorch-widedeep) (12.1.105)\n",
      "Requirement already satisfied: nvidia-cuda-runtime-cu12==12.1.105 in /home/priya/.local/lib/python3.10/site-packages (from torch>=2.0.0->pytorch-widedeep) (12.1.105)\n",
      "Requirement already satisfied: nvidia-cuda-cupti-cu12==12.1.105 in /home/priya/.local/lib/python3.10/site-packages (from torch>=2.0.0->pytorch-widedeep) (12.1.105)\n",
      "Requirement already satisfied: nvidia-cudnn-cu12==9.1.0.70 in /home/priya/.local/lib/python3.10/site-packages (from torch>=2.0.0->pytorch-widedeep) (9.1.0.70)\n",
      "Requirement already satisfied: nvidia-cublas-cu12==12.1.3.1 in /home/priya/.local/lib/python3.10/site-packages (from torch>=2.0.0->pytorch-widedeep) (12.1.3.1)\n",
      "Requirement already satisfied: nvidia-cufft-cu12==11.0.2.54 in /home/priya/.local/lib/python3.10/site-packages (from torch>=2.0.0->pytorch-widedeep) (11.0.2.54)\n",
      "Requirement already satisfied: nvidia-curand-cu12==10.3.2.106 in /home/priya/.local/lib/python3.10/site-packages (from torch>=2.0.0->pytorch-widedeep) (10.3.2.106)\n",
      "Requirement already satisfied: nvidia-cusolver-cu12==11.4.5.107 in /home/priya/.local/lib/python3.10/site-packages (from torch>=2.0.0->pytorch-widedeep) (11.4.5.107)\n",
      "Requirement already satisfied: nvidia-cusparse-cu12==12.1.0.106 in /home/priya/.local/lib/python3.10/site-packages (from torch>=2.0.0->pytorch-widedeep) (12.1.0.106)\n",
      "Requirement already satisfied: nvidia-nccl-cu12==2.20.5 in /home/priya/.local/lib/python3.10/site-packages (from torch>=2.0.0->pytorch-widedeep) (2.20.5)\n",
      "Requirement already satisfied: nvidia-nvtx-cu12==12.1.105 in /home/priya/.local/lib/python3.10/site-packages (from torch>=2.0.0->pytorch-widedeep) (12.1.105)\n",
      "Requirement already satisfied: triton==3.0.0 in /home/priya/.local/lib/python3.10/site-packages (from torch>=2.0.0->pytorch-widedeep) (3.0.0)\n",
      "Requirement already satisfied: nvidia-nvjitlink-cu12 in /home/priya/.local/lib/python3.10/site-packages (from nvidia-cusolver-cu12==11.4.5.107->torch>=2.0.0->pytorch-widedeep) (12.4.127)\n",
      "Requirement already satisfied: lightning-utilities>=0.8.0 in /home/priya/.local/lib/python3.10/site-packages (from torchmetrics>=1.3.1->pytorch-widedeep) (0.14.0)\n",
      "Requirement already satisfied: pyyaml>=5.1 in /usr/lib/python3/dist-packages (from transformers>=4.37.0->pytorch-widedeep) (5.4.1)\n",
      "Requirement already satisfied: regex!=2019.12.17 in /home/priya/.local/lib/python3.10/site-packages (from transformers>=4.37.0->pytorch-widedeep) (2024.9.11)\n",
      "Requirement already satisfied: requests in /home/priya/.local/lib/python3.10/site-packages (from transformers>=4.37.0->pytorch-widedeep) (2.32.3)\n",
      "Requirement already satisfied: tokenizers<0.22,>=0.21 in /home/priya/.local/lib/python3.10/site-packages (from transformers>=4.37.0->pytorch-widedeep) (0.21.0)\n",
      "Requirement already satisfied: safetensors>=0.4.1 in /home/priya/.local/lib/python3.10/site-packages (from transformers>=4.37.0->pytorch-widedeep) (0.5.3)\n",
      "Requirement already satisfied: smart-open>=1.8.1 in /home/priya/.local/lib/python3.10/site-packages (from gensim->pytorch-widedeep) (7.0.5)\n",
      "Requirement already satisfied: spacy-legacy<3.1.0,>=3.0.11 in /home/priya/.local/lib/python3.10/site-packages (from spacy->pytorch-widedeep) (3.0.12)\n",
      "Requirement already satisfied: spacy-loggers<2.0.0,>=1.0.0 in /home/priya/.local/lib/python3.10/site-packages (from spacy->pytorch-widedeep) (1.0.5)\n",
      "Requirement already satisfied: murmurhash<1.1.0,>=0.28.0 in /home/priya/.local/lib/python3.10/site-packages (from spacy->pytorch-widedeep) (1.0.12)\n",
      "Requirement already satisfied: cymem<2.1.0,>=2.0.2 in /home/priya/.local/lib/python3.10/site-packages (from spacy->pytorch-widedeep) (2.0.11)\n",
      "Requirement already satisfied: preshed<3.1.0,>=3.0.2 in /home/priya/.local/lib/python3.10/site-packages (from spacy->pytorch-widedeep) (3.0.9)\n",
      "Requirement already satisfied: thinc<8.4.0,>=8.3.4 in /home/priya/.local/lib/python3.10/site-packages (from spacy->pytorch-widedeep) (8.3.4)\n",
      "Requirement already satisfied: wasabi<1.2.0,>=0.9.1 in /home/priya/.local/lib/python3.10/site-packages (from spacy->pytorch-widedeep) (1.1.3)\n",
      "Requirement already satisfied: srsly<3.0.0,>=2.4.3 in /home/priya/.local/lib/python3.10/site-packages (from spacy->pytorch-widedeep) (2.5.1)\n",
      "Requirement already satisfied: catalogue<2.1.0,>=2.0.6 in /home/priya/.local/lib/python3.10/site-packages (from spacy->pytorch-widedeep) (2.0.10)\n",
      "Requirement already satisfied: weasel<0.5.0,>=0.1.0 in /home/priya/.local/lib/python3.10/site-packages (from spacy->pytorch-widedeep) (0.4.1)\n",
      "Requirement already satisfied: typer<1.0.0,>=0.3.0 in /home/priya/.local/lib/python3.10/site-packages (from spacy->pytorch-widedeep) (0.15.2)\n",
      "Requirement already satisfied: pydantic!=1.8,!=1.8.1,<3.0.0,>=1.7.4 in /home/priya/.local/lib/python3.10/site-packages (from spacy->pytorch-widedeep) (2.10.6)\n",
      "Requirement already satisfied: setuptools in /usr/lib/python3/dist-packages (from spacy->pytorch-widedeep) (59.6.0)\n",
      "Requirement already satisfied: langcodes<4.0.0,>=3.2.0 in /home/priya/.local/lib/python3.10/site-packages (from spacy->pytorch-widedeep) (3.5.0)\n",
      "Requirement already satisfied: language-data>=1.2 in /home/priya/.local/lib/python3.10/site-packages (from langcodes<4.0.0,>=3.2.0->spacy->pytorch-widedeep) (1.3.0)\n",
      "Requirement already satisfied: annotated-types>=0.6.0 in /home/priya/.local/lib/python3.10/site-packages (from pydantic!=1.8,!=1.8.1,<3.0.0,>=1.7.4->spacy->pytorch-widedeep) (0.7.0)\n",
      "Requirement already satisfied: pydantic-core==2.27.2 in /home/priya/.local/lib/python3.10/site-packages (from pydantic!=1.8,!=1.8.1,<3.0.0,>=1.7.4->spacy->pytorch-widedeep) (2.27.2)\n",
      "Requirement already satisfied: six>=1.5 in /usr/lib/python3/dist-packages (from python-dateutil>=2.8.1->pandas>=1.3.5->pytorch-widedeep) (1.16.0)\n",
      "Requirement already satisfied: charset-normalizer<4,>=2 in /home/priya/.local/lib/python3.10/site-packages (from requests->transformers>=4.37.0->pytorch-widedeep) (3.4.0)\n",
      "Requirement already satisfied: idna<4,>=2.5 in /home/priya/.local/lib/python3.10/site-packages (from requests->transformers>=4.37.0->pytorch-widedeep) (3.10)\n",
      "Requirement already satisfied: urllib3<3,>=1.21.1 in /home/priya/.local/lib/python3.10/site-packages (from requests->transformers>=4.37.0->pytorch-widedeep) (1.26.20)\n",
      "Requirement already satisfied: certifi>=2017.4.17 in /home/priya/.local/lib/python3.10/site-packages (from requests->transformers>=4.37.0->pytorch-widedeep) (2024.8.30)\n",
      "Requirement already satisfied: blis<1.3.0,>=1.2.0 in /home/priya/.local/lib/python3.10/site-packages (from thinc<8.4.0,>=8.3.4->spacy->pytorch-widedeep) (1.2.0)\n",
      "Requirement already satisfied: confection<1.0.0,>=0.0.1 in /home/priya/.local/lib/python3.10/site-packages (from thinc<8.4.0,>=8.3.4->spacy->pytorch-widedeep) (0.1.5)\n",
      "Requirement already satisfied: click>=8.0.0 in /usr/lib/python3/dist-packages (from typer<1.0.0,>=0.3.0->spacy->pytorch-widedeep) (8.0.3)\n",
      "Requirement already satisfied: shellingham>=1.3.0 in /home/priya/.local/lib/python3.10/site-packages (from typer<1.0.0,>=0.3.0->spacy->pytorch-widedeep) (1.5.4)\n",
      "Requirement already satisfied: rich>=10.11.0 in /home/priya/.local/lib/python3.10/site-packages (from typer<1.0.0,>=0.3.0->spacy->pytorch-widedeep) (13.9.2)\n",
      "Requirement already satisfied: cloudpathlib<1.0.0,>=0.7.0 in /home/priya/.local/lib/python3.10/site-packages (from weasel<0.5.0,>=0.1.0->spacy->pytorch-widedeep) (0.21.0)\n",
      "Requirement already satisfied: MarkupSafe>=2.0 in /home/priya/.local/lib/python3.10/site-packages (from jinja2->torch>=2.0.0->pytorch-widedeep) (3.0.1)\n",
      "Requirement already satisfied: mpmath<1.4,>=1.1.0 in /home/priya/.local/lib/python3.10/site-packages (from sympy->torch>=2.0.0->pytorch-widedeep) (1.3.0)\n",
      "Requirement already satisfied: marisa-trie>=1.1.0 in /home/priya/.local/lib/python3.10/site-packages (from language-data>=1.2->langcodes<4.0.0,>=3.2.0->spacy->pytorch-widedeep) (1.2.1)\n",
      "Requirement already satisfied: markdown-it-py>=2.2.0 in /home/priya/.local/lib/python3.10/site-packages (from rich>=10.11.0->typer<1.0.0,>=0.3.0->spacy->pytorch-widedeep) (3.0.0)\n",
      "Requirement already satisfied: pygments<3.0.0,>=2.13.0 in /home/priya/.local/lib/python3.10/site-packages (from rich>=10.11.0->typer<1.0.0,>=0.3.0->spacy->pytorch-widedeep) (2.18.0)\n",
      "Requirement already satisfied: mdurl~=0.1 in /home/priya/.local/lib/python3.10/site-packages (from markdown-it-py>=2.2.0->rich>=10.11.0->typer<1.0.0,>=0.3.0->spacy->pytorch-widedeep) (0.1.2)\n"
     ]
    }
   ],
   "source": [
    "!pip install pytorch-widedeep --user"
   ]
  },
  {
   "cell_type": "code",
   "execution_count": 2,
   "metadata": {},
   "outputs": [
    {
     "name": "stderr",
     "output_type": "stream",
     "text": [
      "/home/priya/.local/lib/python3.10/site-packages/torch/cuda/__init__.py:654: UserWarning: Can't initialize NVML\n",
      "  warnings.warn(\"Can't initialize NVML\")\n",
      "/home/priya/.local/lib/python3.10/site-packages/torch/cuda/__init__.py:843: UserWarning: CUDA initialization: The NVIDIA driver on your system is too old (found version 11040). Please update your GPU driver by downloading and installing a new version from the URL: http://www.nvidia.com/Download/index.aspx Alternatively, go to: https://pytorch.org to install a PyTorch version that has been compiled with your version of the CUDA driver. (Triggered internally at ../c10/cuda/CUDAFunctions.cpp:108.)\n",
      "  r = torch._C._cuda_getDeviceCount() if nvml_count < 0 else nvml_count\n",
      "2025-03-13 13:42:36.874853: I tensorflow/core/util/port.cc:153] oneDNN custom operations are on. You may see slightly different numerical results due to floating-point round-off errors from different computation orders. To turn them off, set the environment variable `TF_ENABLE_ONEDNN_OPTS=0`.\n",
      "2025-03-13 13:42:36.894827: E external/local_xla/xla/stream_executor/cuda/cuda_fft.cc:485] Unable to register cuFFT factory: Attempting to register factory for plugin cuFFT when one has already been registered\n",
      "2025-03-13 13:42:36.920613: E external/local_xla/xla/stream_executor/cuda/cuda_dnn.cc:8454] Unable to register cuDNN factory: Attempting to register factory for plugin cuDNN when one has already been registered\n",
      "2025-03-13 13:42:36.928572: E external/local_xla/xla/stream_executor/cuda/cuda_blas.cc:1452] Unable to register cuBLAS factory: Attempting to register factory for plugin cuBLAS when one has already been registered\n",
      "2025-03-13 13:42:36.947389: I tensorflow/core/platform/cpu_feature_guard.cc:210] This TensorFlow binary is optimized to use available CPU instructions in performance-critical operations.\n",
      "To enable the following instructions: AVX2 AVX_VNNI FMA, in other operations, rebuild TensorFlow with the appropriate compiler flags.\n",
      "2025-03-13 13:42:38.510097: W tensorflow/compiler/tf2tensorrt/utils/py_utils.cc:38] TF-TRT Warning: Could not find TensorRT\n"
     ]
    }
   ],
   "source": [
    "SEED = 42\n",
    "\n",
    "import os\n",
    "\n",
    "import random\n",
    "random.seed(SEED)\n",
    "\n",
    "import numpy as np\n",
    "np.random.seed(SEED)\n",
    "\n",
    "import pandas as pd\n",
    "\n",
    "from pytorch_widedeep.preprocessing import TabPreprocessor\n",
    "from pytorch_widedeep.models import TabMlp, WideDeep\n",
    "from pytorch_widedeep import Trainer\n",
    "from pytorch_widedeep.metrics import R2Score\n"
   ]
  },
  {
   "cell_type": "markdown",
   "metadata": {},
   "source": [
    ">Divide the dataset (‘hdb_price_prediction.csv’) into train and test sets by using entries from the year 2020 and before as training data, and entries from 2021 and after as the test data（validation set is not required here)."
   ]
  },
  {
   "cell_type": "code",
   "execution_count": 3,
   "metadata": {},
   "outputs": [
    {
     "name": "stdout",
     "output_type": "stream",
     "text": [
      "Training Data: (87370, 11)\n",
      "Testing Data: (72183, 11)\n"
     ]
    }
   ],
   "source": [
    "df = pd.read_csv('hdb_price_prediction.csv')\n",
    "\n",
    "# Training Data\n",
    "df_train = df[df['year'] <= 2020].copy()\n",
    "# Testing Data\n",
    "df_test = df[df['year'] >= 2021].copy()\n",
    "\n",
    "# Dropping Unncessary Columns\n",
    "df_train.drop(columns=['year','full_address','nearest_stn'], inplace=True)\n",
    "df_test.drop(columns=['year','full_address','nearest_stn'], inplace=True)\n",
    "\n",
    "print(\"Training Data:\", df_train.shape)\n",
    "print(\"Testing Data:\", df_test.shape)"
   ]
  },
  {
   "cell_type": "markdown",
   "metadata": {},
   "source": [
    ">Refer to the documentation of Pytorch-WideDeep and perform the following tasks:\n",
    "https://pytorch-widedeep.readthedocs.io/en/latest/index.html\n",
    "* Use [**TabPreprocessor**](https://pytorch-widedeep.readthedocs.io/en/latest/examples/01_preprocessors_and_utils.html#2-tabpreprocessor) to create the deeptabular component using the continuous\n",
    "features and the categorical features. Use this component to transform the training dataset.\n",
    "* Create the [**TabMlp**](https://pytorch-widedeep.readthedocs.io/en/latest/pytorch-widedeep/model_components.html#pytorch_widedeep.models.tabular.mlp.tab_mlp.TabMlp) model with 2 hidden layers in the MLP, with 200 and 100 neurons respectively.\n",
    "* Create a [**Trainer**](https://pytorch-widedeep.readthedocs.io/en/latest/pytorch-widedeep/trainer.html#pytorch_widedeep.training.Trainer) for the training of the created TabMlp model with the root mean squared error (RMSE) cost function. Train the model for 60 epochs using this trainer, keeping a batch size of 64. (Note: set the *num_workers* parameter to 0.)"
   ]
  },
  {
   "cell_type": "code",
   "execution_count": 4,
   "metadata": {},
   "outputs": [],
   "source": [
    "# Define continuous and categorical columns\n",
    "continuous_cols = ['dist_to_nearest_stn', 'dist_to_dhoby', 'degree_centrality',\n",
    "                   'eigenvector_centrality', 'remaining_lease_years', 'floor_area_sqm']\n",
    "cat_embed_cols = ['month', 'town', 'flat_model_type', 'storey_range']"
   ]
  },
  {
   "cell_type": "code",
   "execution_count": 5,
   "metadata": {},
   "outputs": [
    {
     "name": "stderr",
     "output_type": "stream",
     "text": [
      "/home/priya/.local/lib/python3.10/site-packages/pytorch_widedeep/preprocessing/tab_preprocessor.py:364: UserWarning: Continuous columns will not be normalised\n",
      "  warnings.warn(\"Continuous columns will not be normalised\")\n",
      "/home/priya/.local/lib/python3.10/site-packages/pandas/core/dtypes/cast.py:1641: DeprecationWarning: np.find_common_type is deprecated.  Please use `np.result_type` or `np.promote_types`.\n",
      "See https://numpy.org/devdocs/release/1.25.0-notes.html and the docs for more information.  (Deprecated NumPy 1.25)\n",
      "  return np.find_common_type(types, [])\n"
     ]
    }
   ],
   "source": [
    "# Create and fit the TabPreprocessor\n",
    "tab_preprocessor = TabPreprocessor(\n",
    "    cat_embed_cols = cat_embed_cols, continuous_cols = continuous_cols\n",
    ")\n",
    "\n",
    "# Scaled Training Data\n",
    "X_tab = tab_preprocessor.fit_transform(df_train)"
   ]
  },
  {
   "cell_type": "code",
   "execution_count": 6,
   "metadata": {},
   "outputs": [],
   "source": [
    "tab_mlp = TabMlp(column_idx=tab_preprocessor.column_idx,\n",
    "                 cat_embed_input=tab_preprocessor.cat_embed_input,\n",
    "                 cat_embed_dropout=0.1,\n",
    "                 continuous_cols=continuous_cols,\n",
    "                 mlp_hidden_dims=[200, 100]) # Two linear layers with 200 and 100 neurons\n",
    "\n",
    "wide_deep = WideDeep(deeptabular=tab_mlp)"
   ]
  },
  {
   "cell_type": "code",
   "execution_count": 7,
   "metadata": {},
   "outputs": [],
   "source": [
    "# Create the Trainer\n",
    "trainer = Trainer(\n",
    "    model=wide_deep,\n",
    "    objective=\"regression\",\n",
    "    metrics=[R2Score],\n",
    "    batch_size=64,\n",
    "    num_workers=0\n",
    ")"
   ]
  },
  {
   "cell_type": "code",
   "execution_count": 8,
   "metadata": {},
   "outputs": [
    {
     "name": "stderr",
     "output_type": "stream",
     "text": [
      "epoch 1: 100%|██████████| 2731/2731 [01:42<00:00, 26.73it/s, loss=3.56e+10, metrics={'r2': -0.4992}]\n",
      "epoch 2: 100%|██████████| 2731/2731 [01:45<00:00, 25.86it/s, loss=8.45e+9, metrics={'r2': 0.6444}] \n",
      "epoch 3: 100%|██████████| 2731/2731 [01:40<00:00, 27.07it/s, loss=4.92e+9, metrics={'r2': 0.793}] \n",
      "epoch 4: 100%|██████████| 2731/2731 [01:35<00:00, 28.50it/s, loss=4.09e+9, metrics={'r2': 0.8279}]\n",
      "epoch 5: 100%|██████████| 2731/2731 [01:37<00:00, 27.95it/s, loss=3.77e+9, metrics={'r2': 0.8414}]\n",
      "epoch 6: 100%|██████████| 2731/2731 [01:32<00:00, 29.57it/s, loss=3.5e+9, metrics={'r2': 0.8526}] \n",
      "epoch 7: 100%|██████████| 2731/2731 [01:28<00:00, 30.80it/s, loss=3.3e+9, metrics={'r2': 0.8611}] \n",
      "epoch 8: 100%|██████████| 2731/2731 [01:38<00:00, 27.84it/s, loss=3.13e+9, metrics={'r2': 0.8685}]\n",
      "epoch 9: 100%|██████████| 2731/2731 [01:32<00:00, 29.43it/s, loss=2.94e+9, metrics={'r2': 0.8761}]\n",
      "epoch 10: 100%|██████████| 2731/2731 [01:36<00:00, 28.17it/s, loss=2.83e+9, metrics={'r2': 0.8808}]\n",
      "epoch 11: 100%|██████████| 2731/2731 [01:32<00:00, 29.59it/s, loss=2.74e+9, metrics={'r2': 0.8848}]\n",
      "epoch 12: 100%|██████████| 2731/2731 [01:36<00:00, 28.37it/s, loss=2.68e+9, metrics={'r2': 0.8873}]\n",
      "epoch 13: 100%|██████████| 2731/2731 [01:32<00:00, 29.46it/s, loss=2.62e+9, metrics={'r2': 0.8899}]\n",
      "epoch 14: 100%|██████████| 2731/2731 [01:37<00:00, 27.97it/s, loss=2.62e+9, metrics={'r2': 0.8899}]\n",
      "epoch 15: 100%|██████████| 2731/2731 [01:36<00:00, 28.16it/s, loss=2.58e+9, metrics={'r2': 0.8916}]\n",
      "epoch 16: 100%|██████████| 2731/2731 [01:35<00:00, 28.57it/s, loss=2.55e+9, metrics={'r2': 0.8926}]\n",
      "epoch 17: 100%|██████████| 2731/2731 [01:31<00:00, 29.98it/s, loss=2.56e+9, metrics={'r2': 0.8925}]\n",
      "epoch 18: 100%|██████████| 2731/2731 [01:35<00:00, 28.69it/s, loss=2.52e+9, metrics={'r2': 0.8941}]\n",
      "epoch 19: 100%|██████████| 2731/2731 [01:31<00:00, 29.99it/s, loss=2.53e+9, metrics={'r2': 0.8937}]\n",
      "epoch 20: 100%|██████████| 2731/2731 [01:17<00:00, 35.28it/s, loss=2.52e+9, metrics={'r2': 0.8941}]\n",
      "epoch 21: 100%|██████████| 2731/2731 [01:27<00:00, 31.26it/s, loss=2.49e+9, metrics={'r2': 0.8954}]\n",
      "epoch 22: 100%|██████████| 2731/2731 [01:36<00:00, 28.31it/s, loss=2.47e+9, metrics={'r2': 0.8961}]\n",
      "epoch 23: 100%|██████████| 2731/2731 [01:14<00:00, 36.53it/s, loss=2.49e+9, metrics={'r2': 0.8953}]\n",
      "epoch 24: 100%|██████████| 2731/2731 [01:27<00:00, 31.20it/s, loss=2.47e+9, metrics={'r2': 0.8961}]\n",
      "epoch 25: 100%|██████████| 2731/2731 [01:27<00:00, 31.36it/s, loss=2.45e+9, metrics={'r2': 0.8968}]\n",
      "epoch 26: 100%|██████████| 2731/2731 [01:18<00:00, 34.85it/s, loss=2.44e+9, metrics={'r2': 0.8974}]\n",
      "epoch 27: 100%|██████████| 2731/2731 [01:18<00:00, 34.67it/s, loss=2.45e+9, metrics={'r2': 0.8971}]\n",
      "epoch 28: 100%|██████████| 2731/2731 [01:21<00:00, 33.34it/s, loss=2.42e+9, metrics={'r2': 0.8981}]\n",
      "epoch 29: 100%|██████████| 2731/2731 [01:26<00:00, 31.63it/s, loss=2.45e+9, metrics={'r2': 0.8967}]\n",
      "epoch 30: 100%|██████████| 2731/2731 [01:16<00:00, 35.72it/s, loss=2.41e+9, metrics={'r2': 0.8986}]\n",
      "epoch 31: 100%|██████████| 2731/2731 [01:26<00:00, 31.48it/s, loss=2.41e+9, metrics={'r2': 0.8987}]\n",
      "epoch 32: 100%|██████████| 2731/2731 [01:23<00:00, 32.74it/s, loss=2.39e+9, metrics={'r2': 0.8993}]\n",
      "epoch 33: 100%|██████████| 2731/2731 [01:21<00:00, 33.68it/s, loss=2.39e+9, metrics={'r2': 0.8994}]\n",
      "epoch 34: 100%|██████████| 2731/2731 [01:19<00:00, 34.33it/s, loss=2.41e+9, metrics={'r2': 0.8986}]\n",
      "epoch 35: 100%|██████████| 2731/2731 [01:18<00:00, 34.82it/s, loss=2.39e+9, metrics={'r2': 0.8993}]\n",
      "epoch 36: 100%|██████████| 2731/2731 [01:26<00:00, 31.48it/s, loss=2.39e+9, metrics={'r2': 0.8994}]\n",
      "epoch 37: 100%|██████████| 2731/2731 [01:25<00:00, 31.76it/s, loss=2.35e+9, metrics={'r2': 0.9009}]\n",
      "epoch 38: 100%|██████████| 2731/2731 [01:28<00:00, 30.96it/s, loss=2.38e+9, metrics={'r2': 0.8997}]\n",
      "epoch 39: 100%|██████████| 2731/2731 [01:25<00:00, 31.92it/s, loss=2.39e+9, metrics={'r2': 0.8995}]\n",
      "epoch 40: 100%|██████████| 2731/2731 [01:29<00:00, 30.53it/s, loss=2.35e+9, metrics={'r2': 0.9012}]\n",
      "epoch 41: 100%|██████████| 2731/2731 [01:25<00:00, 32.05it/s, loss=2.35e+9, metrics={'r2': 0.9012}]\n",
      "epoch 42: 100%|██████████| 2731/2731 [01:31<00:00, 29.88it/s, loss=2.35e+9, metrics={'r2': 0.9012}]\n",
      "epoch 43: 100%|██████████| 2731/2731 [01:24<00:00, 32.40it/s, loss=2.36e+9, metrics={'r2': 0.9007}]\n",
      "epoch 44: 100%|██████████| 2731/2731 [01:25<00:00, 31.82it/s, loss=2.34e+9, metrics={'r2': 0.9015}]\n",
      "epoch 45: 100%|██████████| 2731/2731 [01:29<00:00, 30.54it/s, loss=2.36e+9, metrics={'r2': 0.9007}]\n",
      "epoch 46: 100%|██████████| 2731/2731 [01:33<00:00, 29.06it/s, loss=2.33e+9, metrics={'r2': 0.9022}]\n",
      "epoch 47: 100%|██████████| 2731/2731 [01:29<00:00, 30.63it/s, loss=2.34e+9, metrics={'r2': 0.9014}]\n",
      "epoch 48: 100%|██████████| 2731/2731 [01:27<00:00, 31.24it/s, loss=2.32e+9, metrics={'r2': 0.9023}]\n",
      "epoch 49: 100%|██████████| 2731/2731 [01:30<00:00, 30.07it/s, loss=2.32e+9, metrics={'r2': 0.9024}]\n",
      "epoch 50: 100%|██████████| 2731/2731 [01:28<00:00, 30.86it/s, loss=2.32e+9, metrics={'r2': 0.9026}]\n",
      "epoch 51: 100%|██████████| 2731/2731 [01:26<00:00, 31.74it/s, loss=2.29e+9, metrics={'r2': 0.9035}]\n",
      "epoch 52: 100%|██████████| 2731/2731 [01:30<00:00, 30.30it/s, loss=2.31e+9, metrics={'r2': 0.9026}]\n",
      "epoch 53: 100%|██████████| 2731/2731 [01:29<00:00, 30.39it/s, loss=2.31e+9, metrics={'r2': 0.9029}]\n",
      "epoch 54: 100%|██████████| 2731/2731 [01:20<00:00, 33.91it/s, loss=2.31e+9, metrics={'r2': 0.9027}]\n",
      "epoch 55: 100%|██████████| 2731/2731 [01:27<00:00, 31.04it/s, loss=2.32e+9, metrics={'r2': 0.9023}]\n",
      "epoch 56: 100%|██████████| 2731/2731 [01:34<00:00, 28.92it/s, loss=2.29e+9, metrics={'r2': 0.9035}]\n",
      "epoch 57: 100%|██████████| 2731/2731 [01:26<00:00, 31.40it/s, loss=2.29e+9, metrics={'r2': 0.9037}]\n",
      "epoch 58: 100%|██████████| 2731/2731 [01:38<00:00, 27.80it/s, loss=2.28e+9, metrics={'r2': 0.904}] \n",
      "epoch 59: 100%|██████████| 2731/2731 [01:33<00:00, 29.28it/s, loss=2.27e+9, metrics={'r2': 0.9043}]\n",
      "epoch 60: 100%|██████████| 2731/2731 [01:32<00:00, 29.47it/s, loss=2.28e+9, metrics={'r2': 0.9041}]\n",
      "epoch 61: 100%|██████████| 2731/2731 [01:26<00:00, 31.40it/s, loss=2.26e+9, metrics={'r2': 0.9047}]\n",
      "epoch 62: 100%|██████████| 2731/2731 [01:25<00:00, 31.96it/s, loss=2.26e+9, metrics={'r2': 0.9047}]\n",
      "epoch 63: 100%|██████████| 2731/2731 [01:39<00:00, 27.32it/s, loss=2.26e+9, metrics={'r2': 0.9049}]\n",
      "epoch 64: 100%|██████████| 2731/2731 [01:35<00:00, 28.58it/s, loss=2.25e+9, metrics={'r2': 0.9054}]\n",
      "epoch 65: 100%|██████████| 2731/2731 [01:35<00:00, 28.48it/s, loss=2.25e+9, metrics={'r2': 0.9053}]\n",
      "epoch 66: 100%|██████████| 2731/2731 [01:33<00:00, 29.29it/s, loss=2.25e+9, metrics={'r2': 0.9055}]\n",
      "epoch 67: 100%|██████████| 2731/2731 [01:34<00:00, 28.87it/s, loss=2.24e+9, metrics={'r2': 0.9058}]\n",
      "epoch 68: 100%|██████████| 2731/2731 [01:37<00:00, 28.10it/s, loss=2.24e+9, metrics={'r2': 0.9057}]\n",
      "epoch 69: 100%|██████████| 2731/2731 [01:26<00:00, 31.44it/s, loss=2.23e+9, metrics={'r2': 0.906}] \n",
      "epoch 70: 100%|██████████| 2731/2731 [01:27<00:00, 31.11it/s, loss=2.23e+9, metrics={'r2': 0.9063}]\n",
      "epoch 71: 100%|██████████| 2731/2731 [01:26<00:00, 31.52it/s, loss=2.23e+9, metrics={'r2': 0.9064}]\n",
      "epoch 72: 100%|██████████| 2731/2731 [01:30<00:00, 30.25it/s, loss=2.22e+9, metrics={'r2': 0.9066}]\n",
      "epoch 73: 100%|██████████| 2731/2731 [01:33<00:00, 29.23it/s, loss=2.21e+9, metrics={'r2': 0.9068}]\n",
      "epoch 74: 100%|██████████| 2731/2731 [01:39<00:00, 27.46it/s, loss=2.21e+9, metrics={'r2': 0.907}] \n",
      "epoch 75: 100%|██████████| 2731/2731 [01:30<00:00, 30.13it/s, loss=2.19e+9, metrics={'r2': 0.9077}]\n",
      "epoch 76: 100%|██████████| 2731/2731 [01:36<00:00, 28.22it/s, loss=2.21e+9, metrics={'r2': 0.9069}]\n",
      "epoch 77: 100%|██████████| 2731/2731 [01:44<00:00, 26.21it/s, loss=2.21e+9, metrics={'r2': 0.907}] \n",
      "epoch 78: 100%|██████████| 2731/2731 [01:37<00:00, 27.96it/s, loss=2.2e+9, metrics={'r2': 0.9073}] \n",
      "epoch 79: 100%|██████████| 2731/2731 [01:45<00:00, 25.86it/s, loss=2.2e+9, metrics={'r2': 0.9072}] \n",
      "epoch 80: 100%|██████████| 2731/2731 [01:54<00:00, 23.80it/s, loss=2.2e+9, metrics={'r2': 0.9073}] \n",
      "epoch 81: 100%|██████████| 2731/2731 [01:51<00:00, 24.59it/s, loss=2.21e+9, metrics={'r2': 0.9071}]\n",
      "epoch 82: 100%|██████████| 2731/2731 [01:49<00:00, 24.84it/s, loss=2.2e+9, metrics={'r2': 0.9074}] \n",
      "epoch 83: 100%|██████████| 2731/2731 [01:49<00:00, 24.93it/s, loss=2.19e+9, metrics={'r2': 0.9078}]\n",
      "epoch 84: 100%|██████████| 2731/2731 [01:49<00:00, 24.94it/s, loss=2.19e+9, metrics={'r2': 0.908}] \n",
      "epoch 85: 100%|██████████| 2731/2731 [01:52<00:00, 24.19it/s, loss=2.18e+9, metrics={'r2': 0.9081}]\n",
      "epoch 86: 100%|██████████| 2731/2731 [01:59<00:00, 22.91it/s, loss=2.18e+9, metrics={'r2': 0.9081}]\n",
      "epoch 87: 100%|██████████| 2731/2731 [01:56<00:00, 23.37it/s, loss=2.17e+9, metrics={'r2': 0.9086}]\n",
      "epoch 88: 100%|██████████| 2731/2731 [01:51<00:00, 24.45it/s, loss=2.18e+9, metrics={'r2': 0.9084}]\n",
      "epoch 89: 100%|██████████| 2731/2731 [01:42<00:00, 26.70it/s, loss=2.17e+9, metrics={'r2': 0.9087}]\n",
      "epoch 90: 100%|██████████| 2731/2731 [01:54<00:00, 23.83it/s, loss=2.16e+9, metrics={'r2': 0.909}] \n",
      "epoch 91: 100%|██████████| 2731/2731 [01:43<00:00, 26.44it/s, loss=2.17e+9, metrics={'r2': 0.9087}]\n",
      "epoch 92: 100%|██████████| 2731/2731 [01:55<00:00, 23.65it/s, loss=2.15e+9, metrics={'r2': 0.9096}]\n",
      "epoch 93: 100%|██████████| 2731/2731 [01:49<00:00, 25.04it/s, loss=2.16e+9, metrics={'r2': 0.9093}]\n",
      "epoch 94: 100%|██████████| 2731/2731 [01:39<00:00, 27.49it/s, loss=2.15e+9, metrics={'r2': 0.9093}]\n",
      "epoch 95: 100%|██████████| 2731/2731 [01:38<00:00, 27.66it/s, loss=2.17e+9, metrics={'r2': 0.9088}]\n",
      "epoch 96: 100%|██████████| 2731/2731 [01:30<00:00, 30.21it/s, loss=2.17e+9, metrics={'r2': 0.9086}]\n",
      "epoch 97: 100%|██████████| 2731/2731 [01:53<00:00, 24.08it/s, loss=2.16e+9, metrics={'r2': 0.9089}]\n",
      "epoch 98: 100%|██████████| 2731/2731 [01:47<00:00, 25.49it/s, loss=2.17e+9, metrics={'r2': 0.9088}]\n",
      "epoch 99: 100%|██████████| 2731/2731 [01:48<00:00, 25.24it/s, loss=2.16e+9, metrics={'r2': 0.9092}]\n",
      "epoch 100: 100%|██████████| 2731/2731 [01:56<00:00, 23.44it/s, loss=2.14e+9, metrics={'r2': 0.9099}]\n"
     ]
    }
   ],
   "source": [
    "# Train the model\n",
    "trainer.fit(\n",
    "    X_tab=X_tab,\n",
    "    target=df_train['resale_price'],\n",
    "    n_epochs=100,\n",
    ")"
   ]
  },
  {
   "cell_type": "markdown",
   "metadata": {},
   "source": [
    ">Report the test RMSE and the test R2 value that you obtained."
   ]
  },
  {
   "cell_type": "code",
   "execution_count": 9,
   "metadata": {},
   "outputs": [
    {
     "name": "stderr",
     "output_type": "stream",
     "text": [
      "/home/priya/.local/lib/python3.10/site-packages/pandas/core/dtypes/cast.py:1641: DeprecationWarning: np.find_common_type is deprecated.  Please use `np.result_type` or `np.promote_types`.\n",
      "See https://numpy.org/devdocs/release/1.25.0-notes.html and the docs for more information.  (Deprecated NumPy 1.25)\n",
      "  return np.find_common_type(types, [])\n",
      "predict: 100%|██████████| 2256/2256 [00:30<00:00, 73.73it/s] \n"
     ]
    }
   ],
   "source": [
    "# Scaled Test Data\n",
    "X_test = tab_preprocessor.transform(df_test)\n",
    "\n",
    "# Make predictions on the test dataset\n",
    "y_pred = trainer.predict(X_tab = X_test)"
   ]
  },
  {
   "cell_type": "code",
   "execution_count": 10,
   "metadata": {},
   "outputs": [
    {
     "name": "stdout",
     "output_type": "stream",
     "text": [
      "Root Mean Squared Error (RMSE): 90994.95981068407\n",
      "R2 Score: 0.7107101440947187\n"
     ]
    }
   ],
   "source": [
    "from sklearn.metrics import r2_score\n",
    "from sklearn.metrics import mean_squared_error\n",
    "\n",
    "y_true = df_test['resale_price']\n",
    "\n",
    "mse = mean_squared_error(y_true, y_pred)\n",
    "print(\"Root Mean Squared Error (RMSE):\", np.sqrt(mse))\n",
    "r2 = r2_score(y_true, y_pred)\n",
    "print(\"R2 Score:\", r2)"
   ]
  },
  {
   "cell_type": "markdown",
   "metadata": {},
   "source": [
    "## Root Mean Squared Error (RMSE)\n",
    "Value: 90994.95 Interpretation: On average, the model's predictions deviate from the actual resale prices by approximately 102,545.49 units. While lower values indicate better predictive accuracy, this RMSE suggests that the model's predictions are reasonably close to the actual values, though there may still be room for improvement.\n",
    "\n",
    "## R-Squared (R2)\n",
    "Value: 0.710 Interpretation: This R2 value means that approximately 71.07% of the variance in the resale prices is explained by the model's input features. An R2 value of 0.710 indicates a moderately strong fit, suggesting that while the model captures a good portion of the variance, there is still some unexplained variability. Overall, the model demonstrates a fair performance with these metrics. The R2 score suggests that while the model captures a substantial portion of the variance in resale prices, some improvement may still be possible, particularly in minimizing the RMSE."
   ]
  },
  {
   "cell_type": "markdown",
   "metadata": {},
   "source": [
    "Part B, Q3 (10 marks)\n",
    "---\n",
    "Besides ensuring that your neural network performs well, it is important to be able to explain the model’s decision. **Captum** is a very handy library that helps you to do so for PyTorch models.\n",
    "\n",
    "Many model explainability algorithms for deep learning models are available in Captum. These algorithms are often used to generate an attribution score for each feature. Features with larger scores are more ‘important’ and some algorithms also provide information about directionality (i.e. a feature with very negative attribution scores means the larger the value of that feature, the lower the value of the output).\n",
    "\n",
    "In general, these algorithms can be grouped into two paradigms:\n",
    "- **perturbation based approaches** (e.g. Feature Ablation)\n",
    "- **gradient / backpropagation based approaches** (e.g. Saliency)\n",
    "\n",
    "The former adopts a brute-force approach of removing / permuting features one by one and does not scale up well. The latter depends on gradients and they can be computed relatively quickly. But unlike how backpropagation computes gradients with respect to weights, gradients here are computed **with respect to the input**. This gives us a sense of how much a change in the input affects the model’s outputs.\n",
    "\n"
   ]
  },
  {
   "cell_type": "markdown",
   "metadata": {},
   "source": [
    "\n",
    "---\n",
    "\n"
   ]
  },
  {
   "cell_type": "code",
   "execution_count": 11,
   "metadata": {},
   "outputs": [
    {
     "name": "stdout",
     "output_type": "stream",
     "text": [
      "Defaulting to user installation because normal site-packages is not writeable\n",
      "Requirement already satisfied: captum in /home/priya/.local/lib/python3.10/site-packages (0.7.0)\n",
      "Requirement already satisfied: matplotlib in /home/priya/.local/lib/python3.10/site-packages (from captum) (3.10.0)\n",
      "Requirement already satisfied: numpy in /home/priya/.local/lib/python3.10/site-packages (from captum) (1.26.4)\n",
      "Requirement already satisfied: torch>=1.6 in /home/priya/.local/lib/python3.10/site-packages (from captum) (2.4.1)\n",
      "Requirement already satisfied: tqdm in /home/priya/.local/lib/python3.10/site-packages (from captum) (4.66.5)\n",
      "Requirement already satisfied: filelock in /home/priya/.local/lib/python3.10/site-packages (from torch>=1.6->captum) (3.17.0)\n",
      "Requirement already satisfied: typing-extensions>=4.8.0 in /home/priya/.local/lib/python3.10/site-packages (from torch>=1.6->captum) (4.12.2)\n",
      "Requirement already satisfied: sympy in /home/priya/.local/lib/python3.10/site-packages (from torch>=1.6->captum) (1.13.1)\n",
      "Requirement already satisfied: networkx in /home/priya/.local/lib/python3.10/site-packages (from torch>=1.6->captum) (3.4.1)\n",
      "Requirement already satisfied: jinja2 in /home/priya/.local/lib/python3.10/site-packages (from torch>=1.6->captum) (3.1.4)\n",
      "Requirement already satisfied: fsspec in /home/priya/.local/lib/python3.10/site-packages (from torch>=1.6->captum) (2024.6.1)\n",
      "Requirement already satisfied: nvidia-cuda-nvrtc-cu12==12.1.105 in /home/priya/.local/lib/python3.10/site-packages (from torch>=1.6->captum) (12.1.105)\n",
      "Requirement already satisfied: nvidia-cuda-runtime-cu12==12.1.105 in /home/priya/.local/lib/python3.10/site-packages (from torch>=1.6->captum) (12.1.105)\n",
      "Requirement already satisfied: nvidia-cuda-cupti-cu12==12.1.105 in /home/priya/.local/lib/python3.10/site-packages (from torch>=1.6->captum) (12.1.105)\n",
      "Requirement already satisfied: nvidia-cudnn-cu12==9.1.0.70 in /home/priya/.local/lib/python3.10/site-packages (from torch>=1.6->captum) (9.1.0.70)\n",
      "Requirement already satisfied: nvidia-cublas-cu12==12.1.3.1 in /home/priya/.local/lib/python3.10/site-packages (from torch>=1.6->captum) (12.1.3.1)\n",
      "Requirement already satisfied: nvidia-cufft-cu12==11.0.2.54 in /home/priya/.local/lib/python3.10/site-packages (from torch>=1.6->captum) (11.0.2.54)\n",
      "Requirement already satisfied: nvidia-curand-cu12==10.3.2.106 in /home/priya/.local/lib/python3.10/site-packages (from torch>=1.6->captum) (10.3.2.106)\n",
      "Requirement already satisfied: nvidia-cusolver-cu12==11.4.5.107 in /home/priya/.local/lib/python3.10/site-packages (from torch>=1.6->captum) (11.4.5.107)\n",
      "Requirement already satisfied: nvidia-cusparse-cu12==12.1.0.106 in /home/priya/.local/lib/python3.10/site-packages (from torch>=1.6->captum) (12.1.0.106)\n",
      "Requirement already satisfied: nvidia-nccl-cu12==2.20.5 in /home/priya/.local/lib/python3.10/site-packages (from torch>=1.6->captum) (2.20.5)\n",
      "Requirement already satisfied: nvidia-nvtx-cu12==12.1.105 in /home/priya/.local/lib/python3.10/site-packages (from torch>=1.6->captum) (12.1.105)\n",
      "Requirement already satisfied: triton==3.0.0 in /home/priya/.local/lib/python3.10/site-packages (from torch>=1.6->captum) (3.0.0)\n",
      "Requirement already satisfied: nvidia-nvjitlink-cu12 in /home/priya/.local/lib/python3.10/site-packages (from nvidia-cusolver-cu12==11.4.5.107->torch>=1.6->captum) (12.4.127)\n",
      "Requirement already satisfied: contourpy>=1.0.1 in /home/priya/.local/lib/python3.10/site-packages (from matplotlib->captum) (1.3.0)\n",
      "Requirement already satisfied: cycler>=0.10 in /home/priya/.local/lib/python3.10/site-packages (from matplotlib->captum) (0.12.1)\n",
      "Requirement already satisfied: fonttools>=4.22.0 in /home/priya/.local/lib/python3.10/site-packages (from matplotlib->captum) (4.54.1)\n",
      "Requirement already satisfied: kiwisolver>=1.3.1 in /home/priya/.local/lib/python3.10/site-packages (from matplotlib->captum) (1.4.7)\n",
      "Requirement already satisfied: packaging>=20.0 in /home/priya/.local/lib/python3.10/site-packages (from matplotlib->captum) (23.2)\n",
      "Requirement already satisfied: pillow>=8 in /home/priya/.local/lib/python3.10/site-packages (from matplotlib->captum) (9.5.0)\n",
      "Requirement already satisfied: pyparsing>=2.3.1 in /home/priya/.local/lib/python3.10/site-packages (from matplotlib->captum) (3.2.0)\n",
      "Requirement already satisfied: python-dateutil>=2.7 in /home/priya/.local/lib/python3.10/site-packages (from matplotlib->captum) (2.9.0.post0)\n",
      "Requirement already satisfied: six>=1.5 in /usr/lib/python3/dist-packages (from python-dateutil>=2.7->matplotlib->captum) (1.16.0)\n",
      "Requirement already satisfied: MarkupSafe>=2.0 in /home/priya/.local/lib/python3.10/site-packages (from jinja2->torch>=1.6->captum) (3.0.1)\n",
      "Requirement already satisfied: mpmath<1.4,>=1.1.0 in /home/priya/.local/lib/python3.10/site-packages (from sympy->torch>=1.6->captum) (1.3.0)\n"
     ]
    }
   ],
   "source": [
    "!pip install captum"
   ]
  },
  {
   "cell_type": "code",
   "execution_count": 12,
   "metadata": {},
   "outputs": [],
   "source": [
    "SEED = 42\n",
    "\n",
    "import os\n",
    "\n",
    "import random\n",
    "random.seed(SEED)\n",
    "\n",
    "import numpy as np\n",
    "np.random.seed(SEED)\n",
    "\n",
    "import pandas as pd\n",
    "\n",
    "import torch\n",
    "import torch.nn as nn\n",
    "from captum.attr import Saliency, InputXGradient, IntegratedGradients, GradientShap, FeatureAblation"
   ]
  },
  {
   "cell_type": "markdown",
   "metadata": {},
   "source": [
    "> First, use the train set (year 2020 and before) and test set (year 2021) following the splits in Question B1 (validation set is not required here). To keep things simple, we will **limit our analysis to numeric / continuous features only**. Drop all categorical features from the dataframes. Standardise the features via **StandardScaler** (fit to training set, then transform all)."
   ]
  },
  {
   "cell_type": "code",
   "execution_count": 13,
   "metadata": {},
   "outputs": [
    {
     "name": "stdout",
     "output_type": "stream",
     "text": [
      "Training Data: (64057, 7)\n",
      "Validation Data: (23313, 7)\n",
      "Testing Data: (29057, 7)\n"
     ]
    }
   ],
   "source": [
    "df = pd.read_csv('hdb_price_prediction.csv')\n",
    "\n",
    "# Training Data Set: Year 2019 and before\n",
    "df_train = df[df['year'] <= 2019].copy()\n",
    "# Validation Data Set: Year 2020\n",
    "df_val = df[df['year'] == 2020].copy()\n",
    "# Testing Data Set: Year 2021\n",
    "df_test = df[df['year'] == 2021].copy()\n",
    "\n",
    "# Dropping all Categorical Features\n",
    "categorical_features = ['month','town','flat_model_type','storey_range', 'full_address','nearest_stn','year']\n",
    "\n",
    "df_train.drop(columns = categorical_features, inplace=True)\n",
    "df_val.drop(columns = categorical_features, inplace=True)\n",
    "df_test.drop(columns = categorical_features, inplace=True)\n",
    "\n",
    "print(\"Training Data:\", df_train.shape)\n",
    "print(\"Validation Data:\", df_val.shape)\n",
    "print(\"Testing Data:\", df_test.shape) "
   ]
  },
  {
   "cell_type": "code",
   "execution_count": 14,
   "metadata": {},
   "outputs": [],
   "source": [
    "X_train = df_train.iloc[:,:-1]\n",
    "y_train = df_train.iloc[:,-1]\n",
    "\n",
    "X_val = df_val.iloc[:,:-1]\n",
    "y_val = df_val.iloc[:,-1]\n",
    "\n",
    "X_test = df_test.iloc[:,:-1]\n",
    "y_test = df_test.iloc[:,-1]"
   ]
  },
  {
   "cell_type": "markdown",
   "metadata": {},
   "source": [
    "> Follow this tutorial to generate the plot from various model explainability algorithms (https://captum.ai/tutorials/House_Prices_Regression_Interpret).\n",
    "Specifically, make the following changes:\n",
    "- Use a feedforward neural network with 3 hidden layers, each having 5 neurons. Train using Adam optimiser with learning rate of 0.001.\n",
    "- Use Input x Gradients, Integrated Gradients, DeepLift, GradientSHAP, Feature Ablation. To avoid long running time, you can limit the analysis to the first 1000 samples in test set."
   ]
  },
  {
   "cell_type": "code",
   "execution_count": 15,
   "metadata": {},
   "outputs": [
    {
     "data": {
      "text/plain": [
       "FeedForwardNN(\n",
       "  (lin1): Linear(in_features=6, out_features=5, bias=True)\n",
       "  (relu1): ReLU()\n",
       "  (lin2): Linear(in_features=5, out_features=5, bias=True)\n",
       "  (relu2): ReLU()\n",
       "  (lin3): Linear(in_features=5, out_features=5, bias=True)\n",
       "  (relu3): ReLU()\n",
       "  (lin4): Linear(in_features=5, out_features=1, bias=True)\n",
       ")"
      ]
     },
     "execution_count": 15,
     "metadata": {},
     "output_type": "execute_result"
    }
   ],
   "source": [
    "class FeedForwardNN(nn.Module):\n",
    "    def __init__(self, no_features, no_hidden, no_labels):\n",
    "        super().__init__()\n",
    "        self.lin1 = nn.Linear(no_features, no_hidden)\n",
    "        self.relu1 = nn.ReLU()\n",
    "        self.lin2 = nn.Linear(no_hidden, no_hidden)\n",
    "        self.relu2 = nn.ReLU()\n",
    "        self.lin3 = nn.Linear(no_hidden, no_hidden)\n",
    "        self.relu3 = nn.ReLU()\n",
    "        self.lin4 = nn.Linear(no_hidden, no_labels)\n",
    "\n",
    "    def forward(self, input):\n",
    "        return self.lin4(self.relu3(self.lin3(self.relu2(self.lin2(self.relu1(self.lin1(input)))))))\n",
    "\n",
    "\n",
    "# Define the hyperparameters\n",
    "no_features = X_train.shape[1] \n",
    "no_hidden = 5                  \n",
    "no_labels = 1                  \n",
    "batch_size = 50\n",
    "num_epochs = 200\n",
    "learning_rate = 0.001\n",
    "\n",
    "model = FeedForwardNN(no_features,no_hidden,no_labels)\n",
    "model.train()"
   ]
  },
  {
   "cell_type": "code",
   "execution_count": 16,
   "metadata": {},
   "outputs": [],
   "source": [
    "# Tensorizing inputs and creating batches\n",
    "X_train_tensor = torch.tensor(X_train.values).float()\n",
    "y_train_tensor = torch.tensor(y_train.values).view(-1, 1).float()\n",
    "\n",
    "X_test_tensor = torch.tensor(X_test.values).float()\n",
    "y_test_tensor = torch.tensor(y_test.values).view(-1, 1).float()\n",
    "\n",
    "datasets = torch.utils.data.TensorDataset(X_train_tensor, y_train_tensor)\n",
    "train_iter = torch.utils.data.DataLoader(datasets, batch_size=10, shuffle=True)"
   ]
  },
  {
   "cell_type": "code",
   "execution_count": 17,
   "metadata": {},
   "outputs": [],
   "source": [
    "# Defining the loss function\n",
    "criterion = nn.MSELoss(reduction='sum')"
   ]
  },
  {
   "cell_type": "code",
   "execution_count": 18,
   "metadata": {},
   "outputs": [],
   "source": [
    "def train(model_inp, num_epochs = num_epochs):\n",
    "   \n",
    "    # Define Adam optimizer with lr 0.001\n",
    "    optimizer = torch.optim.Adam(model_inp.parameters(), lr=learning_rate)\n",
    "    \n",
    "    for epoch in range(num_epochs):  # loop over the dataset multiple times\n",
    "        running_loss = 0.0\n",
    "        for inputs, labels in train_iter:\n",
    "            # forward pass\n",
    "            outputs = model_inp(inputs)\n",
    "            \n",
    "            # defining loss\n",
    "            loss = criterion(outputs, labels)\n",
    "            \n",
    "            # zero the parameter gradients\n",
    "            optimizer.zero_grad()\n",
    "            \n",
    "            # computing gradients\n",
    "            loss.backward()\n",
    "            \n",
    "            # accumulating running loss\n",
    "            running_loss += loss.item()\n",
    "            \n",
    "            # updated weights based on computed gradients\n",
    "            optimizer.step()\n",
    "            \n",
    "        if epoch % 20 == 0:    \n",
    "            print('Epoch [%d]/[%d] running accumulative loss across all batches: %.3f' %\n",
    "                  (epoch + 1, num_epochs, running_loss))\n",
    "        running_loss = 0.0"
   ]
  },
  {
   "cell_type": "code",
   "execution_count": 20,
   "metadata": {},
   "outputs": [
    {
     "name": "stdout",
     "output_type": "stream",
     "text": [
      "Epoch [1]/[200] running accumulative loss across all batches: 300486600698624.000\n",
      "Epoch [21]/[200] running accumulative loss across all batches: 286939523458432.000\n",
      "Epoch [41]/[200] running accumulative loss across all batches: 276967982369280.000\n",
      "Epoch [61]/[200] running accumulative loss across all batches: 267946995243776.000\n",
      "Epoch [81]/[200] running accumulative loss across all batches: 262198023920640.000\n",
      "Epoch [101]/[200] running accumulative loss across all batches: 258774370782976.000\n",
      "Epoch [121]/[200] running accumulative loss across all batches: 256060638038272.000\n",
      "Epoch [141]/[200] running accumulative loss across all batches: 253161812398848.000\n",
      "Epoch [161]/[200] running accumulative loss across all batches: 239457450453248.000\n",
      "Epoch [181]/[200] running accumulative loss across all batches: 236409986191104.000\n"
     ]
    }
   ],
   "source": [
    "# Training Model\n",
    "train(model, num_epochs)"
   ]
  },
  {
   "cell_type": "code",
   "execution_count": 21,
   "metadata": {},
   "outputs": [
    {
     "name": "stdout",
     "output_type": "stream",
     "text": [
      "Model Err (Mean Squared Error):  92440.52\n"
     ]
    }
   ],
   "source": [
    "# Evaluating Model\n",
    "from sklearn.metrics import mean_squared_error\n",
    "\n",
    "model.eval()\n",
    "outputs = model(X_test_tensor)\n",
    "err = np.sqrt(mean_squared_error(outputs.detach().numpy(), y_test_tensor.detach().numpy()))\n",
    "\n",
    "print('Model Err (Mean Squared Error): ', err)"
   ]
  },
  {
   "cell_type": "code",
   "execution_count": 22,
   "metadata": {},
   "outputs": [
    {
     "name": "stderr",
     "output_type": "stream",
     "text": [
      "/home/priya/.local/lib/python3.10/site-packages/captum/_utils/gradient.py:57: UserWarning: Input Tensor 0 did not already require gradients, required_grads has been set automatically.\n",
      "  warnings.warn(\n"
     ]
    }
   ],
   "source": [
    "# Use Saliency, Input x Gradients, Integrated Gradients, GradientSHAP, Feature Ablation from Captum library\n",
    "\n",
    "saliency = Saliency(model)\n",
    "input_x_gradient = InputXGradient(model)\n",
    "ig = IntegratedGradients(model)\n",
    "gs = GradientShap(model)\n",
    "fa = FeatureAblation(model)\n",
    "\n",
    "saliency_attr_test = saliency.attribute(X_test_tensor)\n",
    "input_x_gradient_attr_test = input_x_gradient.attribute(X_test_tensor)\n",
    "ig_attr_test = ig.attribute(X_test_tensor, n_steps=50)\n",
    "gs_attr_test = gs.attribute(X_test_tensor, X_train_tensor)\n",
    "fa_attr_test = fa.attribute(X_test_tensor)"
   ]
  },
  {
   "cell_type": "code",
   "execution_count": 23,
   "metadata": {},
   "outputs": [
    {
     "data": {
      "text/plain": [
       "['dist_to_nearest_stn',\n",
       " 'dist_to_dhoby',\n",
       " 'degree_centrality',\n",
       " 'eigenvector_centrality',\n",
       " 'remaining_lease_years',\n",
       " 'floor_area_sqm']"
      ]
     },
     "execution_count": 23,
     "metadata": {},
     "output_type": "execute_result"
    }
   ],
   "source": [
    "# create list of features\n",
    "feature_names = X_test.columns.tolist()\n",
    "feature_names"
   ]
  },
  {
   "cell_type": "code",
   "execution_count": 24,
   "metadata": {},
   "outputs": [
    {
     "data": {
      "image/png": "[encoded data removed]",
      "text/plain": [
       "<Figure size 2000x1200 with 1 Axes>"
      ]
     },
     "metadata": {},
     "output_type": "display_data"
    }
   ],
   "source": [
    "# Prepare attributions for visualization\n",
    "import matplotlib.pyplot as plt\n",
    "\n",
    "x_axis_data = np.arange(X_test.shape[1])\n",
    "x_axis_data_labels = list(map(lambda idx: feature_names[idx], x_axis_data))\n",
    "\n",
    "saliency_attr_test_sum = saliency_attr_test.detach().numpy().sum(0)\n",
    "saliency_attr_test_norm_sum = saliency_attr_test_sum / np.linalg.norm(saliency_attr_test_sum, ord=1)\n",
    "\n",
    "input_x_gradient_attr_test_sum = input_x_gradient_attr_test.detach().numpy().sum(0)\n",
    "input_x_gradient_attr_test_norm_sum = input_x_gradient_attr_test_sum / np.linalg.norm(input_x_gradient_attr_test_sum, ord=1)\n",
    "\n",
    "ig_attr_test_sum = ig_attr_test.detach().numpy().sum(0)\n",
    "ig_attr_test_norm_sum = ig_attr_test_sum / np.linalg.norm(ig_attr_test_sum, ord=1)\n",
    "\n",
    "gs_attr_test_sum = gs_attr_test.detach().numpy().sum(0)\n",
    "gs_attr_test_norm_sum = gs_attr_test_sum / np.linalg.norm(gs_attr_test_sum, ord=1)\n",
    "\n",
    "fa_attr_test_sum = fa_attr_test.detach().numpy().sum(0)\n",
    "fa_attr_test_norm_sum = fa_attr_test_sum / np.linalg.norm(fa_attr_test_sum, ord=1)\n",
    "\n",
    "lin_weight = model.lin1.weight[0].detach().numpy()\n",
    "y_axis_lin_weight = lin_weight / np.linalg.norm(lin_weight, ord=1)\n",
    "\n",
    "width = 0.14\n",
    "legends = ['Saliency', 'InputXGradient', 'Integrated Gradients', 'GradientShap', 'FeatureAblation',  'Weights']\n",
    "\n",
    "plt.figure(figsize=(20, 12))\n",
    "\n",
    "ax = plt.subplot()\n",
    "ax.set_title('Comparing input feature importances across multiple algorithms and learned weights')\n",
    "ax.set_ylabel('Attributions')\n",
    "\n",
    "FONT_SIZE = 16\n",
    "plt.rc('font', size=FONT_SIZE)            # fontsize of the text sizes\n",
    "plt.rc('axes', titlesize=FONT_SIZE)       # fontsize of the axes title\n",
    "plt.rc('axes', labelsize=FONT_SIZE)       # fontsize of the x and y labels\n",
    "plt.rc('legend', fontsize=FONT_SIZE - 4)  # fontsize of the legend\n",
    "\n",
    "ax.bar(x_axis_data, ig_attr_test_norm_sum, width, align='center', alpha=0.8, color='#eb5e7c')\n",
    "ax.bar(x_axis_data + width, gs_attr_test_norm_sum, width, align='center',  alpha=0.8, color='#4260f5')\n",
    "ax.bar(x_axis_data + 2 * width, fa_attr_test_norm_sum, width, align='center', alpha=1.0, color='#49ba81')\n",
    "ax.bar(x_axis_data + 3 * width, saliency_attr_test_norm_sum, width, align='center', alpha=0.6, color='#34b8e0')\n",
    "ax.bar(x_axis_data + 4 * width, input_x_gradient_attr_test_norm_sum, width, align='center', alpha=0.7, color='#A90000')\n",
    "ax.bar(x_axis_data + 5 * width, y_axis_lin_weight, width, align='center', alpha=1.0, color='grey')\n",
    "\n",
    "ax.autoscale_view()\n",
    "plt.tight_layout()\n",
    "\n",
    "ax.set_xticks(x_axis_data + 0.5)\n",
    "ax.set_xticklabels(x_axis_data_labels)\n",
    "\n",
    "plt.legend(legends, loc=3)\n",
    "plt.show()"
   ]
  },
  {
   "cell_type": "markdown",
   "metadata": {},
   "source": [
    "> Read the following [descriptions](https://captum.ai/docs/attribution_algorithms) and [comparisons](https://captum.ai/docs/algorithms_comparison_matrix) in Captum to build up your understanding of the difference of various explainability algorithms. Based on your plot, identify the three most important features for regression. Explain how each of these features influences the regression outcome.\n"
   ]
  },
  {
   "cell_type": "markdown",
   "metadata": {},
   "source": [
    "### Floor Area (floor_area_sqm)\n",
    "\n",
    "This feature has consistently high attributions across multiple methods, especially Saliency, Integrated Gradients, and Feature Ablation.\n",
    "Influence: A larger floor area tends to increase the predicted outcome, likely indicating that larger properties are associated with higher values. Conversely, a smaller floor area might contribute negatively to the regression prediction.\n",
    "### Remaining Lease Years (remaining_lease_years)\n",
    "\n",
    "It also has strong attributions across various explainability methods, particularly Saliency, InputXGradient, and Feature Ablation.\n",
    "Influence: The number of years left on the lease directly impacts property valuation. More remaining lease years likely contribute positively to the regression output, while fewer years reduce the predicted value.\n",
    "### Degree Centrality\n",
    "\n",
    "This feature exhibits high attribution values, particularly in GradientShap and Weights.\n",
    "Influence: Degree centrality in a network context might represent connectivity or accessibility in a transportation network. A higher degree centrality may indicate a well-connected location, increasing the predicted outcome, while lower connectivity might negatively impact the prediction."
   ]
  },
  {
   "cell_type": "markdown",
   "metadata": {},
   "source": [
    "Part B, Q4 (10 marks)\n",
    "---\n",
    "\n",
    "Model degradation is a common issue faced when deploying machine learning models (including neural networks) in the real world. New data points could exhibit a different pattern from older data points due to factors such as changes in government policy or market sentiments. For instance, housing prices in Singapore have been increasing and the Singapore government has introduced 3 rounds of cooling measures over the past years (16 December 2021, 30 September 2022, 27 April 2023).\n",
    "\n",
    "In such situations, the distribution of the new data points could differ from the original data distribution which the models were trained on. Recall that machine learning models often work with the assumption that the test distribution should be similar to train distribution. When this assumption is violated, model performance will be adversely impacted.  In the last part of this assignment, we will investigate to what extent model degradation has occurred.\n"
   ]
  },
  {
   "cell_type": "markdown",
   "metadata": {},
   "source": [
    "\n",
    "\n",
    "---\n",
    "\n"
   ]
  },
  {
   "cell_type": "code",
   "execution_count": 43,
   "metadata": {},
   "outputs": [
    {
     "name": "stdout",
     "output_type": "stream",
     "text": [
      "Defaulting to user installation because normal site-packages is not writeable\n",
      "Requirement already satisfied: alibi-detect in /home/priya/.local/lib/python3.10/site-packages (0.12.0)\n",
      "Requirement already satisfied: matplotlib<4.0.0,>=3.0.0 in /home/priya/.local/lib/python3.10/site-packages (from alibi-detect) (3.10.0)\n",
      "Requirement already satisfied: numpy<2.0.0,>=1.16.2 in /home/priya/.local/lib/python3.10/site-packages (from alibi-detect) (1.26.4)\n",
      "Requirement already satisfied: pandas<3.0.0,>=1.0.0 in /home/priya/.local/lib/python3.10/site-packages (from alibi-detect) (1.5.3)\n",
      "Requirement already satisfied: Pillow<11.0.0,>=5.4.1 in /home/priya/.local/lib/python3.10/site-packages (from alibi-detect) (9.5.0)\n",
      "Requirement already satisfied: opencv-python<5.0.0,>=3.2.0 in /home/priya/.local/lib/python3.10/site-packages (from alibi-detect) (4.11.0.86)\n",
      "Requirement already satisfied: scipy<2.0.0,>=1.3.0 in /home/priya/.local/lib/python3.10/site-packages (from alibi-detect) (1.12.0)\n",
      "Requirement already satisfied: scikit-image<0.23,>=0.19 in /home/priya/.local/lib/python3.10/site-packages (from alibi-detect) (0.22.0)\n",
      "Requirement already satisfied: scikit-learn<2.0.0,>=0.20.2 in /home/priya/.local/lib/python3.10/site-packages (from alibi-detect) (1.5.2)\n",
      "Requirement already satisfied: transformers<5.0.0,>=4.0.0 in /home/priya/.local/lib/python3.10/site-packages (from alibi-detect) (4.49.0)\n",
      "Requirement already satisfied: dill<0.4.0,>=0.3.0 in /home/priya/.local/lib/python3.10/site-packages (from alibi-detect) (0.3.8)\n",
      "Requirement already satisfied: tqdm<5.0.0,>=4.28.1 in /home/priya/.local/lib/python3.10/site-packages (from alibi-detect) (4.66.5)\n",
      "Requirement already satisfied: requests<3.0.0,>=2.21.0 in /home/priya/.local/lib/python3.10/site-packages (from alibi-detect) (2.32.3)\n",
      "Requirement already satisfied: pydantic<3.0.0,>=1.8.0 in /home/priya/.local/lib/python3.10/site-packages (from alibi-detect) (2.10.6)\n",
      "Requirement already satisfied: toml<1.0.0,>=0.10.1 in /home/priya/.local/lib/python3.10/site-packages (from alibi-detect) (0.10.2)\n",
      "Requirement already satisfied: catalogue<3.0.0,>=2.0.0 in /home/priya/.local/lib/python3.10/site-packages (from alibi-detect) (2.0.10)\n",
      "Requirement already satisfied: numba!=0.54.0,<0.60.0,>=0.50.0 in /home/priya/.local/lib/python3.10/site-packages (from alibi-detect) (0.59.1)\n",
      "Requirement already satisfied: typing-extensions>=3.7.4.3 in /home/priya/.local/lib/python3.10/site-packages (from alibi-detect) (4.12.2)\n",
      "Requirement already satisfied: contourpy>=1.0.1 in /home/priya/.local/lib/python3.10/site-packages (from matplotlib<4.0.0,>=3.0.0->alibi-detect) (1.3.0)\n",
      "Requirement already satisfied: cycler>=0.10 in /home/priya/.local/lib/python3.10/site-packages (from matplotlib<4.0.0,>=3.0.0->alibi-detect) (0.12.1)\n",
      "Requirement already satisfied: fonttools>=4.22.0 in /home/priya/.local/lib/python3.10/site-packages (from matplotlib<4.0.0,>=3.0.0->alibi-detect) (4.54.1)\n",
      "Requirement already satisfied: kiwisolver>=1.3.1 in /home/priya/.local/lib/python3.10/site-packages (from matplotlib<4.0.0,>=3.0.0->alibi-detect) (1.4.7)\n",
      "Requirement already satisfied: packaging>=20.0 in /home/priya/.local/lib/python3.10/site-packages (from matplotlib<4.0.0,>=3.0.0->alibi-detect) (23.2)\n",
      "Requirement already satisfied: pyparsing>=2.3.1 in /home/priya/.local/lib/python3.10/site-packages (from matplotlib<4.0.0,>=3.0.0->alibi-detect) (3.2.0)\n",
      "Requirement already satisfied: python-dateutil>=2.7 in /home/priya/.local/lib/python3.10/site-packages (from matplotlib<4.0.0,>=3.0.0->alibi-detect) (2.9.0.post0)\n",
      "Requirement already satisfied: llvmlite<0.43,>=0.42.0dev0 in /home/priya/.local/lib/python3.10/site-packages (from numba!=0.54.0,<0.60.0,>=0.50.0->alibi-detect) (0.42.0)\n",
      "Requirement already satisfied: pytz>=2020.1 in /home/priya/.local/lib/python3.10/site-packages (from pandas<3.0.0,>=1.0.0->alibi-detect) (2024.2)\n",
      "Requirement already satisfied: annotated-types>=0.6.0 in /home/priya/.local/lib/python3.10/site-packages (from pydantic<3.0.0,>=1.8.0->alibi-detect) (0.7.0)\n",
      "Requirement already satisfied: pydantic-core==2.27.2 in /home/priya/.local/lib/python3.10/site-packages (from pydantic<3.0.0,>=1.8.0->alibi-detect) (2.27.2)\n",
      "Requirement already satisfied: charset-normalizer<4,>=2 in /home/priya/.local/lib/python3.10/site-packages (from requests<3.0.0,>=2.21.0->alibi-detect) (3.4.0)\n",
      "Requirement already satisfied: idna<4,>=2.5 in /home/priya/.local/lib/python3.10/site-packages (from requests<3.0.0,>=2.21.0->alibi-detect) (3.10)\n",
      "Requirement already satisfied: urllib3<3,>=1.21.1 in /home/priya/.local/lib/python3.10/site-packages (from requests<3.0.0,>=2.21.0->alibi-detect) (1.26.20)\n",
      "Requirement already satisfied: certifi>=2017.4.17 in /home/priya/.local/lib/python3.10/site-packages (from requests<3.0.0,>=2.21.0->alibi-detect) (2024.8.30)\n",
      "Requirement already satisfied: networkx>=2.8 in /home/priya/.local/lib/python3.10/site-packages (from scikit-image<0.23,>=0.19->alibi-detect) (3.4.1)\n",
      "Requirement already satisfied: imageio>=2.27 in /home/priya/.local/lib/python3.10/site-packages (from scikit-image<0.23,>=0.19->alibi-detect) (2.37.0)\n",
      "Requirement already satisfied: tifffile>=2022.8.12 in /home/priya/.local/lib/python3.10/site-packages (from scikit-image<0.23,>=0.19->alibi-detect) (2025.2.18)\n",
      "Requirement already satisfied: lazy_loader>=0.3 in /home/priya/.local/lib/python3.10/site-packages (from scikit-image<0.23,>=0.19->alibi-detect) (0.4)\n",
      "Requirement already satisfied: joblib>=1.2.0 in /home/priya/.local/lib/python3.10/site-packages (from scikit-learn<2.0.0,>=0.20.2->alibi-detect) (1.4.2)\n",
      "Requirement already satisfied: threadpoolctl>=3.1.0 in /home/priya/.local/lib/python3.10/site-packages (from scikit-learn<2.0.0,>=0.20.2->alibi-detect) (3.5.0)\n",
      "Requirement already satisfied: filelock in /home/priya/.local/lib/python3.10/site-packages (from transformers<5.0.0,>=4.0.0->alibi-detect) (3.17.0)\n",
      "Requirement already satisfied: huggingface-hub<1.0,>=0.26.0 in /home/priya/.local/lib/python3.10/site-packages (from transformers<5.0.0,>=4.0.0->alibi-detect) (0.29.3)\n",
      "Requirement already satisfied: pyyaml>=5.1 in /usr/lib/python3/dist-packages (from transformers<5.0.0,>=4.0.0->alibi-detect) (5.4.1)\n",
      "Requirement already satisfied: regex!=2019.12.17 in /home/priya/.local/lib/python3.10/site-packages (from transformers<5.0.0,>=4.0.0->alibi-detect) (2024.9.11)\n",
      "Requirement already satisfied: tokenizers<0.22,>=0.21 in /home/priya/.local/lib/python3.10/site-packages (from transformers<5.0.0,>=4.0.0->alibi-detect) (0.21.0)\n",
      "Requirement already satisfied: safetensors>=0.4.1 in /home/priya/.local/lib/python3.10/site-packages (from transformers<5.0.0,>=4.0.0->alibi-detect) (0.5.3)\n",
      "Requirement already satisfied: fsspec>=2023.5.0 in /home/priya/.local/lib/python3.10/site-packages (from huggingface-hub<1.0,>=0.26.0->transformers<5.0.0,>=4.0.0->alibi-detect) (2024.6.1)\n",
      "Requirement already satisfied: six>=1.5 in /usr/lib/python3/dist-packages (from python-dateutil>=2.7->matplotlib<4.0.0,>=3.0.0->alibi-detect) (1.16.0)\n"
     ]
    }
   ],
   "source": [
    "!pip install alibi-detect"
   ]
  },
  {
   "cell_type": "code",
   "execution_count": 44,
   "metadata": {},
   "outputs": [],
   "source": [
    "SEED = 42\n",
    "\n",
    "import os\n",
    "\n",
    "import random\n",
    "random.seed(SEED)\n",
    "\n",
    "import numpy as np\n",
    "np.random.seed(SEED)\n",
    "\n",
    "import pandas as pd\n",
    "from alibi_detect.cd import TabularDrift"
   ]
  },
  {
   "cell_type": "markdown",
   "metadata": {},
   "source": [
    "> Evaluate your model from B1 on data from year 2022 and report the test R2."
   ]
  },
  {
   "cell_type": "code",
   "execution_count": 45,
   "metadata": {},
   "outputs": [],
   "source": [
    "# Import relevant libraries\n",
    "\n",
    "from pytorch_tabular import TabularModel\n",
    "from pytorch_tabular.models import CategoryEmbeddingModelConfig\n",
    "from pytorch_tabular.config import (\n",
    "    DataConfig,\n",
    "    OptimizerConfig,\n",
    "    TrainerConfig,\n",
    ")"
   ]
  },
  {
   "cell_type": "markdown",
   "metadata": {},
   "source": [
    "> Evaluate your model from B1 on data from year 2023 and report the test R2."
   ]
  },
  {
   "cell_type": "code",
   "execution_count": 46,
   "metadata": {},
   "outputs": [
    {
     "data": {
      "text/html": [
       "<pre style=\"white-space:pre;overflow-x:auto;line-height:normal;font-family:Menlo,'DejaVu Sans Mono',consolas,'Courier New',monospace\"><span style=\"color: #008080; text-decoration-color: #008080; font-weight: bold\">2025</span>-<span style=\"color: #008080; text-decoration-color: #008080; font-weight: bold\">03</span>-<span style=\"color: #008080; text-decoration-color: #008080; font-weight: bold\">13</span> <span style=\"color: #00ff00; text-decoration-color: #00ff00; font-weight: bold\">18:28:15</span>,<span style=\"color: #008080; text-decoration-color: #008080; font-weight: bold\">940</span> - <span style=\"font-weight: bold\">{</span>pytorch_tabular.tabular_model:<span style=\"color: #008080; text-decoration-color: #008080; font-weight: bold\">146</span><span style=\"font-weight: bold\">}</span> - INFO - Experiment Tracking is turned off           \n",
       "</pre>\n"
      ],
      "text/plain": [
       "\u001b[1;36m2025\u001b[0m-\u001b[1;36m03\u001b[0m-\u001b[1;36m13\u001b[0m \u001b[1;92m18:28:15\u001b[0m,\u001b[1;36m940\u001b[0m - \u001b[1m{\u001b[0mpytorch_tabular.tabular_model:\u001b[1;36m146\u001b[0m\u001b[1m}\u001b[0m - INFO - Experiment Tracking is turned off           \n"
      ]
     },
     "metadata": {},
     "output_type": "display_data"
    }
   ],
   "source": [
    "# Redoing model from B1 and testing on 2022 instead of 2021\n",
    "\n",
    "df = pd.read_csv('hdb_price_prediction.csv')\n",
    "\n",
    "# Training Data Set: Year 2019 and before\n",
    "df_train = df[df['year'] <= 2019].copy()\n",
    "# Validation Data Set: Year 2020\n",
    "df_val = df[df['year'] == 2020].copy()\n",
    "# Testing Data Set: Year 2022\n",
    "df_test22 = df[df['year'] == 2022].copy()\n",
    "\n",
    "# Dropping Unncessary Columns\n",
    "df_train.drop(columns=['year','full_address','nearest_stn'], inplace=True)\n",
    "df_val.drop(columns=['year','full_address','nearest_stn'], inplace=True)\n",
    "df_test22.drop(columns=['year','full_address','nearest_stn'], inplace=True)\n",
    "\n",
    "numeric = ['dist_to_nearest_stn','dist_to_dhoby','degree_centrality','eigenvector_centrality',\n",
    "                 'remaining_lease_years','floor_area_sqm']\n",
    "categorical = ['month','town','flat_model_type','storey_range']\n",
    "\n",
    "data_config = DataConfig(\n",
    "    target=[\"resale_price\"],  \n",
    "    continuous_cols=numeric,\n",
    "    categorical_cols=categorical,\n",
    ")\n",
    "trainer_config = TrainerConfig(\n",
    "    auto_lr_find=True,  # Runs the LRFinder to automatically derive a learning rate\n",
    "    batch_size=1024,\n",
    "    max_epochs=50,\n",
    ")\n",
    "optimizer_config = OptimizerConfig()\n",
    "\n",
    "model_config = CategoryEmbeddingModelConfig(\n",
    "    task=\"regression\",\n",
    "    layers=\"50\",  \n",
    ")\n",
    "\n",
    "tabular_model = TabularModel(\n",
    "    data_config=data_config,\n",
    "    model_config=model_config,\n",
    "    optimizer_config=optimizer_config,\n",
    "    trainer_config=trainer_config,\n",
    ")"
   ]
  },
  {
   "cell_type": "code",
   "execution_count": 47,
   "metadata": {},
   "outputs": [
    {
     "name": "stderr",
     "output_type": "stream",
     "text": [
      "Seed set to 42\n"
     ]
    },
    {
     "data": {
      "text/html": [
       "<pre style=\"white-space:pre;overflow-x:auto;line-height:normal;font-family:Menlo,'DejaVu Sans Mono',consolas,'Courier New',monospace\"><span style=\"color: #008080; text-decoration-color: #008080; font-weight: bold\">2025</span>-<span style=\"color: #008080; text-decoration-color: #008080; font-weight: bold\">03</span>-<span style=\"color: #008080; text-decoration-color: #008080; font-weight: bold\">13</span> <span style=\"color: #00ff00; text-decoration-color: #00ff00; font-weight: bold\">18:28:16</span>,<span style=\"color: #008080; text-decoration-color: #008080; font-weight: bold\">748</span> - <span style=\"font-weight: bold\">{</span>pytorch_tabular.tabular_model:<span style=\"color: #008080; text-decoration-color: #008080; font-weight: bold\">548</span><span style=\"font-weight: bold\">}</span> - INFO - Preparing the DataLoaders                   \n",
       "</pre>\n"
      ],
      "text/plain": [
       "\u001b[1;36m2025\u001b[0m-\u001b[1;36m03\u001b[0m-\u001b[1;36m13\u001b[0m \u001b[1;92m18:28:16\u001b[0m,\u001b[1;36m748\u001b[0m - \u001b[1m{\u001b[0mpytorch_tabular.tabular_model:\u001b[1;36m548\u001b[0m\u001b[1m}\u001b[0m - INFO - Preparing the DataLoaders                   \n"
      ]
     },
     "metadata": {},
     "output_type": "display_data"
    },
    {
     "data": {
      "text/html": [
       "<pre style=\"white-space:pre;overflow-x:auto;line-height:normal;font-family:Menlo,'DejaVu Sans Mono',consolas,'Courier New',monospace\"><span style=\"color: #008080; text-decoration-color: #008080; font-weight: bold\">2025</span>-<span style=\"color: #008080; text-decoration-color: #008080; font-weight: bold\">03</span>-<span style=\"color: #008080; text-decoration-color: #008080; font-weight: bold\">13</span> <span style=\"color: #00ff00; text-decoration-color: #00ff00; font-weight: bold\">18:28:16</span>,<span style=\"color: #008080; text-decoration-color: #008080; font-weight: bold\">827</span> - <span style=\"font-weight: bold\">{</span>pytorch_tabular.tabular_datamodul<span style=\"color: #00ff00; text-decoration-color: #00ff00; font-weight: bold\">e:522</span><span style=\"font-weight: bold\">}</span> - INFO - Setting up the datamodule for          \n",
       "regression task                                                                                                    \n",
       "</pre>\n"
      ],
      "text/plain": [
       "\u001b[1;36m2025\u001b[0m-\u001b[1;36m03\u001b[0m-\u001b[1;36m13\u001b[0m \u001b[1;92m18:28:16\u001b[0m,\u001b[1;36m827\u001b[0m - \u001b[1m{\u001b[0mpytorch_tabular.tabular_datamodul\u001b[1;92me:522\u001b[0m\u001b[1m}\u001b[0m - INFO - Setting up the datamodule for          \n",
       "regression task                                                                                                    \n"
      ]
     },
     "metadata": {},
     "output_type": "display_data"
    },
    {
     "data": {
      "text/html": [
       "<pre style=\"white-space:pre;overflow-x:auto;line-height:normal;font-family:Menlo,'DejaVu Sans Mono',consolas,'Courier New',monospace\"><span style=\"color: #008080; text-decoration-color: #008080; font-weight: bold\">2025</span>-<span style=\"color: #008080; text-decoration-color: #008080; font-weight: bold\">03</span>-<span style=\"color: #008080; text-decoration-color: #008080; font-weight: bold\">13</span> <span style=\"color: #00ff00; text-decoration-color: #00ff00; font-weight: bold\">18:28:17</span>,<span style=\"color: #008080; text-decoration-color: #008080; font-weight: bold\">115</span> - <span style=\"font-weight: bold\">{</span>pytorch_tabular.tabular_model:<span style=\"color: #008080; text-decoration-color: #008080; font-weight: bold\">599</span><span style=\"font-weight: bold\">}</span> - INFO - Preparing the Model: CategoryEmbeddingModel \n",
       "</pre>\n"
      ],
      "text/plain": [
       "\u001b[1;36m2025\u001b[0m-\u001b[1;36m03\u001b[0m-\u001b[1;36m13\u001b[0m \u001b[1;92m18:28:17\u001b[0m,\u001b[1;36m115\u001b[0m - \u001b[1m{\u001b[0mpytorch_tabular.tabular_model:\u001b[1;36m599\u001b[0m\u001b[1m}\u001b[0m - INFO - Preparing the Model: CategoryEmbeddingModel \n"
      ]
     },
     "metadata": {},
     "output_type": "display_data"
    },
    {
     "data": {
      "text/html": [
       "<pre style=\"white-space:pre;overflow-x:auto;line-height:normal;font-family:Menlo,'DejaVu Sans Mono',consolas,'Courier New',monospace\"><span style=\"color: #008080; text-decoration-color: #008080; font-weight: bold\">2025</span>-<span style=\"color: #008080; text-decoration-color: #008080; font-weight: bold\">03</span>-<span style=\"color: #008080; text-decoration-color: #008080; font-weight: bold\">13</span> <span style=\"color: #00ff00; text-decoration-color: #00ff00; font-weight: bold\">18:28:17</span>,<span style=\"color: #008080; text-decoration-color: #008080; font-weight: bold\">191</span> - <span style=\"font-weight: bold\">{</span>pytorch_tabular.tabular_model:<span style=\"color: #008080; text-decoration-color: #008080; font-weight: bold\">342</span><span style=\"font-weight: bold\">}</span> - INFO - Preparing the Trainer                       \n",
       "</pre>\n"
      ],
      "text/plain": [
       "\u001b[1;36m2025\u001b[0m-\u001b[1;36m03\u001b[0m-\u001b[1;36m13\u001b[0m \u001b[1;92m18:28:17\u001b[0m,\u001b[1;36m191\u001b[0m - \u001b[1m{\u001b[0mpytorch_tabular.tabular_model:\u001b[1;36m342\u001b[0m\u001b[1m}\u001b[0m - INFO - Preparing the Trainer                       \n"
      ]
     },
     "metadata": {},
     "output_type": "display_data"
    },
    {
     "name": "stderr",
     "output_type": "stream",
     "text": [
      "/home/priya/.local/lib/python3.10/site-packages/torch/cuda/__init__.py:654: UserWarning: Can't initialize NVML\n",
      "  warnings.warn(\"Can't initialize NVML\")\n",
      "GPU available: False, used: False\n",
      "TPU available: False, using: 0 TPU cores\n",
      "HPU available: False, using: 0 HPUs\n"
     ]
    },
    {
     "data": {
      "text/html": [
       "<pre style=\"white-space:pre;overflow-x:auto;line-height:normal;font-family:Menlo,'DejaVu Sans Mono',consolas,'Courier New',monospace\"><span style=\"color: #008080; text-decoration-color: #008080; font-weight: bold\">2025</span>-<span style=\"color: #008080; text-decoration-color: #008080; font-weight: bold\">03</span>-<span style=\"color: #008080; text-decoration-color: #008080; font-weight: bold\">13</span> <span style=\"color: #00ff00; text-decoration-color: #00ff00; font-weight: bold\">18:28:17</span>,<span style=\"color: #008080; text-decoration-color: #008080; font-weight: bold\">253</span> - <span style=\"font-weight: bold\">{</span>pytorch_tabular.tabular_model:<span style=\"color: #008080; text-decoration-color: #008080; font-weight: bold\">656</span><span style=\"font-weight: bold\">}</span> - INFO - Auto LR Find Started                        \n",
       "</pre>\n"
      ],
      "text/plain": [
       "\u001b[1;36m2025\u001b[0m-\u001b[1;36m03\u001b[0m-\u001b[1;36m13\u001b[0m \u001b[1;92m18:28:17\u001b[0m,\u001b[1;36m253\u001b[0m - \u001b[1m{\u001b[0mpytorch_tabular.tabular_model:\u001b[1;36m656\u001b[0m\u001b[1m}\u001b[0m - INFO - Auto LR Find Started                        \n"
      ]
     },
     "metadata": {},
     "output_type": "display_data"
    },
    {
     "name": "stderr",
     "output_type": "stream",
     "text": [
      "/home/priya/.local/lib/python3.10/site-packages/pytorch_lightning/callbacks/model_checkpoint.py:654: Checkpoint directory /home/priya/4001 Assignment/saved_models exists and is not empty.\n",
      "/home/priya/.local/lib/python3.10/site-packages/pytorch_lightning/trainer/connectors/data_connector.py:424: The 'train_dataloader' does not have many workers which may be a bottleneck. Consider increasing the value of the `num_workers` argument` to `num_workers=15` in the `DataLoader` to improve performance.\n",
      "/home/priya/.local/lib/python3.10/site-packages/pytorch_lightning/trainer/connectors/data_connector.py:424: The 'val_dataloader' does not have many workers which may be a bottleneck. Consider increasing the value of the `num_workers` argument` to `num_workers=15` in the `DataLoader` to improve performance.\n"
     ]
    },
    {
     "data": {
      "application/vnd.jupyter.widget-view+json": {
       "model_id": "1b3ab938611346f1b4be9598a26529e0",
       "version_major": 2,
       "version_minor": 0
      },
      "text/plain": [
       "Finding best initial lr:   0%|          | 0/100 [00:00<?, ?it/s]"
      ]
     },
     "metadata": {},
     "output_type": "display_data"
    },
    {
     "name": "stderr",
     "output_type": "stream",
     "text": [
      "`Trainer.fit` stopped: `max_steps=100` reached.\n",
      "Learning rate set to 0.5754399373371567\n",
      "Restoring states from the checkpoint path at /home/priya/4001 Assignment/.lr_find_51cef6a3-a1e0-4cae-b8e8-5b0ce2f781df.ckpt\n",
      "Restored all states from the checkpoint at /home/priya/4001 Assignment/.lr_find_51cef6a3-a1e0-4cae-b8e8-5b0ce2f781df.ckpt\n"
     ]
    },
    {
     "data": {
      "text/html": [
       "<pre style=\"white-space:pre;overflow-x:auto;line-height:normal;font-family:Menlo,'DejaVu Sans Mono',consolas,'Courier New',monospace\"><span style=\"color: #008080; text-decoration-color: #008080; font-weight: bold\">2025</span>-<span style=\"color: #008080; text-decoration-color: #008080; font-weight: bold\">03</span>-<span style=\"color: #008080; text-decoration-color: #008080; font-weight: bold\">13</span> <span style=\"color: #00ff00; text-decoration-color: #00ff00; font-weight: bold\">18:28:35</span>,<span style=\"color: #008080; text-decoration-color: #008080; font-weight: bold\">140</span> - <span style=\"font-weight: bold\">{</span>pytorch_tabular.tabular_model:<span style=\"color: #008080; text-decoration-color: #008080; font-weight: bold\">669</span><span style=\"font-weight: bold\">}</span> - INFO - Suggested LR: <span style=\"color: #008080; text-decoration-color: #008080; font-weight: bold\">0.5754399373371567</span>. For plot  \n",
       "and detailed analysis, use `find_learning_rate` method.                                                            \n",
       "</pre>\n"
      ],
      "text/plain": [
       "\u001b[1;36m2025\u001b[0m-\u001b[1;36m03\u001b[0m-\u001b[1;36m13\u001b[0m \u001b[1;92m18:28:35\u001b[0m,\u001b[1;36m140\u001b[0m - \u001b[1m{\u001b[0mpytorch_tabular.tabular_model:\u001b[1;36m669\u001b[0m\u001b[1m}\u001b[0m - INFO - Suggested LR: \u001b[1;36m0.5754399373371567\u001b[0m. For plot  \n",
       "and detailed analysis, use `find_learning_rate` method.                                                            \n"
      ]
     },
     "metadata": {},
     "output_type": "display_data"
    },
    {
     "data": {
      "text/html": [
       "<pre style=\"white-space:pre;overflow-x:auto;line-height:normal;font-family:Menlo,'DejaVu Sans Mono',consolas,'Courier New',monospace\"><span style=\"color: #008080; text-decoration-color: #008080; font-weight: bold\">2025</span>-<span style=\"color: #008080; text-decoration-color: #008080; font-weight: bold\">03</span>-<span style=\"color: #008080; text-decoration-color: #008080; font-weight: bold\">13</span> <span style=\"color: #00ff00; text-decoration-color: #00ff00; font-weight: bold\">18:28:35</span>,<span style=\"color: #008080; text-decoration-color: #008080; font-weight: bold\">149</span> - <span style=\"font-weight: bold\">{</span>pytorch_tabular.tabular_model:<span style=\"color: #008080; text-decoration-color: #008080; font-weight: bold\">678</span><span style=\"font-weight: bold\">}</span> - INFO - Training Started                            \n",
       "</pre>\n"
      ],
      "text/plain": [
       "\u001b[1;36m2025\u001b[0m-\u001b[1;36m03\u001b[0m-\u001b[1;36m13\u001b[0m \u001b[1;92m18:28:35\u001b[0m,\u001b[1;36m149\u001b[0m - \u001b[1m{\u001b[0mpytorch_tabular.tabular_model:\u001b[1;36m678\u001b[0m\u001b[1m}\u001b[0m - INFO - Training Started                            \n"
      ]
     },
     "metadata": {},
     "output_type": "display_data"
    },
    {
     "data": {
      "text/html": [
       "<pre style=\"white-space:pre;overflow-x:auto;line-height:normal;font-family:Menlo,'DejaVu Sans Mono',consolas,'Courier New',monospace\">┏━━━┳━━━━━━━━━━━━━━━━━━┳━━━━━━━━━━━━━━━━━━━━━━━━━━━┳━━━━━━━━┳━━━━━━━┓\n",
       "┃<span style=\"color: #800080; text-decoration-color: #800080; font-weight: bold\">   </span>┃<span style=\"color: #800080; text-decoration-color: #800080; font-weight: bold\"> Name             </span>┃<span style=\"color: #800080; text-decoration-color: #800080; font-weight: bold\"> Type                      </span>┃<span style=\"color: #800080; text-decoration-color: #800080; font-weight: bold\"> Params </span>┃<span style=\"color: #800080; text-decoration-color: #800080; font-weight: bold\"> Mode  </span>┃\n",
       "┡━━━╇━━━━━━━━━━━━━━━━━━╇━━━━━━━━━━━━━━━━━━━━━━━━━━━╇━━━━━━━━╇━━━━━━━┩\n",
       "│<span style=\"color: #7f7f7f; text-decoration-color: #7f7f7f\"> 0 </span>│ _backbone        │ CategoryEmbeddingBackbone │  2.9 K │ train │\n",
       "│<span style=\"color: #7f7f7f; text-decoration-color: #7f7f7f\"> 1 </span>│ _embedding_layer │ Embedding1dLayer          │  1.5 K │ train │\n",
       "│<span style=\"color: #7f7f7f; text-decoration-color: #7f7f7f\"> 2 </span>│ head             │ LinearHead                │     51 │ train │\n",
       "│<span style=\"color: #7f7f7f; text-decoration-color: #7f7f7f\"> 3 </span>│ loss             │ MSELoss                   │      0 │ train │\n",
       "└───┴──────────────────┴───────────────────────────┴────────┴───────┘\n",
       "</pre>\n"
      ],
      "text/plain": [
       "┏━━━┳━━━━━━━━━━━━━━━━━━┳━━━━━━━━━━━━━━━━━━━━━━━━━━━┳━━━━━━━━┳━━━━━━━┓\n",
       "┃\u001b[1;35m \u001b[0m\u001b[1;35m \u001b[0m\u001b[1;35m \u001b[0m┃\u001b[1;35m \u001b[0m\u001b[1;35mName            \u001b[0m\u001b[1;35m \u001b[0m┃\u001b[1;35m \u001b[0m\u001b[1;35mType                     \u001b[0m\u001b[1;35m \u001b[0m┃\u001b[1;35m \u001b[0m\u001b[1;35mParams\u001b[0m\u001b[1;35m \u001b[0m┃\u001b[1;35m \u001b[0m\u001b[1;35mMode \u001b[0m\u001b[1;35m \u001b[0m┃\n",
       "┡━━━╇━━━━━━━━━━━━━━━━━━╇━━━━━━━━━━━━━━━━━━━━━━━━━━━╇━━━━━━━━╇━━━━━━━┩\n",
       "│\u001b[2m \u001b[0m\u001b[2m0\u001b[0m\u001b[2m \u001b[0m│ _backbone        │ CategoryEmbeddingBackbone │  2.9 K │ train │\n",
       "│\u001b[2m \u001b[0m\u001b[2m1\u001b[0m\u001b[2m \u001b[0m│ _embedding_layer │ Embedding1dLayer          │  1.5 K │ train │\n",
       "│\u001b[2m \u001b[0m\u001b[2m2\u001b[0m\u001b[2m \u001b[0m│ head             │ LinearHead                │     51 │ train │\n",
       "│\u001b[2m \u001b[0m\u001b[2m3\u001b[0m\u001b[2m \u001b[0m│ loss             │ MSELoss                   │      0 │ train │\n",
       "└───┴──────────────────┴───────────────────────────┴────────┴───────┘\n"
      ]
     },
     "metadata": {},
     "output_type": "display_data"
    },
    {
     "data": {
      "text/html": [
       "<pre style=\"white-space:pre;overflow-x:auto;line-height:normal;font-family:Menlo,'DejaVu Sans Mono',consolas,'Courier New',monospace\"><span style=\"font-weight: bold\">Trainable params</span>: 4.5 K                                                                                            \n",
       "<span style=\"font-weight: bold\">Non-trainable params</span>: 0                                                                                            \n",
       "<span style=\"font-weight: bold\">Total params</span>: 4.5 K                                                                                                \n",
       "<span style=\"font-weight: bold\">Total estimated model params size (MB)</span>: 0                                                                          \n",
       "<span style=\"font-weight: bold\">Modules in train mode</span>: 16                                                                                          \n",
       "<span style=\"font-weight: bold\">Modules in eval mode</span>: 0                                                                                            \n",
       "</pre>\n"
      ],
      "text/plain": [
       "\u001b[1mTrainable params\u001b[0m: 4.5 K                                                                                            \n",
       "\u001b[1mNon-trainable params\u001b[0m: 0                                                                                            \n",
       "\u001b[1mTotal params\u001b[0m: 4.5 K                                                                                                \n",
       "\u001b[1mTotal estimated model params size (MB)\u001b[0m: 0                                                                          \n",
       "\u001b[1mModules in train mode\u001b[0m: 16                                                                                          \n",
       "\u001b[1mModules in eval mode\u001b[0m: 0                                                                                            \n"
      ]
     },
     "metadata": {},
     "output_type": "display_data"
    },
    {
     "data": {
      "application/vnd.jupyter.widget-view+json": {
       "model_id": "d4df392e9a1243529f801d8af28f6cca",
       "version_major": 2,
       "version_minor": 0
      },
      "text/plain": [
       "Output()"
      ]
     },
     "metadata": {},
     "output_type": "display_data"
    },
    {
     "data": {
      "text/html": [
       "<pre style=\"white-space:pre;overflow-x:auto;line-height:normal;font-family:Menlo,'DejaVu Sans Mono',consolas,'Courier New',monospace\"></pre>\n"
      ],
      "text/plain": []
     },
     "metadata": {},
     "output_type": "display_data"
    },
    {
     "data": {
      "text/html": [
       "<pre style=\"white-space:pre;overflow-x:auto;line-height:normal;font-family:Menlo,'DejaVu Sans Mono',consolas,'Courier New',monospace\"><span style=\"color: #008080; text-decoration-color: #008080; font-weight: bold\">2025</span>-<span style=\"color: #008080; text-decoration-color: #008080; font-weight: bold\">03</span>-<span style=\"color: #008080; text-decoration-color: #008080; font-weight: bold\">13</span> <span style=\"color: #00ff00; text-decoration-color: #00ff00; font-weight: bold\">18:29:34</span>,<span style=\"color: #008080; text-decoration-color: #008080; font-weight: bold\">729</span> - <span style=\"font-weight: bold\">{</span>pytorch_tabular.tabular_model:<span style=\"color: #008080; text-decoration-color: #008080; font-weight: bold\">689</span><span style=\"font-weight: bold\">}</span> - INFO - Training the model completed                \n",
       "</pre>\n"
      ],
      "text/plain": [
       "\u001b[1;36m2025\u001b[0m-\u001b[1;36m03\u001b[0m-\u001b[1;36m13\u001b[0m \u001b[1;92m18:29:34\u001b[0m,\u001b[1;36m729\u001b[0m - \u001b[1m{\u001b[0mpytorch_tabular.tabular_model:\u001b[1;36m689\u001b[0m\u001b[1m}\u001b[0m - INFO - Training the model completed                \n"
      ]
     },
     "metadata": {},
     "output_type": "display_data"
    },
    {
     "data": {
      "text/html": [
       "<pre style=\"white-space:pre;overflow-x:auto;line-height:normal;font-family:Menlo,'DejaVu Sans Mono',consolas,'Courier New',monospace\"><span style=\"color: #008080; text-decoration-color: #008080; font-weight: bold\">2025</span>-<span style=\"color: #008080; text-decoration-color: #008080; font-weight: bold\">03</span>-<span style=\"color: #008080; text-decoration-color: #008080; font-weight: bold\">13</span> <span style=\"color: #00ff00; text-decoration-color: #00ff00; font-weight: bold\">18:29:34</span>,<span style=\"color: #008080; text-decoration-color: #008080; font-weight: bold\">738</span> - <span style=\"font-weight: bold\">{</span>pytorch_tabular.tabular_model:<span style=\"color: #008080; text-decoration-color: #008080; font-weight: bold\">1529</span><span style=\"font-weight: bold\">}</span> - INFO - Loading the best model                     \n",
       "</pre>\n"
      ],
      "text/plain": [
       "\u001b[1;36m2025\u001b[0m-\u001b[1;36m03\u001b[0m-\u001b[1;36m13\u001b[0m \u001b[1;92m18:29:34\u001b[0m,\u001b[1;36m738\u001b[0m - \u001b[1m{\u001b[0mpytorch_tabular.tabular_model:\u001b[1;36m1529\u001b[0m\u001b[1m}\u001b[0m - INFO - Loading the best model                     \n"
      ]
     },
     "metadata": {},
     "output_type": "display_data"
    },
    {
     "name": "stderr",
     "output_type": "stream",
     "text": [
      "/home/priya/.local/lib/python3.10/site-packages/pytorch_tabular/utils/python_utils.py:85: FutureWarning: You are using `torch.load` with `weights_only=False` (the current default value), which uses the default pickle module implicitly. It is possible to construct malicious pickle data which will execute arbitrary code during unpickling (See https://github.com/pytorch/pytorch/blob/main/SECURITY.md#untrusted-models for more details). In a future release, the default value for `weights_only` will be flipped to `True`. This limits the functions that could be executed during unpickling. Arbitrary objects will no longer be allowed to be loaded via this mode unless they are explicitly allowlisted by the user via `torch.serialization.add_safe_globals`. We recommend you start setting `weights_only=True` for any use case where you don't have full control of the loaded file. Please open an issue on GitHub for any issues related to this experimental feature.\n",
      "  return torch.load(f, map_location=map_location)\n"
     ]
    },
    {
     "data": {
      "text/plain": [
       "<pytorch_lightning.trainer.trainer.Trainer at 0x7b4ca5bfa3b0>"
      ]
     },
     "execution_count": 47,
     "metadata": {},
     "output_type": "execute_result"
    }
   ],
   "source": [
    "from torch_optimizer import QHAdam\n",
    "# Training Tabular Model\n",
    "tabular_model.fit(df_train, \n",
    "                  validation=df_val,\n",
    "                  optimizer=QHAdam)"
   ]
  },
  {
   "cell_type": "code",
   "execution_count": 48,
   "metadata": {},
   "outputs": [
    {
     "data": {
      "application/vnd.jupyter.widget-view+json": {
       "model_id": "953356eaeb514786b75a6bed668851d1",
       "version_major": 2,
       "version_minor": 0
      },
      "text/plain": [
       "Output()"
      ]
     },
     "metadata": {},
     "output_type": "display_data"
    },
    {
     "name": "stderr",
     "output_type": "stream",
     "text": [
      "/home/priya/.local/lib/python3.10/site-packages/pytorch_lightning/trainer/connectors/data_connector.py:424: The 'test_dataloader' does not have many workers which may be a bottleneck. Consider increasing the value of the `num_workers` argument` to `num_workers=15` in the `DataLoader` to improve performance.\n"
     ]
    },
    {
     "data": {
      "text/html": [
       "<pre style=\"white-space:pre;overflow-x:auto;line-height:normal;font-family:Menlo,'DejaVu Sans Mono',consolas,'Courier New',monospace\">┏━━━━━━━━━━━━━━━━━━━━━━━━━━━┳━━━━━━━━━━━━━━━━━━━━━━━━━━━┓\n",
       "┃<span style=\"font-weight: bold\">        Test metric        </span>┃<span style=\"font-weight: bold\">       DataLoader 0        </span>┃\n",
       "┡━━━━━━━━━━━━━━━━━━━━━━━━━━━╇━━━━━━━━━━━━━━━━━━━━━━━━━━━┩\n",
       "│<span style=\"color: #008080; text-decoration-color: #008080\">         test_loss         </span>│<span style=\"color: #800080; text-decoration-color: #800080\">       16876774400.0       </span>│\n",
       "│<span style=\"color: #008080; text-decoration-color: #008080\">  test_mean_squared_error  </span>│<span style=\"color: #800080; text-decoration-color: #800080\">       16876774400.0       </span>│\n",
       "└───────────────────────────┴───────────────────────────┘\n",
       "</pre>\n"
      ],
      "text/plain": [
       "┏━━━━━━━━━━━━━━━━━━━━━━━━━━━┳━━━━━━━━━━━━━━━━━━━━━━━━━━━┓\n",
       "┃\u001b[1m \u001b[0m\u001b[1m       Test metric       \u001b[0m\u001b[1m \u001b[0m┃\u001b[1m \u001b[0m\u001b[1m      DataLoader 0       \u001b[0m\u001b[1m \u001b[0m┃\n",
       "┡━━━━━━━━━━━━━━━━━━━━━━━━━━━╇━━━━━━━━━━━━━━━━━━━━━━━━━━━┩\n",
       "│\u001b[36m \u001b[0m\u001b[36m        test_loss        \u001b[0m\u001b[36m \u001b[0m│\u001b[35m \u001b[0m\u001b[35m      16876774400.0      \u001b[0m\u001b[35m \u001b[0m│\n",
       "│\u001b[36m \u001b[0m\u001b[36m test_mean_squared_error \u001b[0m\u001b[36m \u001b[0m│\u001b[35m \u001b[0m\u001b[35m      16876774400.0      \u001b[0m\u001b[35m \u001b[0m│\n",
       "└───────────────────────────┴───────────────────────────┘\n"
      ]
     },
     "metadata": {},
     "output_type": "display_data"
    },
    {
     "data": {
      "text/html": [
       "<pre style=\"white-space:pre;overflow-x:auto;line-height:normal;font-family:Menlo,'DejaVu Sans Mono',consolas,'Courier New',monospace\"></pre>\n"
      ],
      "text/plain": []
     },
     "metadata": {},
     "output_type": "display_data"
    },
    {
     "name": "stderr",
     "output_type": "stream",
     "text": [
      "/home/priya/.local/lib/python3.10/site-packages/pytorch_tabular/tabular_model.py:1466: DeprecationWarning: `include_input_features` will be deprecated in the next release. Please add index columns to the test dataframe if you want to retain some features like the key or id\n",
      "  warnings.warn(\n"
     ]
    }
   ],
   "source": [
    "# Evaluation and Prediction\n",
    "evaluation22 = tabular_model.evaluate(df_test22)\n",
    "predicted22 = tabular_model.predict(df_test22)"
   ]
  },
  {
   "cell_type": "code",
   "execution_count": 49,
   "metadata": {},
   "outputs": [
    {
     "name": "stdout",
     "output_type": "stream",
     "text": [
      "Root Mean Squared Error (RMSE): 129910.63346172169\n",
      "R2 Score: 0.41781366214660665\n"
     ]
    }
   ],
   "source": [
    "from sklearn.metrics import r2_score\n",
    "from sklearn.metrics import mean_squared_error\n",
    "\n",
    "# True Values and Predicted Values\n",
    "y_true22 = df_test22['resale_price'].values\n",
    "y_pred22 = predicted22['resale_price_prediction']\n",
    "\n",
    "mse = mean_squared_error(y_true22, y_pred22)\n",
    "print(\"Root Mean Squared Error (RMSE):\", np.sqrt(mse))\n",
    "r2 = r2_score(y_true22, y_pred22)\n",
    "print(\"R2 Score:\", r2)"
   ]
  },
  {
   "cell_type": "code",
   "execution_count": 52,
   "metadata": {},
   "outputs": [],
   "source": [
    "# Data Preparation for 2023\n",
    "\n",
    "# Testing Data Set: Year 2022\n",
    "df_test23 = df[df['year'] == 2023].copy()\n",
    "\n",
    "# Dropping Unnecessary Columns\n",
    "df_test23.drop(columns=['year','full_address','nearest_stn'], inplace=True)"
   ]
  },
  {
   "cell_type": "code",
   "execution_count": 53,
   "metadata": {},
   "outputs": [
    {
     "data": {
      "application/vnd.jupyter.widget-view+json": {
       "model_id": "69ecb2d528044a98b3bbb19e2498ae41",
       "version_major": 2,
       "version_minor": 0
      },
      "text/plain": [
       "Output()"
      ]
     },
     "metadata": {},
     "output_type": "display_data"
    },
    {
     "name": "stderr",
     "output_type": "stream",
     "text": [
      "/home/priya/.local/lib/python3.10/site-packages/pytorch_lightning/trainer/connectors/data_connector.py:424: The 'test_dataloader' does not have many workers which may be a bottleneck. Consider increasing the value of the `num_workers` argument` to `num_workers=15` in the `DataLoader` to improve performance.\n"
     ]
    },
    {
     "data": {
      "text/html": [
       "<pre style=\"white-space:pre;overflow-x:auto;line-height:normal;font-family:Menlo,'DejaVu Sans Mono',consolas,'Courier New',monospace\">┏━━━━━━━━━━━━━━━━━━━━━━━━━━━┳━━━━━━━━━━━━━━━━━━━━━━━━━━━┓\n",
       "┃<span style=\"font-weight: bold\">        Test metric        </span>┃<span style=\"font-weight: bold\">       DataLoader 0        </span>┃\n",
       "┡━━━━━━━━━━━━━━━━━━━━━━━━━━━╇━━━━━━━━━━━━━━━━━━━━━━━━━━━┩\n",
       "│<span style=\"color: #008080; text-decoration-color: #008080\">         test_loss         </span>│<span style=\"color: #800080; text-decoration-color: #800080\">       25508872192.0       </span>│\n",
       "│<span style=\"color: #008080; text-decoration-color: #008080\">  test_mean_squared_error  </span>│<span style=\"color: #800080; text-decoration-color: #800080\">       25508872192.0       </span>│\n",
       "└───────────────────────────┴───────────────────────────┘\n",
       "</pre>\n"
      ],
      "text/plain": [
       "┏━━━━━━━━━━━━━━━━━━━━━━━━━━━┳━━━━━━━━━━━━━━━━━━━━━━━━━━━┓\n",
       "┃\u001b[1m \u001b[0m\u001b[1m       Test metric       \u001b[0m\u001b[1m \u001b[0m┃\u001b[1m \u001b[0m\u001b[1m      DataLoader 0       \u001b[0m\u001b[1m \u001b[0m┃\n",
       "┡━━━━━━━━━━━━━━━━━━━━━━━━━━━╇━━━━━━━━━━━━━━━━━━━━━━━━━━━┩\n",
       "│\u001b[36m \u001b[0m\u001b[36m        test_loss        \u001b[0m\u001b[36m \u001b[0m│\u001b[35m \u001b[0m\u001b[35m      25508872192.0      \u001b[0m\u001b[35m \u001b[0m│\n",
       "│\u001b[36m \u001b[0m\u001b[36m test_mean_squared_error \u001b[0m\u001b[36m \u001b[0m│\u001b[35m \u001b[0m\u001b[35m      25508872192.0      \u001b[0m\u001b[35m \u001b[0m│\n",
       "└───────────────────────────┴───────────────────────────┘\n"
      ]
     },
     "metadata": {},
     "output_type": "display_data"
    },
    {
     "data": {
      "text/html": [
       "<pre style=\"white-space:pre;overflow-x:auto;line-height:normal;font-family:Menlo,'DejaVu Sans Mono',consolas,'Courier New',monospace\"></pre>\n"
      ],
      "text/plain": []
     },
     "metadata": {},
     "output_type": "display_data"
    },
    {
     "name": "stderr",
     "output_type": "stream",
     "text": [
      "/home/priya/.local/lib/python3.10/site-packages/pytorch_tabular/tabular_model.py:1466: DeprecationWarning: `include_input_features` will be deprecated in the next release. Please add index columns to the test dataframe if you want to retain some features like the key or id\n",
      "  warnings.warn(\n"
     ]
    }
   ],
   "source": [
    "# Evaluation and Prediction\n",
    "evaluation23 = tabular_model.evaluate(df_test23)\n",
    "predicted23 = tabular_model.predict(df_test23)"
   ]
  },
  {
   "cell_type": "code",
   "execution_count": 54,
   "metadata": {},
   "outputs": [
    {
     "name": "stdout",
     "output_type": "stream",
     "text": [
      "Root Mean Squared Error (RMSE): 159714.97528490023\n",
      "R2 Score: 0.13473508842728277\n"
     ]
    }
   ],
   "source": [
    "# True Values and Predicted Values\n",
    "y_true23 = df_test23['resale_price'].values\n",
    "y_pred23 = predicted23['resale_price_prediction']\n",
    "\n",
    "mse = mean_squared_error(y_true23, y_pred23)\n",
    "print(\"Root Mean Squared Error (RMSE):\", np.sqrt(mse))\n",
    "r2 = r2_score(y_true23, y_pred23)\n",
    "print(\"R2 Score:\", r2)"
   ]
  },
  {
   "cell_type": "markdown",
   "metadata": {},
   "source": [
    "# Model Performance Comparison Between 2022 and 2023\n",
    "## R2 Score Comparison\n",
    "### Definition: The R2 score, or coefficient of determination, assesses the goodness of fit of the model to the data by measuring the proportion of variance in the dependent variable predictable from the independent variables.\n",
    "### Observation:\n",
    "In 2022, the R2 score was 0.418, which suggests a relatively higher proportion of explained variance.\n",
    "In 2023, the R2 score decreased to 0.135, indicating that the model's predictive accuracy declined and it explains less of the variance in the dependent variable.\n",
    "### RMSE Comparison\n",
    "Definition: Root Mean Square Error (RMSE) quantifies the average deviation of predicted values from actual values, with higher RMSE values indicating larger prediction errors.\n",
    "Observation:\n",
    "The RMSE increased from 129,910.63 in 2022 to 159,714.97 in 2023, highlighting that the model's predictions in 2023 are less accurate compared to 2022.\n",
    "Model Performance Degradation\n",
    "The decrease in R2 and increase in RMSE indicate a decline in model performance from 2022 to 2023. This degradation suggests that the model is less effective in predicting outcomes accurately in 2023.\n",
    "### Possible Causes:\n",
    "Changes in data patterns or relationships.\n",
    "Environmental shifts affecting underlying data trends.\n",
    "Alterations in the model's structure or configuration.\n",
    "Other Factors Influencing Model Degradation\n",
    "### Prediction Errors:\n",
    "Check for patterns such as heteroscedasticity or systematic biases in prediction errors.\n",
    "### Cross-Validation Scores:\n",
    "Monitor cross-validation scores for changes in performance on unseen data.\n",
    "### Feature Importance:\n",
    "Observe shifts in feature importance rankings to understand changes in model behavior.\n",
    "### Model Complexity:\n",
    "Ensure that model complexity aligns with the data's complexity to avoid overfitting or underfitting.\n",
    "### Generalization Performance:\n",
    "Evaluate the model's ability to generalize to new data beyond the training set."
   ]
  },
  {
   "cell_type": "markdown",
   "metadata": {},
   "source": [
    "> Did model degradation occur for the deep learning model?"
   ]
  },
  {
   "cell_type": "markdown",
   "metadata": {},
   "source": [
    "### Yes, model degradation occurred. The R2 value dropped from 0.7555578453226205 for 2021 test data(in B1) to 0.41781365864686426 for 2022 test data, to 0.13473508672140222 for 2023 test data.Model Performance Comparison Between 2022 and 2023\n",
    "### R2 Score Comparison\n",
    "Definition: The R2 score, or coefficient of determination, assesses the goodness of fit of the model to the data by measuring the proportion of variance in the dependent variable predictable from the independent variables.\n",
    "Observation:\n",
    "In 2022, the R2 score was 0.418, which suggests a relatively higher proportion of explained variance.\n",
    "In 2023, the R2 score decreased to 0.135, indicating that the model's predictive accuracy declined and it explains less of the variance in the dependent variable.\n",
    "### RMSE Comparison\n",
    "Definition: Root Mean Square Error (RMSE) quantifies the average deviation of predicted values from actual values, with higher RMSE values indicating larger prediction errors.\n",
    "Observation:\n",
    "The RMSE increased from 129,910.63 in 2022 to 159,714.97 in 2023, highlighting that the model's predictions in 2023 are less accurate compared to 2022.\n",
    "Model Performance Degradation\n",
    "The decrease in R2 and increase in RMSE indicate a decline in model performance from 2022 to 2023. This degradation suggests that the model is less effective in predicting outcomes accurately in 2023.\n",
    "### Possible Causes:\n",
    "Changes in data patterns or relationships.\n",
    "Environmental shifts affecting underlying data trends.\n",
    "Alterations in the model's structure or configuration.\n",
    "Other Factors Influencing Model Degradation\n",
    "### Prediction Errors:\n",
    "Check for patterns such as heteroscedasticity or systematic biases in prediction errors.\n",
    "### Cross-Validation Scores:\n",
    "Monitor cross-validation scores for changes in performance on unseen data.\n",
    "Feature Importance:\n",
    "Observe shifts in feature importance rankings to understand changes in model behavior.\n",
    "3## Model Complexity:\n",
    "Ensure that model complexity aligns with the data's complexity to avoid overfitting or underfitting.\n",
    "### Generalization Performance:\n",
    "Evaluate the model's ability to generalize to new data beyond the training set.\\>"
   ]
  },
  {
   "cell_type": "markdown",
   "metadata": {},
   "source": [
    "Model degradation could be caused by [various data distribution shifts](https://huyenchip.com/2022/02/07/data-distribution-shifts-and-monitoring.html#data-shift-types): covariate shift (features), label shift and/or concept drift (altered relationship between features and labels).\n",
    "There are various conflicting terminologies in the [literature](https://www.sciencedirect.com/science/article/pii/S0950705122002854#tbl1). Let’s stick to this reference for this assignment.\n",
    "\n",
    "> Using the **Alibi Detect** library, apply the **TabularDrift** function with the training data (year 2020 and before) used as the reference and **detect which features have drifted** in the 2023 test dataset. Before running the statistical tests, ensure you **sample 1000 data points** each from the train and test data. Do not use the whole train/test data. (Hint: use this example as a guide https://docs.seldon.io/projects/alibi-detect/en/stable/examples/cd_chi2ks_adult.html)\n"
   ]
  },
  {
   "cell_type": "code",
   "execution_count": 35,
   "metadata": {},
   "outputs": [
    {
     "data": {
      "text/plain": [
       "Index(['month', 'town', 'dist_to_nearest_stn', 'dist_to_dhoby',\n",
       "       'degree_centrality', 'eigenvector_centrality', 'flat_model_type',\n",
       "       'remaining_lease_years', 'floor_area_sqm', 'storey_range'],\n",
       "      dtype='object')"
      ]
     },
     "execution_count": 35,
     "metadata": {},
     "output_type": "execute_result"
    }
   ],
   "source": [
    "# Dropping Resale Price (target) leaving only features\n",
    "train_drift = df_train.copy()\n",
    "train_drift.drop(columns=['resale_price'],inplace=True)\n",
    "\n",
    "test_drift = df_test23.copy()\n",
    "test_drift.drop(columns=['resale_price'],inplace=True)\n",
    "\n",
    "feature_names = train_drift.columns\n",
    "feature_names"
   ]
  },
  {
   "cell_type": "code",
   "execution_count": 36,
   "metadata": {},
   "outputs": [],
   "source": [
    "# Sample 1000 data points each\n",
    "sample_train = train_drift.sample(1000, random_state = 42)\n",
    "sample_test = test_drift.sample(1000, random_state = 42)"
   ]
  },
  {
   "cell_type": "code",
   "execution_count": 37,
   "metadata": {},
   "outputs": [
    {
     "name": "stdout",
     "output_type": "stream",
     "text": [
      "Drift? Yes!\n"
     ]
    },
    {
     "name": "stderr",
     "output_type": "stream",
     "text": [
      "/home/priya/.local/lib/python3.10/site-packages/pandas/core/dtypes/cast.py:1641: DeprecationWarning: np.find_common_type is deprecated.  Please use `np.result_type` or `np.promote_types`.\n",
      "See https://numpy.org/devdocs/release/1.25.0-notes.html and the docs for more information.  (Deprecated NumPy 1.25)\n",
      "  return np.find_common_type(types, [])\n"
     ]
    }
   ],
   "source": [
    "# Detecting drift\n",
    "\n",
    "categories_per_feature = {f: None for f in range(sample_train.values.shape[1])}\n",
    "\n",
    "cd = TabularDrift(sample_train.values, \n",
    "                  p_val=.05, \n",
    "                  categories_per_feature=categories_per_feature)\n",
    "\n",
    "preds = cd.predict(sample_test.values)\n",
    "labels = ['No!', 'Yes!']\n",
    "print('Drift? {}'.format(labels[preds['data']['is_drift']]))"
   ]
  },
  {
   "cell_type": "code",
   "execution_count": 38,
   "metadata": {},
   "outputs": [
    {
     "name": "stdout",
     "output_type": "stream",
     "text": [
      "month -- Drift? Yes! -- Chi2 430.336 -- p-value 0.000\n",
      "town -- Drift? No! -- Chi2 33.178 -- p-value 0.127\n",
      "dist_to_nearest_stn -- Drift? No! -- Chi2 1799.333 -- p-value 0.153\n",
      "dist_to_dhoby -- Drift? No! -- Chi2 1799.333 -- p-value 0.153\n",
      "degree_centrality -- Drift? Yes! -- Chi2 14.145 -- p-value 0.003\n",
      "eigenvector_centrality -- Drift? Yes! -- Chi2 110.044 -- p-value 0.008\n",
      "flat_model_type -- Drift? Yes! -- Chi2 62.122 -- p-value 0.001\n",
      "remaining_lease_years -- Drift? Yes! -- Chi2 824.113 -- p-value 0.000\n",
      "floor_area_sqm -- Drift? Yes! -- Chi2 210.241 -- p-value 0.000\n",
      "storey_range -- Drift? Yes! -- Chi2 27.842 -- p-value 0.010\n"
     ]
    }
   ],
   "source": [
    "# Individual feature-wise drift\n",
    "\n",
    "fpreds = cd.predict(sample_test.values, drift_type='feature')\n",
    "\n",
    "for f in range(cd.n_features):\n",
    "    stat = 'Chi2' if f in list(categories_per_feature.keys()) else 'K-S'\n",
    "    fname = feature_names[f]\n",
    "    is_drift = fpreds['data']['is_drift'][f]\n",
    "    stat_val, p_val = fpreds['data']['distance'][f], fpreds['data']['p_val'][f]\n",
    "    print(f'{fname} -- Drift? {labels[is_drift]} -- {stat} {stat_val:.3f} -- p-value {p_val:.3f}')"
   ]
  },
  {
   "cell_type": "markdown",
   "metadata": {},
   "source": [
    "> Assuming that the flurry of housing measures have made an impact on the relationship between all the features and resale_price (i.e. P(Y|X) changes), which type of data distribution shift possibly led to model degradation?"
   ]
  },
  {
   "cell_type": "markdown",
   "metadata": {},
   "source": [
    "### Concept drift led to model degradation.\n",
    " Concept drift is when P(Y|X) changes, but P(X) remains the same. Concept drift, also known as posterior shift, is when the input distribution remains the same but the conditional distribution of the output given an input changes. In this case, cooling measures introduced to the housing market by the government has altered the relationship between all features and resale_price"
   ]
  },
  {
   "cell_type": "markdown",
   "metadata": {},
   "source": [
    "> From your analysis via TabularDrift, which features contribute to this shift?"
   ]
  },
  {
   "cell_type": "markdown",
   "metadata": {},
   "source": [
    "### From my analysis above, 'month', 'degree_centrality', 'eigenvector_centrality', 'flat_model_type', 'remaining_lease_years', 'floor_area_sqm' and 'storey_range' have drifted and contributed to the shift. These features have p value <= 0.010.\n",
    "### Answer: The following features contribute to the Concept Drift:\n",
    "\n",
    "These features have shown significant shifts, affecting their relationship with resale prices and potentially impacting model accuracy.\n"
   ]
  },
  {
   "cell_type": "markdown",
   "metadata": {},
   "source": [
    "> Suggest 1 way to address model degradation and implement it, showing improved test R2 for year 2023."
   ]
  },
  {
   "cell_type": "markdown",
   "metadata": {},
   "source": [
    "### Solution to Address Model Degradation:\n",
    "\n",
    "The B1 model was initially trained on older data, specifically from 2017 to 2019. To improve the model's performance and address degradation due to changes in the housing market, one effective approach is to retrain the model on more recent data.\n",
    "\n",
    "Updated Approach:\n",
    "\n",
    "Training Data: Include all available data up to and including 2022 to capture recent trends and shifts.\n",
    "Updated Training Data: [2017, 2018, 2019, 2020, 2021, 2022]\n",
    "Testing Data: Reserve 2023 data for testing to evaluate performance improvements.\\>To reduce concept drift, we should train, validate and test data inclusive of cooling measures periods (16 December 2021, 30 September 2022, 27 April 2023)\n",
    "\n",
    "Therefore, we can adjust train-validate-test split to:\n",
    "\n",
    "Train: before and inclusive of 2021\n",
    "Validate: 2022\n",
    "Test: 2023\\>"
   ]
  },
  {
   "cell_type": "code",
   "execution_count": 39,
   "metadata": {},
   "outputs": [
    {
     "data": {
      "text/html": [
       "<pre style=\"white-space:pre;overflow-x:auto;line-height:normal;font-family:Menlo,'DejaVu Sans Mono',consolas,'Courier New',monospace\"><span style=\"color: #008080; text-decoration-color: #008080; font-weight: bold\">2025</span>-<span style=\"color: #008080; text-decoration-color: #008080; font-weight: bold\">03</span>-<span style=\"color: #008080; text-decoration-color: #008080; font-weight: bold\">13</span> <span style=\"color: #00ff00; text-decoration-color: #00ff00; font-weight: bold\">17:05:34</span>,<span style=\"color: #008080; text-decoration-color: #008080; font-weight: bold\">411</span> - <span style=\"font-weight: bold\">{</span>pytorch_tabular.tabular_model:<span style=\"color: #008080; text-decoration-color: #008080; font-weight: bold\">146</span><span style=\"font-weight: bold\">}</span> - INFO - Experiment Tracking is turned off           \n",
       "</pre>\n"
      ],
      "text/plain": [
       "\u001b[1;36m2025\u001b[0m-\u001b[1;36m03\u001b[0m-\u001b[1;36m13\u001b[0m \u001b[1;92m17:05:34\u001b[0m,\u001b[1;36m411\u001b[0m - \u001b[1m{\u001b[0mpytorch_tabular.tabular_model:\u001b[1;36m146\u001b[0m\u001b[1m}\u001b[0m - INFO - Experiment Tracking is turned off           \n"
      ]
     },
     "metadata": {},
     "output_type": "display_data"
    }
   ],
   "source": [
    "# Splitting data\n",
    "final_train = df[(df['year'] <= 2021)]\n",
    "final_val = df[df['year'] == 2022]\n",
    "final_test = df[df['year'] == 2023]\n",
    "\n",
    "# Dropping Unncessary Columns\n",
    "final_train.drop(columns=['year','full_address','nearest_stn'], inplace=True)\n",
    "final_val.drop(columns=['year','full_address','nearest_stn'], inplace=True)\n",
    "final_test.drop(columns=['year','full_address','nearest_stn'], inplace=True)\n",
    "\n",
    "numeric = ['dist_to_nearest_stn','dist_to_dhoby','degree_centrality','eigenvector_centrality',\n",
    "                 'remaining_lease_years','floor_area_sqm']\n",
    "categorical = ['month','town','flat_model_type','storey_range']\n",
    "\n",
    "data_config = DataConfig(\n",
    "    target=[\"resale_price\"],  \n",
    "    continuous_cols=numeric,\n",
    "    categorical_cols=categorical,\n",
    ")\n",
    "trainer_config = TrainerConfig(\n",
    "    auto_lr_find=True,  # Runs the LRFinder to automatically derive a learning rate\n",
    "    batch_size=1024,\n",
    "    max_epochs=50,\n",
    ")\n",
    "optimizer_config = OptimizerConfig()\n",
    "\n",
    "model_config = CategoryEmbeddingModelConfig(\n",
    "    task=\"regression\",\n",
    "    layers=\"50\",  \n",
    ")\n",
    "\n",
    "tabular_model = TabularModel(\n",
    "    data_config=data_config,\n",
    "    model_config=model_config,\n",
    "    optimizer_config=optimizer_config,\n",
    "    trainer_config=trainer_config,\n",
    ")"
   ]
  },
  {
   "cell_type": "code",
   "execution_count": 40,
   "metadata": {},
   "outputs": [
    {
     "name": "stderr",
     "output_type": "stream",
     "text": [
      "Seed set to 42\n"
     ]
    },
    {
     "data": {
      "text/html": [
       "<pre style=\"white-space:pre;overflow-x:auto;line-height:normal;font-family:Menlo,'DejaVu Sans Mono',consolas,'Courier New',monospace\"><span style=\"color: #008080; text-decoration-color: #008080; font-weight: bold\">2025</span>-<span style=\"color: #008080; text-decoration-color: #008080; font-weight: bold\">03</span>-<span style=\"color: #008080; text-decoration-color: #008080; font-weight: bold\">13</span> <span style=\"color: #00ff00; text-decoration-color: #00ff00; font-weight: bold\">17:05:35</span>,<span style=\"color: #008080; text-decoration-color: #008080; font-weight: bold\">817</span> - <span style=\"font-weight: bold\">{</span>pytorch_tabular.tabular_model:<span style=\"color: #008080; text-decoration-color: #008080; font-weight: bold\">548</span><span style=\"font-weight: bold\">}</span> - INFO - Preparing the DataLoaders                   \n",
       "</pre>\n"
      ],
      "text/plain": [
       "\u001b[1;36m2025\u001b[0m-\u001b[1;36m03\u001b[0m-\u001b[1;36m13\u001b[0m \u001b[1;92m17:05:35\u001b[0m,\u001b[1;36m817\u001b[0m - \u001b[1m{\u001b[0mpytorch_tabular.tabular_model:\u001b[1;36m548\u001b[0m\u001b[1m}\u001b[0m - INFO - Preparing the DataLoaders                   \n"
      ]
     },
     "metadata": {},
     "output_type": "display_data"
    },
    {
     "data": {
      "text/html": [
       "<pre style=\"white-space:pre;overflow-x:auto;line-height:normal;font-family:Menlo,'DejaVu Sans Mono',consolas,'Courier New',monospace\"><span style=\"color: #008080; text-decoration-color: #008080; font-weight: bold\">2025</span>-<span style=\"color: #008080; text-decoration-color: #008080; font-weight: bold\">03</span>-<span style=\"color: #008080; text-decoration-color: #008080; font-weight: bold\">13</span> <span style=\"color: #00ff00; text-decoration-color: #00ff00; font-weight: bold\">17:05:35</span>,<span style=\"color: #008080; text-decoration-color: #008080; font-weight: bold\">973</span> - <span style=\"font-weight: bold\">{</span>pytorch_tabular.tabular_datamodul<span style=\"color: #00ff00; text-decoration-color: #00ff00; font-weight: bold\">e:522</span><span style=\"font-weight: bold\">}</span> - INFO - Setting up the datamodule for          \n",
       "regression task                                                                                                    \n",
       "</pre>\n"
      ],
      "text/plain": [
       "\u001b[1;36m2025\u001b[0m-\u001b[1;36m03\u001b[0m-\u001b[1;36m13\u001b[0m \u001b[1;92m17:05:35\u001b[0m,\u001b[1;36m973\u001b[0m - \u001b[1m{\u001b[0mpytorch_tabular.tabular_datamodul\u001b[1;92me:522\u001b[0m\u001b[1m}\u001b[0m - INFO - Setting up the datamodule for          \n",
       "regression task                                                                                                    \n"
      ]
     },
     "metadata": {},
     "output_type": "display_data"
    },
    {
     "data": {
      "text/html": [
       "<pre style=\"white-space:pre;overflow-x:auto;line-height:normal;font-family:Menlo,'DejaVu Sans Mono',consolas,'Courier New',monospace\"><span style=\"color: #008080; text-decoration-color: #008080; font-weight: bold\">2025</span>-<span style=\"color: #008080; text-decoration-color: #008080; font-weight: bold\">03</span>-<span style=\"color: #008080; text-decoration-color: #008080; font-weight: bold\">13</span> <span style=\"color: #00ff00; text-decoration-color: #00ff00; font-weight: bold\">17:05:36</span>,<span style=\"color: #008080; text-decoration-color: #008080; font-weight: bold\">366</span> - <span style=\"font-weight: bold\">{</span>pytorch_tabular.tabular_model:<span style=\"color: #008080; text-decoration-color: #008080; font-weight: bold\">599</span><span style=\"font-weight: bold\">}</span> - INFO - Preparing the Model: CategoryEmbeddingModel \n",
       "</pre>\n"
      ],
      "text/plain": [
       "\u001b[1;36m2025\u001b[0m-\u001b[1;36m03\u001b[0m-\u001b[1;36m13\u001b[0m \u001b[1;92m17:05:36\u001b[0m,\u001b[1;36m366\u001b[0m - \u001b[1m{\u001b[0mpytorch_tabular.tabular_model:\u001b[1;36m599\u001b[0m\u001b[1m}\u001b[0m - INFO - Preparing the Model: CategoryEmbeddingModel \n"
      ]
     },
     "metadata": {},
     "output_type": "display_data"
    },
    {
     "data": {
      "text/html": [
       "<pre style=\"white-space:pre;overflow-x:auto;line-height:normal;font-family:Menlo,'DejaVu Sans Mono',consolas,'Courier New',monospace\"><span style=\"color: #008080; text-decoration-color: #008080; font-weight: bold\">2025</span>-<span style=\"color: #008080; text-decoration-color: #008080; font-weight: bold\">03</span>-<span style=\"color: #008080; text-decoration-color: #008080; font-weight: bold\">13</span> <span style=\"color: #00ff00; text-decoration-color: #00ff00; font-weight: bold\">17:05:36</span>,<span style=\"color: #008080; text-decoration-color: #008080; font-weight: bold\">451</span> - <span style=\"font-weight: bold\">{</span>pytorch_tabular.tabular_model:<span style=\"color: #008080; text-decoration-color: #008080; font-weight: bold\">342</span><span style=\"font-weight: bold\">}</span> - INFO - Preparing the Trainer                       \n",
       "</pre>\n"
      ],
      "text/plain": [
       "\u001b[1;36m2025\u001b[0m-\u001b[1;36m03\u001b[0m-\u001b[1;36m13\u001b[0m \u001b[1;92m17:05:36\u001b[0m,\u001b[1;36m451\u001b[0m - \u001b[1m{\u001b[0mpytorch_tabular.tabular_model:\u001b[1;36m342\u001b[0m\u001b[1m}\u001b[0m - INFO - Preparing the Trainer                       \n"
      ]
     },
     "metadata": {},
     "output_type": "display_data"
    },
    {
     "name": "stderr",
     "output_type": "stream",
     "text": [
      "/home/priya/.local/lib/python3.10/site-packages/torch/cuda/__init__.py:654: UserWarning: Can't initialize NVML\n",
      "  warnings.warn(\"Can't initialize NVML\")\n",
      "GPU available: False, used: False\n",
      "TPU available: False, using: 0 TPU cores\n",
      "HPU available: False, using: 0 HPUs\n"
     ]
    },
    {
     "data": {
      "text/html": [
       "<pre style=\"white-space:pre;overflow-x:auto;line-height:normal;font-family:Menlo,'DejaVu Sans Mono',consolas,'Courier New',monospace\"><span style=\"color: #008080; text-decoration-color: #008080; font-weight: bold\">2025</span>-<span style=\"color: #008080; text-decoration-color: #008080; font-weight: bold\">03</span>-<span style=\"color: #008080; text-decoration-color: #008080; font-weight: bold\">13</span> <span style=\"color: #00ff00; text-decoration-color: #00ff00; font-weight: bold\">17:05:36</span>,<span style=\"color: #008080; text-decoration-color: #008080; font-weight: bold\">506</span> - <span style=\"font-weight: bold\">{</span>pytorch_tabular.tabular_model:<span style=\"color: #008080; text-decoration-color: #008080; font-weight: bold\">656</span><span style=\"font-weight: bold\">}</span> - INFO - Auto LR Find Started                        \n",
       "</pre>\n"
      ],
      "text/plain": [
       "\u001b[1;36m2025\u001b[0m-\u001b[1;36m03\u001b[0m-\u001b[1;36m13\u001b[0m \u001b[1;92m17:05:36\u001b[0m,\u001b[1;36m506\u001b[0m - \u001b[1m{\u001b[0mpytorch_tabular.tabular_model:\u001b[1;36m656\u001b[0m\u001b[1m}\u001b[0m - INFO - Auto LR Find Started                        \n"
      ]
     },
     "metadata": {},
     "output_type": "display_data"
    },
    {
     "name": "stderr",
     "output_type": "stream",
     "text": [
      "/home/priya/.local/lib/python3.10/site-packages/pytorch_lightning/callbacks/model_checkpoint.py:654: Checkpoint directory /home/priya/4001 Assignment/saved_models exists and is not empty.\n",
      "/home/priya/.local/lib/python3.10/site-packages/pytorch_lightning/trainer/connectors/data_connector.py:424: The 'train_dataloader' does not have many workers which may be a bottleneck. Consider increasing the value of the `num_workers` argument` to `num_workers=15` in the `DataLoader` to improve performance.\n",
      "/home/priya/.local/lib/python3.10/site-packages/pytorch_lightning/trainer/connectors/data_connector.py:424: The 'val_dataloader' does not have many workers which may be a bottleneck. Consider increasing the value of the `num_workers` argument` to `num_workers=15` in the `DataLoader` to improve performance.\n"
     ]
    },
    {
     "data": {
      "application/vnd.jupyter.widget-view+json": {
       "model_id": "bed5d23f89cf49a99d6b29ff5458c15c",
       "version_major": 2,
       "version_minor": 0
      },
      "text/plain": [
       "Finding best initial lr:   0%|          | 0/100 [00:00<?, ?it/s]"
      ]
     },
     "metadata": {},
     "output_type": "display_data"
    },
    {
     "name": "stderr",
     "output_type": "stream",
     "text": [
      "`Trainer.fit` stopped: `max_steps=100` reached.\n",
      "Learning rate set to 0.5754399373371567\n",
      "Restoring states from the checkpoint path at /home/priya/4001 Assignment/.lr_find_2e078b85-459f-471f-bb19-50fd39f68903.ckpt\n",
      "Restored all states from the checkpoint at /home/priya/4001 Assignment/.lr_find_2e078b85-459f-471f-bb19-50fd39f68903.ckpt\n"
     ]
    },
    {
     "data": {
      "text/html": [
       "<pre style=\"white-space:pre;overflow-x:auto;line-height:normal;font-family:Menlo,'DejaVu Sans Mono',consolas,'Courier New',monospace\"><span style=\"color: #008080; text-decoration-color: #008080; font-weight: bold\">2025</span>-<span style=\"color: #008080; text-decoration-color: #008080; font-weight: bold\">03</span>-<span style=\"color: #008080; text-decoration-color: #008080; font-weight: bold\">13</span> <span style=\"color: #00ff00; text-decoration-color: #00ff00; font-weight: bold\">17:05:52</span>,<span style=\"color: #008080; text-decoration-color: #008080; font-weight: bold\">558</span> - <span style=\"font-weight: bold\">{</span>pytorch_tabular.tabular_model:<span style=\"color: #008080; text-decoration-color: #008080; font-weight: bold\">669</span><span style=\"font-weight: bold\">}</span> - INFO - Suggested LR: <span style=\"color: #008080; text-decoration-color: #008080; font-weight: bold\">0.5754399373371567</span>. For plot  \n",
       "and detailed analysis, use `find_learning_rate` method.                                                            \n",
       "</pre>\n"
      ],
      "text/plain": [
       "\u001b[1;36m2025\u001b[0m-\u001b[1;36m03\u001b[0m-\u001b[1;36m13\u001b[0m \u001b[1;92m17:05:52\u001b[0m,\u001b[1;36m558\u001b[0m - \u001b[1m{\u001b[0mpytorch_tabular.tabular_model:\u001b[1;36m669\u001b[0m\u001b[1m}\u001b[0m - INFO - Suggested LR: \u001b[1;36m0.5754399373371567\u001b[0m. For plot  \n",
       "and detailed analysis, use `find_learning_rate` method.                                                            \n"
      ]
     },
     "metadata": {},
     "output_type": "display_data"
    },
    {
     "data": {
      "text/html": [
       "<pre style=\"white-space:pre;overflow-x:auto;line-height:normal;font-family:Menlo,'DejaVu Sans Mono',consolas,'Courier New',monospace\"><span style=\"color: #008080; text-decoration-color: #008080; font-weight: bold\">2025</span>-<span style=\"color: #008080; text-decoration-color: #008080; font-weight: bold\">03</span>-<span style=\"color: #008080; text-decoration-color: #008080; font-weight: bold\">13</span> <span style=\"color: #00ff00; text-decoration-color: #00ff00; font-weight: bold\">17:05:52</span>,<span style=\"color: #008080; text-decoration-color: #008080; font-weight: bold\">571</span> - <span style=\"font-weight: bold\">{</span>pytorch_tabular.tabular_model:<span style=\"color: #008080; text-decoration-color: #008080; font-weight: bold\">678</span><span style=\"font-weight: bold\">}</span> - INFO - Training Started                            \n",
       "</pre>\n"
      ],
      "text/plain": [
       "\u001b[1;36m2025\u001b[0m-\u001b[1;36m03\u001b[0m-\u001b[1;36m13\u001b[0m \u001b[1;92m17:05:52\u001b[0m,\u001b[1;36m571\u001b[0m - \u001b[1m{\u001b[0mpytorch_tabular.tabular_model:\u001b[1;36m678\u001b[0m\u001b[1m}\u001b[0m - INFO - Training Started                            \n"
      ]
     },
     "metadata": {},
     "output_type": "display_data"
    },
    {
     "data": {
      "text/html": [
       "<pre style=\"white-space:pre;overflow-x:auto;line-height:normal;font-family:Menlo,'DejaVu Sans Mono',consolas,'Courier New',monospace\">┏━━━┳━━━━━━━━━━━━━━━━━━┳━━━━━━━━━━━━━━━━━━━━━━━━━━━┳━━━━━━━━┳━━━━━━━┓\n",
       "┃<span style=\"color: #800080; text-decoration-color: #800080; font-weight: bold\">   </span>┃<span style=\"color: #800080; text-decoration-color: #800080; font-weight: bold\"> Name             </span>┃<span style=\"color: #800080; text-decoration-color: #800080; font-weight: bold\"> Type                      </span>┃<span style=\"color: #800080; text-decoration-color: #800080; font-weight: bold\"> Params </span>┃<span style=\"color: #800080; text-decoration-color: #800080; font-weight: bold\"> Mode  </span>┃\n",
       "┡━━━╇━━━━━━━━━━━━━━━━━━╇━━━━━━━━━━━━━━━━━━━━━━━━━━━╇━━━━━━━━╇━━━━━━━┩\n",
       "│<span style=\"color: #7f7f7f; text-decoration-color: #7f7f7f\"> 0 </span>│ _backbone        │ CategoryEmbeddingBackbone │  3.0 K │ train │\n",
       "│<span style=\"color: #7f7f7f; text-decoration-color: #7f7f7f\"> 1 </span>│ _embedding_layer │ Embedding1dLayer          │  1.6 K │ train │\n",
       "│<span style=\"color: #7f7f7f; text-decoration-color: #7f7f7f\"> 2 </span>│ head             │ LinearHead                │     51 │ train │\n",
       "│<span style=\"color: #7f7f7f; text-decoration-color: #7f7f7f\"> 3 </span>│ loss             │ MSELoss                   │      0 │ train │\n",
       "└───┴──────────────────┴───────────────────────────┴────────┴───────┘\n",
       "</pre>\n"
      ],
      "text/plain": [
       "┏━━━┳━━━━━━━━━━━━━━━━━━┳━━━━━━━━━━━━━━━━━━━━━━━━━━━┳━━━━━━━━┳━━━━━━━┓\n",
       "┃\u001b[1;35m \u001b[0m\u001b[1;35m \u001b[0m\u001b[1;35m \u001b[0m┃\u001b[1;35m \u001b[0m\u001b[1;35mName            \u001b[0m\u001b[1;35m \u001b[0m┃\u001b[1;35m \u001b[0m\u001b[1;35mType                     \u001b[0m\u001b[1;35m \u001b[0m┃\u001b[1;35m \u001b[0m\u001b[1;35mParams\u001b[0m\u001b[1;35m \u001b[0m┃\u001b[1;35m \u001b[0m\u001b[1;35mMode \u001b[0m\u001b[1;35m \u001b[0m┃\n",
       "┡━━━╇━━━━━━━━━━━━━━━━━━╇━━━━━━━━━━━━━━━━━━━━━━━━━━━╇━━━━━━━━╇━━━━━━━┩\n",
       "│\u001b[2m \u001b[0m\u001b[2m0\u001b[0m\u001b[2m \u001b[0m│ _backbone        │ CategoryEmbeddingBackbone │  3.0 K │ train │\n",
       "│\u001b[2m \u001b[0m\u001b[2m1\u001b[0m\u001b[2m \u001b[0m│ _embedding_layer │ Embedding1dLayer          │  1.6 K │ train │\n",
       "│\u001b[2m \u001b[0m\u001b[2m2\u001b[0m\u001b[2m \u001b[0m│ head             │ LinearHead                │     51 │ train │\n",
       "│\u001b[2m \u001b[0m\u001b[2m3\u001b[0m\u001b[2m \u001b[0m│ loss             │ MSELoss                   │      0 │ train │\n",
       "└───┴──────────────────┴───────────────────────────┴────────┴───────┘\n"
      ]
     },
     "metadata": {},
     "output_type": "display_data"
    },
    {
     "data": {
      "text/html": [
       "<pre style=\"white-space:pre;overflow-x:auto;line-height:normal;font-family:Menlo,'DejaVu Sans Mono',consolas,'Courier New',monospace\"><span style=\"font-weight: bold\">Trainable params</span>: 4.6 K                                                                                            \n",
       "<span style=\"font-weight: bold\">Non-trainable params</span>: 0                                                                                            \n",
       "<span style=\"font-weight: bold\">Total params</span>: 4.6 K                                                                                                \n",
       "<span style=\"font-weight: bold\">Total estimated model params size (MB)</span>: 0                                                                          \n",
       "<span style=\"font-weight: bold\">Modules in train mode</span>: 16                                                                                          \n",
       "<span style=\"font-weight: bold\">Modules in eval mode</span>: 0                                                                                            \n",
       "</pre>\n"
      ],
      "text/plain": [
       "\u001b[1mTrainable params\u001b[0m: 4.6 K                                                                                            \n",
       "\u001b[1mNon-trainable params\u001b[0m: 0                                                                                            \n",
       "\u001b[1mTotal params\u001b[0m: 4.6 K                                                                                                \n",
       "\u001b[1mTotal estimated model params size (MB)\u001b[0m: 0                                                                          \n",
       "\u001b[1mModules in train mode\u001b[0m: 16                                                                                          \n",
       "\u001b[1mModules in eval mode\u001b[0m: 0                                                                                            \n"
      ]
     },
     "metadata": {},
     "output_type": "display_data"
    },
    {
     "data": {
      "application/vnd.jupyter.widget-view+json": {
       "model_id": "cedb1a4b7fd14f78bfca40f2de325488",
       "version_major": 2,
       "version_minor": 0
      },
      "text/plain": [
       "Output()"
      ]
     },
     "metadata": {},
     "output_type": "display_data"
    },
    {
     "data": {
      "text/html": [
       "<pre style=\"white-space:pre;overflow-x:auto;line-height:normal;font-family:Menlo,'DejaVu Sans Mono',consolas,'Courier New',monospace\"></pre>\n"
      ],
      "text/plain": []
     },
     "metadata": {},
     "output_type": "display_data"
    },
    {
     "data": {
      "text/html": [
       "<pre style=\"white-space:pre;overflow-x:auto;line-height:normal;font-family:Menlo,'DejaVu Sans Mono',consolas,'Courier New',monospace\"><span style=\"color: #008080; text-decoration-color: #008080; font-weight: bold\">2025</span>-<span style=\"color: #008080; text-decoration-color: #008080; font-weight: bold\">03</span>-<span style=\"color: #008080; text-decoration-color: #008080; font-weight: bold\">13</span> <span style=\"color: #00ff00; text-decoration-color: #00ff00; font-weight: bold\">17:08:04</span>,<span style=\"color: #008080; text-decoration-color: #008080; font-weight: bold\">092</span> - <span style=\"font-weight: bold\">{</span>pytorch_tabular.tabular_model:<span style=\"color: #008080; text-decoration-color: #008080; font-weight: bold\">689</span><span style=\"font-weight: bold\">}</span> - INFO - Training the model completed                \n",
       "</pre>\n"
      ],
      "text/plain": [
       "\u001b[1;36m2025\u001b[0m-\u001b[1;36m03\u001b[0m-\u001b[1;36m13\u001b[0m \u001b[1;92m17:08:04\u001b[0m,\u001b[1;36m092\u001b[0m - \u001b[1m{\u001b[0mpytorch_tabular.tabular_model:\u001b[1;36m689\u001b[0m\u001b[1m}\u001b[0m - INFO - Training the model completed                \n"
      ]
     },
     "metadata": {},
     "output_type": "display_data"
    },
    {
     "data": {
      "text/html": [
       "<pre style=\"white-space:pre;overflow-x:auto;line-height:normal;font-family:Menlo,'DejaVu Sans Mono',consolas,'Courier New',monospace\"><span style=\"color: #008080; text-decoration-color: #008080; font-weight: bold\">2025</span>-<span style=\"color: #008080; text-decoration-color: #008080; font-weight: bold\">03</span>-<span style=\"color: #008080; text-decoration-color: #008080; font-weight: bold\">13</span> <span style=\"color: #00ff00; text-decoration-color: #00ff00; font-weight: bold\">17:08:04</span>,<span style=\"color: #008080; text-decoration-color: #008080; font-weight: bold\">099</span> - <span style=\"font-weight: bold\">{</span>pytorch_tabular.tabular_model:<span style=\"color: #008080; text-decoration-color: #008080; font-weight: bold\">1529</span><span style=\"font-weight: bold\">}</span> - INFO - Loading the best model                     \n",
       "</pre>\n"
      ],
      "text/plain": [
       "\u001b[1;36m2025\u001b[0m-\u001b[1;36m03\u001b[0m-\u001b[1;36m13\u001b[0m \u001b[1;92m17:08:04\u001b[0m,\u001b[1;36m099\u001b[0m - \u001b[1m{\u001b[0mpytorch_tabular.tabular_model:\u001b[1;36m1529\u001b[0m\u001b[1m}\u001b[0m - INFO - Loading the best model                     \n"
      ]
     },
     "metadata": {},
     "output_type": "display_data"
    },
    {
     "name": "stderr",
     "output_type": "stream",
     "text": [
      "/home/priya/.local/lib/python3.10/site-packages/pytorch_tabular/utils/python_utils.py:85: FutureWarning: You are using `torch.load` with `weights_only=False` (the current default value), which uses the default pickle module implicitly. It is possible to construct malicious pickle data which will execute arbitrary code during unpickling (See https://github.com/pytorch/pytorch/blob/main/SECURITY.md#untrusted-models for more details). In a future release, the default value for `weights_only` will be flipped to `True`. This limits the functions that could be executed during unpickling. Arbitrary objects will no longer be allowed to be loaded via this mode unless they are explicitly allowlisted by the user via `torch.serialization.add_safe_globals`. We recommend you start setting `weights_only=True` for any use case where you don't have full control of the loaded file. Please open an issue on GitHub for any issues related to this experimental feature.\n",
      "  return torch.load(f, map_location=map_location)\n"
     ]
    },
    {
     "data": {
      "text/plain": [
       "<pytorch_lightning.trainer.trainer.Trainer at 0x7b4ca5bfff70>"
      ]
     },
     "execution_count": 40,
     "metadata": {},
     "output_type": "execute_result"
    }
   ],
   "source": [
    "# Training Tabular Model\n",
    "tabular_model.fit(final_train, \n",
    "                  validation=final_val, \n",
    "                  optimizer=QHAdam)"
   ]
  },
  {
   "cell_type": "code",
   "execution_count": 41,
   "metadata": {},
   "outputs": [
    {
     "data": {
      "application/vnd.jupyter.widget-view+json": {
       "model_id": "a0fe5148d15443dd9fedb4f9881808e5",
       "version_major": 2,
       "version_minor": 0
      },
      "text/plain": [
       "Output()"
      ]
     },
     "metadata": {},
     "output_type": "display_data"
    },
    {
     "name": "stderr",
     "output_type": "stream",
     "text": [
      "/home/priya/.local/lib/python3.10/site-packages/pytorch_lightning/trainer/connectors/data_connector.py:424: The 'test_dataloader' does not have many workers which may be a bottleneck. Consider increasing the value of the `num_workers` argument` to `num_workers=15` in the `DataLoader` to improve performance.\n"
     ]
    },
    {
     "data": {
      "text/html": [
       "<pre style=\"white-space:pre;overflow-x:auto;line-height:normal;font-family:Menlo,'DejaVu Sans Mono',consolas,'Courier New',monospace\">┏━━━━━━━━━━━━━━━━━━━━━━━━━━━┳━━━━━━━━━━━━━━━━━━━━━━━━━━━┓\n",
       "┃<span style=\"font-weight: bold\">        Test metric        </span>┃<span style=\"font-weight: bold\">       DataLoader 0        </span>┃\n",
       "┡━━━━━━━━━━━━━━━━━━━━━━━━━━━╇━━━━━━━━━━━━━━━━━━━━━━━━━━━┩\n",
       "│<span style=\"color: #008080; text-decoration-color: #008080\">         test_loss         </span>│<span style=\"color: #800080; text-decoration-color: #800080\">       18126643200.0       </span>│\n",
       "│<span style=\"color: #008080; text-decoration-color: #008080\">  test_mean_squared_error  </span>│<span style=\"color: #800080; text-decoration-color: #800080\">       18126643200.0       </span>│\n",
       "└───────────────────────────┴───────────────────────────┘\n",
       "</pre>\n"
      ],
      "text/plain": [
       "┏━━━━━━━━━━━━━━━━━━━━━━━━━━━┳━━━━━━━━━━━━━━━━━━━━━━━━━━━┓\n",
       "┃\u001b[1m \u001b[0m\u001b[1m       Test metric       \u001b[0m\u001b[1m \u001b[0m┃\u001b[1m \u001b[0m\u001b[1m      DataLoader 0       \u001b[0m\u001b[1m \u001b[0m┃\n",
       "┡━━━━━━━━━━━━━━━━━━━━━━━━━━━╇━━━━━━━━━━━━━━━━━━━━━━━━━━━┩\n",
       "│\u001b[36m \u001b[0m\u001b[36m        test_loss        \u001b[0m\u001b[36m \u001b[0m│\u001b[35m \u001b[0m\u001b[35m      18126643200.0      \u001b[0m\u001b[35m \u001b[0m│\n",
       "│\u001b[36m \u001b[0m\u001b[36m test_mean_squared_error \u001b[0m\u001b[36m \u001b[0m│\u001b[35m \u001b[0m\u001b[35m      18126643200.0      \u001b[0m\u001b[35m \u001b[0m│\n",
       "└───────────────────────────┴───────────────────────────┘\n"
      ]
     },
     "metadata": {},
     "output_type": "display_data"
    },
    {
     "data": {
      "text/html": [
       "<pre style=\"white-space:pre;overflow-x:auto;line-height:normal;font-family:Menlo,'DejaVu Sans Mono',consolas,'Courier New',monospace\"></pre>\n"
      ],
      "text/plain": []
     },
     "metadata": {},
     "output_type": "display_data"
    },
    {
     "name": "stderr",
     "output_type": "stream",
     "text": [
      "/home/priya/.local/lib/python3.10/site-packages/pytorch_tabular/tabular_model.py:1466: DeprecationWarning: `include_input_features` will be deprecated in the next release. Please add index columns to the test dataframe if you want to retain some features like the key or id\n",
      "  warnings.warn(\n"
     ]
    }
   ],
   "source": [
    "# Evaluation and Prediction\n",
    "final_evaluation = tabular_model.evaluate(final_test)\n",
    "final_predicted = tabular_model.predict(final_test)"
   ]
  },
  {
   "cell_type": "code",
   "execution_count": 42,
   "metadata": {},
   "outputs": [
    {
     "name": "stdout",
     "output_type": "stream",
     "text": [
      "Root Mean Squared Error (RMSE): 134635.2195380738\n",
      "R2 Score: 0.3851415004329666\n"
     ]
    }
   ],
   "source": [
    "# True Values and Predicted Values\n",
    "y_true_final = final_test['resale_price'].values\n",
    "y_pred_final = final_predicted['resale_price_prediction']\n",
    "\n",
    "mse = mean_squared_error(y_true_final, y_pred_final)\n",
    "print(\"Root Mean Squared Error (RMSE):\", np.sqrt(mse))\n",
    "r2 = r2_score(y_true_final, y_pred_final)\n",
    "print(\"R2 Score:\", r2)"
   ]
  }
 ],
 "metadata": {
  "colab": {
   "authorship_tag": "ABX9TyOG8ZhA98h3O6fnefkjOU9w",
   "provenance": []
  },
  "kernelspec": {
   "display_name": "Python 3",
   "language": "python",
   "name": "python3"
  },
  "language_info": {
   "codemirror_mode": {
    "name": "ipython",
    "version": 3
   },
   "file_extension": ".py",
   "mimetype": "text/x-python",
   "name": "python",
   "nbconvert_exporter": "python",
   "pygments_lexer": "ipython3",
   "version": "3.10.12"
  }
 },
 "nbformat": 4,
 "nbformat_minor": 4
}
